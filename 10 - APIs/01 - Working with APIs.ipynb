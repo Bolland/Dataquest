{
 "cells": [
  {
   "cell_type": "markdown",
   "metadata": {},
   "source": [
    "# Intro \n",
    "\n",
    "Here are a few situations where data sets don't work well:\n",
    "\n",
    "* The data change frequently. It doesn't really make sense to regenerate a data set of stock prices, for example, and download it every minute. This approach would require a lot of bandwidth, and be very slow.\n",
    "* You only want a small piece of a much larger data set. Reddit comments are one example. What if you want to pull just your own comments from reddit? It doesn't make much sense to download the entire reddit database, then filter it for a few items.\n",
    "* It involves repeated computation. For example, Spotify has an API that can tell you the genre of a piece of music. You could theoretically create your own classifier and use it to categorize music, but you'll never have as much data as Spotify does.\n",
    "\n",
    "In cases like these, an application program interface (API) is the right solution. An **API is a set of methods and tools that allows different applications to interact with each other**. Programmers use APIs to query and retrieve data dynamically (which they can then integrate with their own apps). A client can retrieve information quickly and effectively through an API.\n",
    "\n",
    "# API Requests\n",
    "Organizations host their APIs on Web servers. When you type www.google.com in your browser's address bar, your computer is actually asking the www.google.com server for a Web page, which it then returns to your browser.\n",
    "\n",
    "APIs work much the same way, except instead of your Web browser asking for a Web page, your program asks for data. The API usually returns this data in JavaScript Object Notation (JSON) format. We'll discuss JSON more later on in this mission.\n",
    "\n",
    "We use the requests library http://www.python-requests.org/en/latest/ to send requests\n",
    "\n",
    "\n",
    "## GET Requests\n",
    "There are many different types of requests. The most common is a GET request, which we use to retrieve data. We'll explore the other types in later missions.\n",
    "\n",
    "http://open-notify.org/ offers several API endpoints. An **endpoint is a server route for retrieving specific data** from an API. For example, the **/comments endpoint** on the reddit API might retrieve information about **comments**, while the /users endpoint might retrieve data about users.\n",
    "\n",
    "\n",
    "\n"
   ]
  },
  {
   "cell_type": "code",
   "execution_count": 2,
   "metadata": {},
   "outputs": [
    {
     "name": "stdout",
     "output_type": "stream",
     "text": [
      "200\n"
     ]
    }
   ],
   "source": [
    "import requests\n",
    "\n",
    "# Make a get request to get the latest position of the ISS from the OpenNotify API.\n",
    "response = requests.get(\"http://api.open-notify.org/iss-now.json\")\n",
    "\n",
    "status_code = response.status_code\n",
    "print(status_code)"
   ]
  },
  {
   "cell_type": "code",
   "execution_count": 3,
   "metadata": {},
   "outputs": [
    {
     "name": "stdout",
     "output_type": "stream",
     "text": [
      "{\"timestamp\": 1532348377, \"iss_position\": {\"latitude\": \"-47.9044\", \"longitude\": \"-47.1942\"}, \"message\": \"success\"}\n"
     ]
    }
   ],
   "source": [
    "print(response.text)"
   ]
  },
  {
   "cell_type": "code",
   "execution_count": 8,
   "metadata": {},
   "outputs": [
    {
     "name": "stdout",
     "output_type": "stream",
     "text": [
      "{'timestamp': 1532348377, 'iss_position': {'latitude': '-47.9044', 'longitude': '-47.1942'}, 'message': 'success'}\n"
     ]
    }
   ],
   "source": [
    "print(response.json())"
   ]
  },
  {
   "cell_type": "code",
   "execution_count": 10,
   "metadata": {},
   "outputs": [
    {
     "name": "stdout",
     "output_type": "stream",
     "text": [
      "400\n"
     ]
    }
   ],
   "source": [
    "r = requests.get(\"http://api.open-notify.org/iss-pass.json\")\n",
    "status_code = r.status_code\n",
    "print(status_code)"
   ]
  },
  {
   "cell_type": "markdown",
   "metadata": {},
   "source": [
    "### Handling parameters\n",
    "\n",
    "#### Example: ISS Position\n",
    "\n",
    "You'll see that in the last example, we got a `400` status code, which indicates a bad request. If you look at the documentation for the OpenNotify API, we see that the ISS Pass endpoint requires two parameters.\n",
    "\n",
    "This endpoint returns the next time the ISS will pass over a given location on the Earth.\n",
    "\n",
    "To request this information, we'll need to pass the coordinates for a specific location to the API. We do this by passing in two parameters, latitude and longitude.\n",
    "\n",
    "To accomplish this, we can add an optional keyword argument, params, to our request. In this case, we need to pass in **two parameters**:\n",
    "\n",
    "* lat - The latitude of the location\n",
    "* lon - The longitude of the location\n",
    "We can make a **dictionary that contains these parameters**, and then pass them into the function.\n",
    "\n",
    "We can also do the same thing directly by adding the query parameters to the url, like this:\n",
    "http://api.open-notify.org/iss-pass.json?lat=40.71&lon=-74\n",
    "\n",
    "It's almost always **preferable to set up the parameters as a dictionary**, because the requests library we mentioned earlier takes care of certain issues, like properly formatting the query parameters.\n",
    "\n"
   ]
  },
  {
   "cell_type": "code",
   "execution_count": 11,
   "metadata": {},
   "outputs": [
    {
     "name": "stdout",
     "output_type": "stream",
     "text": [
      "b'{\\n  \"message\": \"success\", \\n  \"request\": {\\n    \"altitude\": 100, \\n    \"datetime\": 1532348846, \\n    \"latitude\": 40.71, \\n    \"longitude\": -74.0, \\n    \"passes\": 5\\n  }, \\n  \"response\": [\\n    {\\n      \"duration\": 605, \\n      \"risetime\": 1532389397\\n    }, \\n    {\\n      \"duration\": 628, \\n      \"risetime\": 1532395168\\n    }, \\n    {\\n      \"duration\": 559, \\n      \"risetime\": 1532401035\\n    }, \\n    {\\n      \"duration\": 565, \\n      \"risetime\": 1532406885\\n    }, \\n    {\\n      \"duration\": 635, \\n      \"risetime\": 1532412678\\n    }\\n  ]\\n}\\n'\n"
     ]
    }
   ],
   "source": [
    "parameters = {\"lat\": 40.71, \"lon\": -74}\n",
    "\n",
    "# Make a get request with the parameters.\n",
    "response = requests.get(\"http://api.open-notify.org/iss-pass.json\", params=parameters)\n",
    "\n",
    "# Print the content of the response (the data the server returned)\n",
    "print(response.content)\n"
   ]
  },
  {
   "cell_type": "markdown",
   "metadata": {},
   "source": [
    "### JSON\n",
    "JSON is the **primary format** for sending and receiving data through APIs. This format **encodes data structures like lists and dictionaries as strings** to ensure that machines can read them easily. \n",
    "\n",
    "Python offers **great support for JSON through its json library**. We can convert lists and dictionaries to JSON, and vice versa. Our ISS Pass data, for example, is a dictionary encoded as a string in JSON format.\n",
    "\n",
    "The **JSON library** has two main methods:\n",
    "\n",
    "* **dumps** -- Takes in a Python object, and converts it to a string\n",
    "* **loads** -- Takes a JSON string, and converts it to a Python object\n",
    "\n",
    "We can get the **content of a response as a Python object** by using the `.json()` method on the response.\n",
    "\n",
    "\n"
   ]
  },
  {
   "cell_type": "code",
   "execution_count": 12,
   "metadata": {},
   "outputs": [
    {
     "name": "stdout",
     "output_type": "stream",
     "text": [
      "<class 'dict'>\n",
      "{'message': 'success', 'request': {'altitude': 100, 'datetime': 1532348846, 'latitude': 40.71, 'longitude': -74.0, 'passes': 5}, 'response': [{'duration': 605, 'risetime': 1532389397}, {'duration': 628, 'risetime': 1532395168}, {'duration': 559, 'risetime': 1532401035}, {'duration': 565, 'risetime': 1532406885}, {'duration': 635, 'risetime': 1532412678}]}\n"
     ]
    }
   ],
   "source": [
    "json_data = response.json()\n",
    "print(type(json_data))\n",
    "print(json_data)\n"
   ]
  },
  {
   "cell_type": "code",
   "execution_count": 19,
   "metadata": {},
   "outputs": [
    {
     "name": "stdout",
     "output_type": "stream",
     "text": [
      "605\n"
     ]
    }
   ],
   "source": [
    "# get the duration of the first pass of the ISS\n",
    "print(json_data[\"response\"][0][\"duration\"])"
   ]
  },
  {
   "cell_type": "markdown",
   "metadata": {},
   "source": [
    "### Content type and headers\n",
    "\n",
    "The server sends more than a status code and the data when it generates a response. It also sends **metadata containing information on how it generated the data and how to decode it**. This information **appears in the response headers**. We can access it using the .headers property that responses have.\n",
    "\n",
    "The headers will appear as a dictionary. For now, the content-type within the headers is the most important key. It tells us the format of the response, and how to decode it. For the OpenNotify API, the format is JSON, which is why we could decode it with JSON earlier."
   ]
  },
  {
   "cell_type": "code",
   "execution_count": 20,
   "metadata": {},
   "outputs": [
    {
     "name": "stdout",
     "output_type": "stream",
     "text": [
      "{'Server': 'nginx/1.10.3', 'Date': 'Mon, 23 Jul 2018 12:27:26 GMT', 'Content-Type': 'application/json', 'Content-Length': '519', 'Connection': 'keep-alive', 'Via': '1.1 vegur'}\n"
     ]
    }
   ],
   "source": [
    "print(response.headers)"
   ]
  },
  {
   "cell_type": "code",
   "execution_count": 21,
   "metadata": {},
   "outputs": [
    {
     "name": "stdout",
     "output_type": "stream",
     "text": [
      "<class 'requests.structures.CaseInsensitiveDict'>\n"
     ]
    }
   ],
   "source": [
    "print(type(response.headers))"
   ]
  },
  {
   "cell_type": "code",
   "execution_count": 27,
   "metadata": {},
   "outputs": [
    {
     "name": "stdout",
     "output_type": "stream",
     "text": [
      "application/json\n"
     ]
    }
   ],
   "source": [
    "content_type = response.headers[\"Content-Type\"]\n",
    "\n",
    "print(content_type)"
   ]
  },
  {
   "cell_type": "code",
   "execution_count": null,
   "metadata": {},
   "outputs": [],
   "source": []
  },
  {
   "cell_type": "code",
   "execution_count": null,
   "metadata": {},
   "outputs": [],
   "source": []
  }
 ],
 "metadata": {
  "kernelspec": {
   "display_name": "Python 3",
   "language": "python",
   "name": "python3"
  },
  "language_info": {
   "codemirror_mode": {
    "name": "ipython",
    "version": 3
   },
   "file_extension": ".py",
   "mimetype": "text/x-python",
   "name": "python",
   "nbconvert_exporter": "python",
   "pygments_lexer": "ipython3",
   "version": "3.6.5"
  }
 },
 "nbformat": 4,
 "nbformat_minor": 2
}
