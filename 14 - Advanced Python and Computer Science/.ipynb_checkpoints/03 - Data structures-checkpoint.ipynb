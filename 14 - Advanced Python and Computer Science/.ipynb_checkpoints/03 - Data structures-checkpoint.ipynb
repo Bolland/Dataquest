{
 "cells": [
  {
   "cell_type": "markdown",
   "metadata": {},
   "source": [
    "# Data Structures\n",
    "\n",
    "A data structure is a way of organizing data. The choice of data structure depends on a **few factors**. \n",
    "- The first and most important consideration is the **structure of the data** we're storing. If we want to store a batch of strings with no other related data, we would just use a list.\n",
    "- Another factor to weigh when choosing a data structure is **time efficiency**. Inserting, deleting, or finding items in data structures may take different amounts of time for different data structures, which is important to consider when we want to process data efficiently.\n",
    "\n",
    "## Arrays\n",
    "\n",
    "The most basic data structure is an array. An array is a list that contains items.\n",
    "\n",
    "We can think of computer memory as a long chain of memory slots. Computers store arrays in memory in a very intuitive way. They store the first element of an array right next to the second element, which is next to the third, and so on. Each element in an array occupies a slot in that array. So, in an array of 10 elements, we can say definitively which item is in the first slot, the second slot, etc.\n",
    "\n",
    "Because this storage pattern is **very predictable**, it's **very easy to access** a given element by its index. However, elements all have to be shifted when we delete or add an element to the middle of the list, which can make those **operations quite costly**.\n",
    "\n",
    "We typically can't expand an array beyond its initial size. So, if we create an array of size 10, it can only hold 10 elements.\n",
    "\n",
    "### Dynamic Arrays\n",
    "\n",
    "Dynamic arrays are a flavor of array that we can expand to fit as many elements as we'd like. These are much more useful in data science than fixed-size arrays.\n",
    "\n",
    "#### Complexity\n",
    "\n",
    "\n",
    "\n"
   ]
  },
  {
   "cell_type": "code",
   "execution_count": 1,
   "metadata": {},
   "outputs": [],
   "source": [
    "# Retrieving an item in an array by index\n",
    "retrieval_by_index = \"constant\"\n",
    "\n",
    "# Searching for a value in an unordered array\n",
    "search = \"linear\"\n",
    "\n",
    "# Deleting an item from an array, and filling the gap\n",
    "#     by shifting all later items back by one\n",
    "deletion = \"linear\"\n",
    "\n",
    "# Inserting an item into the array, and shifting forward\n",
    "#     every item that comes after it\n",
    "insertion = \"linear\""
   ]
  },
  {
   "cell_type": "markdown",
   "metadata": {},
   "source": [
    "## Two dimensional arrays\n",
    "\n",
    "A two-dimensional array has a height and a width. Consequently, it also has two indexes. The element in the third row and fourth column of the array arr can be accessed like so:\n",
    "\n"
   ]
  },
  {
   "cell_type": "code",
   "execution_count": 6,
   "metadata": {},
   "outputs": [
    {
     "name": "stdout",
     "output_type": "stream",
     "text": [
      "[[1, 2], [3, 4], [5, 6], [7, 8], [9, 10]]\n"
     ]
    },
    {
     "data": {
      "text/plain": [
       "6"
      ]
     },
     "execution_count": 6,
     "metadata": {},
     "output_type": "execute_result"
    }
   ],
   "source": [
    "arr = [[1,2],[3,4],[5,6],[7,8],[9,10]]\n",
    "print(arr)\n",
    "arr[2][1]"
   ]
  },
  {
   "cell_type": "markdown",
   "metadata": {},
   "source": [
    "In data science, we call 1D arrays **vectors** and 2D arrays **matrices**.\n",
    "\n"
   ]
  },
  {
   "cell_type": "code",
   "execution_count": 21,
   "metadata": {},
   "outputs": [
    {
     "name": "stdout",
     "output_type": "stream",
     "text": [
      "[['blank', 'blank', 'blank', 'blank', 'blank', 'black', 'blank', 'blank'], ['blank', 'blank', 'red', 'blank', 'blank', 'blank', 'blank', 'blank'], ['blank', 'blank', 'blank', 'black', 'blank', 'red', 'blank', 'blank'], ['red', 'blank', 'black', 'blank', 'blank', 'blank', 'red', 'blank'], ['blank', 'blank', 'blank', 'black', 'blank', 'red', 'blank', 'blank'], ['blank', 'blank', 'black', 'blank', 'blank', 'blank', 'blank', 'blank'], ['blank', 'blank', 'blank', 'black', 'blank', 'blank', 'blank', 'blank'], ['blank', 'blank', 'red', 'blank', 'red', 'blank', 'red', 'blank']]\n",
      "1\n",
      "1\n",
      "2\n",
      "2\n",
      "3\n",
      "3\n",
      "4\n",
      "4\n",
      "5\n",
      "5\n",
      "6\n",
      "6\n",
      "7\n",
      "8\n",
      "8\n",
      "6\n"
     ]
    }
   ],
   "source": [
    "checker_board = [['blank', 'blank', 'blank', 'blank', 'blank', 'black', 'blank', 'blank'],\n",
    " ['blank', 'blank', 'red', 'blank', 'blank', 'blank', 'blank', 'blank'],\n",
    " ['blank', 'blank', 'blank', 'black', 'blank', 'red', 'blank', 'blank'],\n",
    " ['red', 'blank', 'black', 'blank', 'blank', 'blank', 'red', 'blank'],\n",
    " ['blank', 'blank', 'blank', 'black', 'blank', 'red', 'blank', 'blank'],\n",
    " ['blank', 'blank', 'black', 'blank', 'blank', 'blank', 'blank', 'blank'],\n",
    " ['blank', 'blank', 'blank', 'black', 'blank', 'blank', 'blank', 'blank'],\n",
    " ['blank', 'blank', 'red', 'blank', 'red', 'blank', 'red', 'blank']]\n",
    "\n",
    "# [[\"red\",\"black\"],[\"red\",\"blank\"],[\"blank\",\"blank\"],[\"red\",\"black\"],[\"red\",\"black\"]]\n",
    "# len(checker_board)\n",
    "\n",
    "red_pieces = 0\n",
    "black_pieces = 0\n",
    "\n",
    "# Find how many red and black pieces there are\n",
    "print(checker_board)\n",
    "\n",
    "for row in checker_board:\n",
    "    for col in row:\n",
    "        if col == \"red\":\n",
    "            red_pieces = red_pieces + 1\n",
    "            print(red_pieces)\n",
    "        elif col == \"black\":\n",
    "            black_pieces = black_pieces +1\n",
    "            print(black_pieces)\n",
    "\n",
    "print(red_pieces)\n",
    "print(black_pieces)"
   ]
  },
  {
   "cell_type": "markdown",
   "metadata": {},
   "source": [
    "### Complexity \n",
    "Accessing by index is constant time because we're really dealing with an array of arrays. Accessing the row is constant time because the row is just an element in a regular array. Then, accessing the element within that row is constant time again. Nothing depends on the size of the array, so it's constant time.\n",
    "\n",
    "Now let's consider searching for an element (accessing by value). Let's call the height of our array m, and the width n. Behind the scenes, we're really working with an array of size m, where each element in the array is an array of size n. This is simply the array-of-arrays implementation we discussed earlier.\n",
    "\n",
    "Let's say we're searching for an element. Under the worst case scenario, we have to touch every slot in the array once to find what we're looking for. Because the array is m rows by n columns, there are m * n total slots. We touch each slot once, so our time complexity is O(m * n).\n",
    "\n",
    "This looks a bit different than the time complexities we've seen before, but we need to remember what time complexity represents. Our input size has both height and width, and the time our search takes increases as either m or n grows. Thus, O(m * n) makes sense for the time complexity of a 2D array traversal.\n",
    "\n",
    "\n",
    "## Dictionaries\n",
    "\n",
    "A hash table is a useful data structure that stores data based on key-value pairs. With a hash table, we use the key to locate the data in the table.\n",
    "\n",
    "One of the most common forms of a hash table is a dictionary, where the keys are almost always strings.\n",
    "\n",
    "### Complexity\n",
    "\n",
    "Behind the scenes, a hash table is just a large array. Recall that accessing the elements in an array by index is very quick. A hash table is a clever construct that takes advantage of this property by converting keys to indexes using a hash function. A hash function **accepts a key as input and converts it to an integer index**. This way, we can find the appropriate index for any key.\n",
    "\n",
    "Imagine we want to store the population of \"New York\". Our hash function takes the string \"New York\", performs some fancy operations on it, and returns an index - let's assume 4955. It then stores the population of New York in slot 4955. When we want to access the population of New York later on, it does exactly the same thing: computes the index, and retrieves the population.\n",
    "\n",
    "Even when we use large arrays, **collisions can still occur**. While there are ways to resolve these collisions, the details aren't really important. Just know that **collisions are inefficient and undesirable, and larger arrays lead to fewer collisions**.\n",
    "\n",
    "Accessing and storing data in hash tables is very quick, so what's the trade-off? Hash tables need to be very large in order to minimize collisions and maximize time efficiency. However, maximizing time efficiency in this case hurts space efficiency. In other words, using a hash table eats up a lot of memory.\n",
    "\n",
    "# Choice of Data structure\n",
    "\n",
    "Deciding which data structure is the best fit for a particular problem is rarely an easy choice. There are a lot of trade-offs to consider. You want to optimize the time your program takes to run while also choosing structures that represent your data well.\n",
    "\n",
    "\n"
   ]
  },
  {
   "cell_type": "code",
   "execution_count": 22,
   "metadata": {},
   "outputs": [],
   "source": [
    "# Scenario A: You need to keep track of people sitting in an auditorium for a play. You'll have to identify which seats are empty, and sell tickets until the auditorium is completely full. How will you store the names of who's sitting where?\n",
    "scenario_A_data_structure = \"2d array\"\n",
    "\n",
    "# Scenario B: You're in charge of maintaining a guest list for a wedding. You're only concerned with a list of who's coming to the party. You have to add someone's name whenever they RSVP that they'll be attending the wedding.\n",
    "scenario_B_data_structure = \"dynamic array\"\n",
    "\n",
    "# Scenario C: Now every person who RSVPs for the wedding indicates which meal they want. You have to keep track of both the person and the meal order. You need to be able to find out what meal a particular person ordered quickly, so the waiters don't delay too long when it comes time to eat.\n",
    "scenario_C_data_structure = \"hash table\""
   ]
  },
  {
   "cell_type": "code",
   "execution_count": null,
   "metadata": {},
   "outputs": [],
   "source": []
  }
 ],
 "metadata": {
  "kernelspec": {
   "display_name": "Python 3",
   "language": "python",
   "name": "python3"
  },
  "language_info": {
   "codemirror_mode": {
    "name": "ipython",
    "version": 3
   },
   "file_extension": ".py",
   "mimetype": "text/x-python",
   "name": "python",
   "nbconvert_exporter": "python",
   "pygments_lexer": "ipython3",
   "version": "3.7.0"
  }
 },
 "nbformat": 4,
 "nbformat_minor": 2
}
