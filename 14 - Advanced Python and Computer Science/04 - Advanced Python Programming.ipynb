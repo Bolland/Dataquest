{
 "cells": [
  {
   "cell_type": "markdown",
   "metadata": {},
   "source": [
    "# Object Oriented Programming\n",
    "\n",
    "## Custom classes\n",
    "\n",
    "\n",
    "We've defined a Player class and set up the default __init__ method to accept a data row as an argument. We made a deliberate choice to split up the logic of players and teams so our code is easy to read and maintain. We also made the convenient choice to initialize our Player instances using a data row. That's because all of the information is present in a row, and it will make it easier to create Player objects from the data set later on."
   ]
  },
  {
   "cell_type": "code",
   "execution_count": 2,
   "metadata": {},
   "outputs": [
    {
     "name": "stdout",
     "output_type": "stream",
     "text": [
      "          player pos  age                   team   g  gs    mp   fg   fga  \\\n",
      "0     Quincy Acy  SF   23                    TOT  63   0   847   66   141   \n",
      "1   Steven Adams   C   20  Oklahoma City Thunder  81  20  1197   93   185   \n",
      "2    Jeff Adrien  PF   27                    TOT  53  12   961  143   275   \n",
      "3  Arron Afflalo  SG   28          Orlando Magic  73  73  2552  464  1011   \n",
      "4  Alexis Ajinca   C   25   New Orleans Pelicans  56  30   951  136   249   \n",
      "\n",
      "     fg.     ...      drb  trb  ast  stl  blk  tov   pf   pts     season  \\\n",
      "0  0.468     ...      144  216   28   23   26   30  122   171  2013-2014   \n",
      "1  0.503     ...      190  332   43   40   57   71  203   265  2013-2014   \n",
      "2  0.520     ...      204  306   38   24   36   39  108   362  2013-2014   \n",
      "3  0.459     ...      230  262  248   35    3  146  136  1330  2013-2014   \n",
      "4  0.546     ...      183  277   40   23   46   63  187   328  2013-2014   \n",
      "\n",
      "   season_end  \n",
      "0        2013  \n",
      "1        2013  \n",
      "2        2013  \n",
      "3        2013  \n",
      "4        2013  \n",
      "\n",
      "[5 rows x 31 columns]\n",
      "<class 'list'>\n",
      "['player', 'pos', 'age', 'team']\n",
      "[['Quincy Acy', 'SF', 23, 'TOT', 63, 0, 847, 66, 141, 0.46799999999999997, 4, 15, 0.266666666666667, 62, 126, 0.49206349206349204, 0.48200000000000004, 35, 53, 0.66, 72, 144, 216, 28, 23, 26, 30, 122, 171, '2013-2014', 2013], ['Steven Adams', 'C', 20, 'Oklahoma City Thunder', 81, 20, 1197, 93, 185, 0.503, 0, 0, nan, 93, 185, 0.502702702702703, 0.503, 79, 136, 0.581, 142, 190, 332, 43, 40, 57, 71, 203, 265, '2013-2014', 2013], ['Jeff Adrien', 'PF', 27, 'TOT', 53, 12, 961, 143, 275, 0.52, 0, 0, nan, 143, 275, 0.52, 0.52, 76, 119, 0.639, 102, 204, 306, 38, 24, 36, 39, 108, 362, '2013-2014', 2013], ['Arron Afflalo', 'SG', 28, 'Orlando Magic', 73, 73, 2552, 464, 1011, 0.45899999999999996, 128, 300, 0.4266666666666671, 336, 711, 0.47257383966244704, 0.522, 274, 336, 0.815, 32, 230, 262, 248, 35, 3, 146, 136, 1330, '2013-2014', 2013], ['Alexis Ajinca', 'C', 25, 'New Orleans Pelicans', 56, 30, 951, 136, 249, 0.546, 0, 1, 0.0, 136, 248, 0.548387096774194, 0.546, 56, 67, 0.836, 94, 183, 277, 40, 23, 46, 63, 187, 328, '2013-2014', 2013]]\n",
      "<class 'list'>\n",
      "<__main__.Team object at 0x117d260b8>\n"
     ]
    }
   ],
   "source": [
    "import pandas as pd\n",
    "nba = pd.read_csv(\"nba_players_2013.csv\")\n",
    "\n",
    "header=['player', 'pos', 'age', 'team']\n",
    "\n",
    "print(nba.head())\n",
    "nba = nba.values.tolist()\n",
    "print(type(nba))\n",
    "\n",
    "print(header)\n",
    "print(nba[:5])\n",
    "print(type(nba))\n",
    "\n",
    "class Player():\n",
    "    # The special __init__ function runs whenever a class is instantiated\n",
    "    # The init function can take arguments, but self is always the first one\n",
    "    # Self is just a reference to the instance of the class\n",
    "    # It is automatically passed in when you instantiate an instance of the class\n",
    "    def __init__(self, data_row):\n",
    "        self.player_name = data_row[0]\n",
    "        self.position = data_row[1]\n",
    "        self.age = data_row[2]\n",
    "        self.team = data_row[3]\n",
    "\n",
    "# Initialize a player using the first row of our data set\n",
    "first_player = Player(nba[0])\n",
    "\n",
    "# Implement the Team class iterating over all players and adding them as Player classes:\n",
    "class Team():\n",
    "    def __init__(self, team_name):\n",
    "        self.team_name = team_name\n",
    "        # Team roster initially empty\n",
    "        self.roster = []\n",
    "        # Find the players for the roster in the data set\n",
    "        for row in nba:\n",
    "            if row[3] == \"San Antonio Spurs\":\n",
    "                self.roster.append(Player(row))\n",
    "\n",
    "                \n",
    "spurs = Team(\"San Antonio Spurs\")\n",
    "print(spurs)\n"
   ]
  },
  {
   "cell_type": "markdown",
   "metadata": {},
   "source": [
    "The Player and Team classes we've defined serve as blueprints that we can use to create instances of these classes. **Classes** and the **instances** of those classes, which are collectively known as **objects**, are fundamental to object-oriented programming.\n",
    "\n",
    "## Instance methods\n",
    "\n",
    "If we want to compute the **average age of the players on a team**, we would write a method for the Team class that does this. However, because this number can be different for each team, we want to make sure the method acts individually on specific instances of the Team class. We call these methods **instance methods**.\n",
    " \n",
    "For method declarations, the **first argument to the method is always** `self`, even though we don't explicitly pass in self when we call the method. self is a reference to the current object we're working with. It's useful when we want to access properties of that object within the method we're defining."
   ]
  },
  {
   "cell_type": "code",
   "execution_count": 3,
   "metadata": {},
   "outputs": [
    {
     "name": "stdout",
     "output_type": "stream",
     "text": [
      "28.428571428571427\n"
     ]
    }
   ],
   "source": [
    "class Team():\n",
    "    def __init__(self, team_name):\n",
    "        self.team_name = team_name\n",
    "        # Team roster initially empty\n",
    "        self.roster = []\n",
    "        # Find the players for the roster in the data set\n",
    "        for row in nba:\n",
    "            if row[3] == self.team_name:\n",
    "                self.roster.append(Player(row))\n",
    "    def num_players(self):\n",
    "        count = 0\n",
    "        for player in self.roster:\n",
    "            count += 1\n",
    "        return count\n",
    "\n",
    "    # Implement the average_age() instance method\n",
    "    def average_age(self):\n",
    "        age_sum = 0\n",
    "        for player in self.roster:\n",
    "            age_sum += player.age\n",
    "        return age_sum / self.num_players()\n",
    "            \n",
    "            \n",
    "spurs = Team(\"San Antonio Spurs\")\n",
    "spurs_num_players = spurs.num_players()\n",
    "\n",
    "spurs_avg_age = spurs.average_age()\n",
    "print(spurs_avg_age)"
   ]
  },
  {
   "cell_type": "markdown",
   "metadata": {},
   "source": [
    "## Class methods\n",
    "\n",
    "In traditional object-oriented programming, everything (yes, everything) is an object. Integers are objects, and so are Booleans. While Python isn't quite this object-oriented, objects are nonetheless abundant in the Python language. For example, the math.floor function is really just a class method for the math class. Class methods act on an entire class, rather than a particular instance of one. We often use them as utility functions.\n",
    "\n",
    "Notice also that we've begun writing a class method for you. The `@classmethod` line that appears above it tells the Python interpreter that the method is a class method. You'll need to follow this pattern whenever you declare class methods."
   ]
  },
  {
   "cell_type": "code",
   "execution_count": 4,
   "metadata": {},
   "outputs": [],
   "source": [
    "import math\n",
    "\n",
    "class Team():\n",
    "    def __init__(self, team_name):\n",
    "        self.team_name = team_name\n",
    "        self.roster = []\n",
    "        for row in nba:\n",
    "            if row[3] == self.team_name:\n",
    "                self.roster.append(Player(row))\n",
    "    \n",
    "    def num_players(self):\n",
    "        count = 0\n",
    "        for player in self.roster:\n",
    "            count += 1\n",
    "        return count\n",
    "   \n",
    "    def average_age(self):\n",
    "        return math.fsum([player.age for player in self.roster]) / self.num_players()\n",
    "    \n",
    "    @classmethod\n",
    "    def older_team(self, team1, team2):\n",
    "        if (team1.average_age() > team2.average_age()):\n",
    "            return team1\n",
    "        else:\n",
    "            return team2\n",
    "\n"
   ]
  },
  {
   "cell_type": "code",
   "execution_count": 5,
   "metadata": {},
   "outputs": [
    {
     "name": "stdout",
     "output_type": "stream",
     "text": [
      "Miami Heat\n"
     ]
    }
   ],
   "source": [
    "old_team = Team.older_team(Team('New York Knicks'),Team('Miami Heat'))\n",
    "print(old_team.team_name)"
   ]
  },
  {
   "cell_type": "markdown",
   "metadata": {},
   "source": [
    "## Inheritance \n",
    "\n",
    "In object-oriented programming, the concept of inheritance enables us to organize classes in a tree-like hierarchy, where the parent class has some traits that it passes on to its descendants. When we define a class, we specify a parent class from which it inherits. Inheriting from a class means that the behavior of the parent also exists in the child, but that the child can still define its own additional behavior.\n",
    "\n",
    "Consider a Player class with generic information about NBA players. This would be very useful because players have a lot of things in common. However, we may also want to add specific behavior for different positions. We can define classes like Center, Forward, or Point Guard, each with behavior that's specific to that position. These classes would each specify Player as its parent class. They would all be siblings -- each would inherit the same behaviors from the Player class, while also having special behaviors of their own.\n",
    "\n",
    "In Python 3, every class is a subclass of a generic object class. While this happens automatically when we don't specify an ancestor, it's sometimes good practice to be explicit. For the remainder of this mission, we'll specify when a class has object as its parent while we code. This is a good programming practice -- if we get into the habit of specifying a class's ancestry, we won't forget to specify a parent when it's something other than object. It's simply a way to form good habits.\n",
    "\n",
    "### Overloading inherited behaviour\n",
    "\n",
    "When a class inherits from a parent class, it acquires all of the behavior of that parent class. There are times when we don't want all of that behavior, though, or want to modify it slightly for our custom class. We use a technique called overloading to accomplish this.\n",
    "\n",
    "Overloading inherited behavior involves assigning new behavior to our custom class. To accomplish this, we just redefine the method on our new class.\n",
    "\n",
    "We'll be altering our Player class to support comparisons that use these operators:\n",
    "\n",
    "These methods already exist in the object class by default, and we've used these operators to compare integers, floating point numbers (decimals), and strings. The operators work because classes like string have implemented them specifically. It's a bit difficult to understand why the object class would need to have these methods, however. The best way to wrap your head around this is through an example.\n",
    "\n",
    "Let's consider the addition operator (+). The object class already defines a method for addition. The sum() function is defined using this addition method, but the object class doesn't really know how to add integers or floating points specifically.\n",
    "\n",
    "However, the integer and float classes define their own addition method (thus overloading the object's addition method), and the sum() function will add the values together properly. This architecture is very powerful, because even though sum() only had to be defined once, we can call it on a multitude of classes and it will result in proper behavior. This is an example of the power of inheritance and overloading."
   ]
  },
  {
   "cell_type": "code",
   "execution_count": 10,
   "metadata": {},
   "outputs": [
    {
     "name": "stdout",
     "output_type": "stream",
     "text": [
      "True\n"
     ]
    }
   ],
   "source": [
    "class Player(object):\n",
    "    # The special __init__ function runs whenever a class is instantiated\n",
    "    # The init function can take arguments, but self is always the first one\n",
    "    # Self is just a reference to the instance of the class\n",
    "    # It is automatically passed in when you instantiate an instance of the class\n",
    "    def __init__(self, data_row):\n",
    "        self.player_name = data_row[0]\n",
    "        self.position = data_row[1]\n",
    "        self.age = int(data_row[2])\n",
    "        self.team = data_row[3]\n",
    "    def __lt__(self, other):\n",
    "        return self.age < other.age\n",
    "    \n",
    "    def __gt__(self,other):\n",
    "        return self.age > other.age\n",
    "    \n",
    "    def __le__(self,other):\n",
    "        return self.age <= other.age\n",
    "    \n",
    "    def __ge__(self,other):\n",
    "        return self.age >= other.age\n",
    "    \n",
    "    def __eq__(self,other):\n",
    "        return self.age == other.age\n",
    "    \n",
    "    def __ne__(self,other):\n",
    "        return self.age != other.age\n",
    "    # Implement the rest of the comparison operators here\n",
    "    \n",
    "\n",
    "carmelo = Player(nba[17])\n",
    "kobe = Player(nba[68])\n",
    "\n",
    "result = (carmelo != kobe)\n",
    "print(result)"
   ]
  },
  {
   "cell_type": "code",
   "execution_count": 13,
   "metadata": {},
   "outputs": [
    {
     "name": "stdout",
     "output_type": "stream",
     "text": [
      "Utah Jazz\n"
     ]
    }
   ],
   "source": [
    "# Compare average ages of teams\n",
    "\n",
    "import math\n",
    "\n",
    "class Team(object):\n",
    "    def __init__(self, team_name):\n",
    "        self.team_name = team_name\n",
    "        self.roster = []\n",
    "        for row in nba:\n",
    "            if row[3] == self.team_name:\n",
    "                self.roster.append(Player(row))\n",
    "    def num_players(self):\n",
    "        count = 0\n",
    "        for player in self.roster:\n",
    "            count += 1\n",
    "        return count\n",
    "    def average_age(self):\n",
    "        return math.fsum([player.age for player in self.roster]) / self.num_players()\n",
    "    # Define operators here\n",
    "    \n",
    "    def __lt__(self,other):\n",
    "        return self.average_age()<other.average_age()\n",
    "    \n",
    "    def __gt__(self,other):\n",
    "        return self.average_age()<other.average_age()\n",
    "\n",
    "    def __le__(self,other):\n",
    "        return self.average_age() <= other.average_age()\n",
    "\n",
    "    def __ge__(self,other):\n",
    "        return self.average_age() >= other.average_age()\n",
    "\n",
    "    def __eq__(self,other):\n",
    "        return self.average_age() == other.average_age()\n",
    "\n",
    "    def __ne__(self,other):\n",
    "        return self.average_age() != other.average_age()\n",
    "\n",
    "    \n",
    "utah = Team('Utah Jazz')\n",
    "detroit = Team('Detroit Pistons')\n",
    "    \n",
    "if utah < detroit:\n",
    "    older_team = detroit\n",
    "else: \n",
    "    older_team = utah\n",
    "    \n",
    "print(older_team.team_name)"
   ]
  },
  {
   "cell_type": "markdown",
   "metadata": {},
   "source": [
    "### Min Max\n",
    "\n",
    "A lot of interesting information is readily available to us now that we've implemented the comparison operations. That's because Python uses these comparisons to implement many utility functions. Now we're able to use those functions to analyze data in a new setting. By overloading methods, we've given ourselves access to powerful functions without having to implement tedious logic."
   ]
  },
  {
   "cell_type": "code",
   "execution_count": 14,
   "metadata": {},
   "outputs": [
    {
     "name": "stdout",
     "output_type": "stream",
     "text": [
      "Miami Heat\n",
      "Philadelphia 76ers\n"
     ]
    }
   ],
   "source": [
    "import math\n",
    "\n",
    "class Team(object):\n",
    "    def __init__(self, team_name):\n",
    "        self.team_name = team_name\n",
    "        self.roster = []\n",
    "        for row in nba:\n",
    "            if row[3] == self.team_name:\n",
    "                self.roster.append(Player(row))\n",
    "    def num_players(self):\n",
    "        count = 0\n",
    "        for player in self.roster:\n",
    "            count += 1\n",
    "        return count\n",
    "    def average_age(self):\n",
    "        return math.fsum([player.age for player in self.roster]) / self.num_players()\n",
    "    def __lt__(self, other):\n",
    "        return self.average_age() < other.average_age()\n",
    "    def __gt__(self, other):\n",
    "        return self.average_age() > other.average_age()\n",
    "    def __le__(self, other):\n",
    "        return self.average_age() <= other.average_age()\n",
    "    def __ge__(self, other):\n",
    "        return self.average_age() >= other.average_age()\n",
    "    def __eq__(self, other):\n",
    "        return self.average_age() == other.average_age()\n",
    "    def __ne__(self, other):\n",
    "        return self.average_age() != other.average_age()\n",
    "\n",
    "team_names = [\"Boston Celtics\", \"Brooklyn Nets\", \"New York Knicks\", \"Philadelphia 76ers\", \"Toronto Raptors\", \n",
    "         \"Chicago Bulls\", \"Cleveland Cavaliers\", \"Detroit Pistons\", \"Indiana Pacers\", \"Milwaukee Bucks\",\n",
    "         \"Atlanta Hawks\", \"Charlotte Hornets\", \"Miami Heat\", \"Orlando Magic\", \"Washington Wizards\",\n",
    "         \"Dallas Mavericks\", \"Houston Rockets\", \"Memphis Grizzlies\", \"New Orleans Pelicans\", \"San Antonio Spurs\",\n",
    "         \"Denver Nuggets\", \"Minnesota Timberwolves\", \"Oklahoma City Thunder\", \"Portland Trail Blazers\", \"Utah Jazz\",\n",
    "         \"Golden State Warriors\", \"Los Angeles Clippers\", \"Los Angeles Lakers\", \"Phoenix Suns\", \"Sacramento Kings\"]\n",
    "\n",
    "# Alter this list comprehension\n",
    "teams = list([Team(name) for name in team_names])\n",
    "\n",
    "oldest_team = max(teams)\n",
    "youngest_team = min(teams)\n",
    "sorted_teams = sorted(teams)\n",
    "\n",
    "print(oldest_team.team_name)\n",
    "print(youngest_team.team_name)"
   ]
  },
  {
   "cell_type": "code",
   "execution_count": null,
   "metadata": {},
   "outputs": [],
   "source": []
  }
 ],
 "metadata": {
  "kernelspec": {
   "display_name": "Python 3",
   "language": "python",
   "name": "python3"
  },
  "language_info": {
   "codemirror_mode": {
    "name": "ipython",
    "version": 3
   },
   "file_extension": ".py",
   "mimetype": "text/x-python",
   "name": "python",
   "nbconvert_exporter": "python",
   "pygments_lexer": "ipython3",
   "version": "3.7.0"
  }
 },
 "nbformat": 4,
 "nbformat_minor": 2
}
