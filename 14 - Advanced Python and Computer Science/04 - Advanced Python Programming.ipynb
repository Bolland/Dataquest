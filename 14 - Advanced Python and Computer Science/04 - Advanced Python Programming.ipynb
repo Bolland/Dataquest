{
 "cells": [
  {
   "cell_type": "markdown",
   "metadata": {},
   "source": [
    "# Object Oriented Programming\n",
    "\n",
    "## Custom classes\n",
    "\n",
    "\n",
    "We've defined a Player class and set up the default __init__ method to accept a data row as an argument. We made a deliberate choice to split up the logic of players and teams so our code is easy to read and maintain. We also made the convenient choice to initialize our Player instances using a data row. That's because all of the information is present in a row, and it will make it easier to create Player objects from the data set later on."
   ]
  },
  {
   "cell_type": "code",
   "execution_count": 2,
   "metadata": {},
   "outputs": [
    {
     "name": "stdout",
     "output_type": "stream",
     "text": [
      "          player pos  age                   team   g  gs    mp   fg   fga  \\\n",
      "0     Quincy Acy  SF   23                    TOT  63   0   847   66   141   \n",
      "1   Steven Adams   C   20  Oklahoma City Thunder  81  20  1197   93   185   \n",
      "2    Jeff Adrien  PF   27                    TOT  53  12   961  143   275   \n",
      "3  Arron Afflalo  SG   28          Orlando Magic  73  73  2552  464  1011   \n",
      "4  Alexis Ajinca   C   25   New Orleans Pelicans  56  30   951  136   249   \n",
      "\n",
      "     fg.     ...      drb  trb  ast  stl  blk  tov   pf   pts     season  \\\n",
      "0  0.468     ...      144  216   28   23   26   30  122   171  2013-2014   \n",
      "1  0.503     ...      190  332   43   40   57   71  203   265  2013-2014   \n",
      "2  0.520     ...      204  306   38   24   36   39  108   362  2013-2014   \n",
      "3  0.459     ...      230  262  248   35    3  146  136  1330  2013-2014   \n",
      "4  0.546     ...      183  277   40   23   46   63  187   328  2013-2014   \n",
      "\n",
      "   season_end  \n",
      "0        2013  \n",
      "1        2013  \n",
      "2        2013  \n",
      "3        2013  \n",
      "4        2013  \n",
      "\n",
      "[5 rows x 31 columns]\n",
      "<class 'list'>\n",
      "['player', 'pos', 'age', 'team']\n",
      "[['Quincy Acy', 'SF', 23, 'TOT', 63, 0, 847, 66, 141, 0.46799999999999997, 4, 15, 0.266666666666667, 62, 126, 0.49206349206349204, 0.48200000000000004, 35, 53, 0.66, 72, 144, 216, 28, 23, 26, 30, 122, 171, '2013-2014', 2013], ['Steven Adams', 'C', 20, 'Oklahoma City Thunder', 81, 20, 1197, 93, 185, 0.503, 0, 0, nan, 93, 185, 0.502702702702703, 0.503, 79, 136, 0.581, 142, 190, 332, 43, 40, 57, 71, 203, 265, '2013-2014', 2013], ['Jeff Adrien', 'PF', 27, 'TOT', 53, 12, 961, 143, 275, 0.52, 0, 0, nan, 143, 275, 0.52, 0.52, 76, 119, 0.639, 102, 204, 306, 38, 24, 36, 39, 108, 362, '2013-2014', 2013], ['Arron Afflalo', 'SG', 28, 'Orlando Magic', 73, 73, 2552, 464, 1011, 0.45899999999999996, 128, 300, 0.4266666666666671, 336, 711, 0.47257383966244704, 0.522, 274, 336, 0.815, 32, 230, 262, 248, 35, 3, 146, 136, 1330, '2013-2014', 2013], ['Alexis Ajinca', 'C', 25, 'New Orleans Pelicans', 56, 30, 951, 136, 249, 0.546, 0, 1, 0.0, 136, 248, 0.548387096774194, 0.546, 56, 67, 0.836, 94, 183, 277, 40, 23, 46, 63, 187, 328, '2013-2014', 2013]]\n",
      "<class 'list'>\n",
      "<__main__.Team object at 0x1185effd0>\n"
     ]
    }
   ],
   "source": [
    "import pandas as pd\n",
    "nba = pd.read_csv(\"nba_players_2013.csv\")\n",
    "\n",
    "header=['player', 'pos', 'age', 'team']\n",
    "\n",
    "print(nba.head())\n",
    "nba = nba.values.tolist()\n",
    "print(type(nba))\n",
    "\n",
    "print(header)\n",
    "print(nba[:5])\n",
    "print(type(nba))\n",
    "\n",
    "class Player():\n",
    "    # The special __init__ function runs whenever a class is instantiated\n",
    "    # The init function can take arguments, but self is always the first one\n",
    "    # Self is just a reference to the instance of the class\n",
    "    # It is automatically passed in when you instantiate an instance of the class\n",
    "    def __init__(self, data_row):\n",
    "        self.player_name = data_row[0]\n",
    "        self.position = data_row[1]\n",
    "        self.age = data_row[2]\n",
    "        self.team = data_row[3]\n",
    "\n",
    "# Initialize a player using the first row of our data set\n",
    "first_player = Player(nba[0])\n",
    "\n",
    "# Implement the Team class iterating over all players and adding them as Player classes:\n",
    "class Team():\n",
    "    def __init__(self, team_name):\n",
    "        self.team_name = team_name\n",
    "        # Team roster initially empty\n",
    "        self.roster = []\n",
    "        # Find the players for the roster in the data set\n",
    "        for row in nba:\n",
    "            if row[3] == \"San Antonio Spurs\":\n",
    "                self.roster.append(Player(row))\n",
    "\n",
    "                \n",
    "spurs = Team(\"San Antonio Spurs\")\n",
    "print(spurs)\n"
   ]
  },
  {
   "cell_type": "markdown",
   "metadata": {},
   "source": [
    "The Player and Team classes we've defined serve as blueprints that we can use to create instances of these classes. **Classes** and the **instances** of those classes, which are collectively known as **objects**, are fundamental to object-oriented programming.\n",
    "\n",
    "## Instance methods\n",
    "\n",
    "If we want to compute the **average age of the players on a team**, we would write a method for the Team class that does this. However, because this number can be different for each team, we want to make sure the method acts individually on specific instances of the Team class. We call these methods **instance methods**.\n",
    " \n",
    "For method declarations, the **first argument to the method is always** `self`, even though we don't explicitly pass in self when we call the method. self is a reference to the current object we're working with. It's useful when we want to access properties of that object within the method we're defining."
   ]
  },
  {
   "cell_type": "code",
   "execution_count": 3,
   "metadata": {},
   "outputs": [
    {
     "name": "stdout",
     "output_type": "stream",
     "text": [
      "28.428571428571427\n"
     ]
    }
   ],
   "source": [
    "class Team():\n",
    "    def __init__(self, team_name):\n",
    "        self.team_name = team_name\n",
    "        # Team roster initially empty\n",
    "        self.roster = []\n",
    "        # Find the players for the roster in the data set\n",
    "        for row in nba:\n",
    "            if row[3] == self.team_name:\n",
    "                self.roster.append(Player(row))\n",
    "    def num_players(self):\n",
    "        count = 0\n",
    "        for player in self.roster:\n",
    "            count += 1\n",
    "        return count\n",
    "\n",
    "    # Implement the average_age() instance method\n",
    "    def average_age(self):\n",
    "        age_sum = 0\n",
    "        for player in self.roster:\n",
    "            age_sum += player.age\n",
    "        return age_sum / self.num_players()\n",
    "            \n",
    "            \n",
    "spurs = Team(\"San Antonio Spurs\")\n",
    "spurs_num_players = spurs.num_players()\n",
    "\n",
    "spurs_avg_age = spurs.average_age()\n",
    "print(spurs_avg_age)"
   ]
  },
  {
   "cell_type": "markdown",
   "metadata": {},
   "source": [
    "## Class methods\n",
    "\n",
    "In traditional object-oriented programming, everything (yes, everything) is an object. Integers are objects, and so are Booleans. While Python isn't quite this object-oriented, objects are nonetheless abundant in the Python language. For example, the math.floor function is really just a class method for the math class. Class methods act on an entire class, rather than a particular instance of one. We often use them as utility functions.\n",
    "\n",
    "Notice also that we've begun writing a class method for you. The `@classmethod` line that appears above it tells the Python interpreter that the method is a class method. You'll need to follow this pattern whenever you declare class methods."
   ]
  },
  {
   "cell_type": "code",
   "execution_count": 4,
   "metadata": {},
   "outputs": [],
   "source": [
    "import math\n",
    "\n",
    "class Team():\n",
    "    def __init__(self, team_name):\n",
    "        self.team_name = team_name\n",
    "        self.roster = []\n",
    "        for row in nba:\n",
    "            if row[3] == self.team_name:\n",
    "                self.roster.append(Player(row))\n",
    "    \n",
    "    def num_players(self):\n",
    "        count = 0\n",
    "        for player in self.roster:\n",
    "            count += 1\n",
    "        return count\n",
    "   \n",
    "    def average_age(self):\n",
    "        return math.fsum([player.age for player in self.roster]) / self.num_players()\n",
    "    \n",
    "    @classmethod\n",
    "    def older_team(self, team1, team2):\n",
    "        if (team1.average_age() > team2.average_age()):\n",
    "            return team1\n",
    "        else:\n",
    "            return team2\n",
    "\n"
   ]
  },
  {
   "cell_type": "code",
   "execution_count": 5,
   "metadata": {},
   "outputs": [
    {
     "name": "stdout",
     "output_type": "stream",
     "text": [
      "Miami Heat\n"
     ]
    }
   ],
   "source": [
    "old_team = Team.older_team(Team('New York Knicks'),Team('Miami Heat'))\n",
    "print(old_team.team_name)"
   ]
  },
  {
   "cell_type": "markdown",
   "metadata": {},
   "source": [
    "## Inheritance \n",
    "\n",
    "In object-oriented programming, the concept of inheritance enables us to organize classes in a tree-like hierarchy, where the parent class has some traits that it passes on to its descendants. When we define a class, we specify a parent class from which it inherits. Inheriting from a class means that the behavior of the parent also exists in the child, but that the child can still define its own additional behavior.\n",
    "\n",
    "Consider a Player class with generic information about NBA players. This would be very useful because players have a lot of things in common. However, we may also want to add specific behavior for different positions. We can define classes like Center, Forward, or Point Guard, each with behavior that's specific to that position. These classes would each specify Player as its parent class. They would all be siblings -- each would inherit the same behaviors from the Player class, while also having special behaviors of their own.\n",
    "\n",
    "In Python 3, every class is a subclass of a generic object class. While this happens automatically when we don't specify an ancestor, it's sometimes good practice to be explicit. For the remainder of this mission, we'll specify when a class has object as its parent while we code. This is a good programming practice -- if we get into the habit of specifying a class's ancestry, we won't forget to specify a parent when it's something other than object. It's simply a way to form good habits.\n",
    "\n",
    "### Overloading inherited behaviour\n",
    "\n",
    "When a class inherits from a parent class, it acquires all of the behavior of that parent class. There are times when we don't want all of that behavior, though, or want to modify it slightly for our custom class. We use a technique called overloading to accomplish this.\n",
    "\n",
    "Overloading inherited behavior involves assigning new behavior to our custom class. To accomplish this, we just redefine the method on our new class.\n",
    "\n",
    "We'll be altering our Player class to support comparisons that use these operators:\n",
    "\n",
    "These methods already exist in the object class by default, and we've used these operators to compare integers, floating point numbers (decimals), and strings. The operators work because classes like string have implemented them specifically. It's a bit difficult to understand why the object class would need to have these methods, however. The best way to wrap your head around this is through an example.\n",
    "\n",
    "Let's consider the addition operator (+). The object class already defines a method for addition. The sum() function is defined using this addition method, but the object class doesn't really know how to add integers or floating points specifically.\n",
    "\n",
    "However, the integer and float classes define their own addition method (thus overloading the object's addition method), and the sum() function will add the values together properly. This architecture is very powerful, because even though sum() only had to be defined once, we can call it on a multitude of classes and it will result in proper behavior. This is an example of the power of inheritance and overloading."
   ]
  },
  {
   "cell_type": "code",
   "execution_count": 6,
   "metadata": {},
   "outputs": [
    {
     "name": "stdout",
     "output_type": "stream",
     "text": [
      "True\n"
     ]
    }
   ],
   "source": [
    "class Player(object):\n",
    "    # The special __init__ function runs whenever a class is instantiated\n",
    "    # The init function can take arguments, but self is always the first one\n",
    "    # Self is just a reference to the instance of the class\n",
    "    # It is automatically passed in when you instantiate an instance of the class\n",
    "    def __init__(self, data_row):\n",
    "        self.player_name = data_row[0]\n",
    "        self.position = data_row[1]\n",
    "        self.age = int(data_row[2])\n",
    "        self.team = data_row[3]\n",
    "    def __lt__(self, other):\n",
    "        return self.age < other.age\n",
    "    \n",
    "    def __gt__(self,other):\n",
    "        return self.age > other.age\n",
    "    \n",
    "    def __le__(self,other):\n",
    "        return self.age <= other.age\n",
    "    \n",
    "    def __ge__(self,other):\n",
    "        return self.age >= other.age\n",
    "    \n",
    "    def __eq__(self,other):\n",
    "        return self.age == other.age\n",
    "    \n",
    "    def __ne__(self,other):\n",
    "        return self.age != other.age\n",
    "    # Implement the rest of the comparison operators here\n",
    "    \n",
    "\n",
    "carmelo = Player(nba[17])\n",
    "kobe = Player(nba[68])\n",
    "\n",
    "result = (carmelo != kobe)\n",
    "print(result)"
   ]
  },
  {
   "cell_type": "code",
   "execution_count": 7,
   "metadata": {},
   "outputs": [
    {
     "name": "stdout",
     "output_type": "stream",
     "text": [
      "Utah Jazz\n"
     ]
    }
   ],
   "source": [
    "# Compare average ages of teams\n",
    "\n",
    "import math\n",
    "\n",
    "class Team(object):\n",
    "    def __init__(self, team_name):\n",
    "        self.team_name = team_name\n",
    "        self.roster = []\n",
    "        for row in nba:\n",
    "            if row[3] == self.team_name:\n",
    "                self.roster.append(Player(row))\n",
    "    def num_players(self):\n",
    "        count = 0\n",
    "        for player in self.roster:\n",
    "            count += 1\n",
    "        return count\n",
    "    def average_age(self):\n",
    "        return math.fsum([player.age for player in self.roster]) / self.num_players()\n",
    "    # Define operators here\n",
    "    \n",
    "    def __lt__(self,other):\n",
    "        return self.average_age()<other.average_age()\n",
    "    \n",
    "    def __gt__(self,other):\n",
    "        return self.average_age()<other.average_age()\n",
    "\n",
    "    def __le__(self,other):\n",
    "        return self.average_age() <= other.average_age()\n",
    "\n",
    "    def __ge__(self,other):\n",
    "        return self.average_age() >= other.average_age()\n",
    "\n",
    "    def __eq__(self,other):\n",
    "        return self.average_age() == other.average_age()\n",
    "\n",
    "    def __ne__(self,other):\n",
    "        return self.average_age() != other.average_age()\n",
    "\n",
    "    \n",
    "utah = Team('Utah Jazz')\n",
    "detroit = Team('Detroit Pistons')\n",
    "    \n",
    "if utah < detroit:\n",
    "    older_team = detroit\n",
    "else: \n",
    "    older_team = utah\n",
    "    \n",
    "print(older_team.team_name)"
   ]
  },
  {
   "cell_type": "markdown",
   "metadata": {},
   "source": [
    "### Min Max\n",
    "\n",
    "A lot of interesting information is readily available to us now that we've implemented the comparison operations. That's because Python uses these comparisons to implement many utility functions. Now we're able to use those functions to analyze data in a new setting. By overloading methods, we've given ourselves access to powerful functions without having to implement tedious logic."
   ]
  },
  {
   "cell_type": "code",
   "execution_count": 8,
   "metadata": {},
   "outputs": [
    {
     "name": "stdout",
     "output_type": "stream",
     "text": [
      "Miami Heat\n",
      "Philadelphia 76ers\n"
     ]
    }
   ],
   "source": [
    "import math\n",
    "\n",
    "class Team(object):\n",
    "    def __init__(self, team_name):\n",
    "        self.team_name = team_name\n",
    "        self.roster = []\n",
    "        for row in nba:\n",
    "            if row[3] == self.team_name:\n",
    "                self.roster.append(Player(row))\n",
    "    def num_players(self):\n",
    "        count = 0\n",
    "        for player in self.roster:\n",
    "            count += 1\n",
    "        return count\n",
    "    def average_age(self):\n",
    "        return math.fsum([player.age for player in self.roster]) / self.num_players()\n",
    "    def __lt__(self, other):\n",
    "        return self.average_age() < other.average_age()\n",
    "    def __gt__(self, other):\n",
    "        return self.average_age() > other.average_age()\n",
    "    def __le__(self, other):\n",
    "        return self.average_age() <= other.average_age()\n",
    "    def __ge__(self, other):\n",
    "        return self.average_age() >= other.average_age()\n",
    "    def __eq__(self, other):\n",
    "        return self.average_age() == other.average_age()\n",
    "    def __ne__(self, other):\n",
    "        return self.average_age() != other.average_age()\n",
    "\n",
    "team_names = [\"Boston Celtics\", \"Brooklyn Nets\", \"New York Knicks\", \"Philadelphia 76ers\", \"Toronto Raptors\", \n",
    "         \"Chicago Bulls\", \"Cleveland Cavaliers\", \"Detroit Pistons\", \"Indiana Pacers\", \"Milwaukee Bucks\",\n",
    "         \"Atlanta Hawks\", \"Charlotte Hornets\", \"Miami Heat\", \"Orlando Magic\", \"Washington Wizards\",\n",
    "         \"Dallas Mavericks\", \"Houston Rockets\", \"Memphis Grizzlies\", \"New Orleans Pelicans\", \"San Antonio Spurs\",\n",
    "         \"Denver Nuggets\", \"Minnesota Timberwolves\", \"Oklahoma City Thunder\", \"Portland Trail Blazers\", \"Utah Jazz\",\n",
    "         \"Golden State Warriors\", \"Los Angeles Clippers\", \"Los Angeles Lakers\", \"Phoenix Suns\", \"Sacramento Kings\"]\n",
    "\n",
    "# Alter this list comprehension\n",
    "teams = list([Team(name) for name in team_names])\n",
    "\n",
    "oldest_team = max(teams)\n",
    "youngest_team = min(teams)\n",
    "sorted_teams = sorted(teams)\n",
    "\n",
    "print(oldest_team.team_name)\n",
    "print(youngest_team.team_name)"
   ]
  },
  {
   "cell_type": "markdown",
   "metadata": {},
   "source": [
    "# Exception handling\n",
    "\n"
   ]
  },
  {
   "cell_type": "code",
   "execution_count": 9,
   "metadata": {},
   "outputs": [
    {
     "name": "stdout",
     "output_type": "stream",
     "text": [
      "[19.55, 1.0, 180.0]\n",
      "19.55\n",
      "1\n",
      "180\n"
     ]
    }
   ],
   "source": [
    "import pandas as pd\n",
    "chopsticks = pd.read_csv(\"chopsticks.csv\")\n",
    "\n",
    "chopsticks = chopsticks.values.tolist()\n",
    "\n",
    "# Define the Trial class here\n",
    "print(chopsticks[0])\n",
    "\n",
    "\n",
    "class Trial(object):\n",
    "    def __init__(self, data_row):\n",
    "        self.efficiency = float(data_row[0])\n",
    "        self.individual = int(data_row[1])\n",
    "        self.chopstick_length = int(data_row[2])\n",
    "        \n",
    "first_trial = Trial(chopsticks[0])\n",
    "print(first_trial.efficiency)\n",
    "print(first_trial.individual)\n",
    "print(first_trial.chopstick_length)"
   ]
  },
  {
   "cell_type": "code",
   "execution_count": 10,
   "metadata": {},
   "outputs": [
    {
     "name": "stdout",
     "output_type": "stream",
     "text": [
      "100\n"
     ]
    }
   ],
   "source": [
    "# Define the Chopstick class here\n",
    "\n",
    "class Chopstick(object):\n",
    "    def __init__(self, length):\n",
    "        self.length = int(length)\n",
    "\n",
    "        \n",
    "\n",
    "mini_chopstick = Chopstick(100)\n",
    "print(mini_chopstick.length)"
   ]
  },
  {
   "cell_type": "code",
   "execution_count": 11,
   "metadata": {},
   "outputs": [
    {
     "name": "stdout",
     "output_type": "stream",
     "text": [
      "[[21.34, 1.0, 240.0], [29.94, 2.0, 240.0], [32.95, 3.0, 240.0], [29.4, 4.0, 240.0], [22.32, 5.0, 240.0], [28.36, 6.0, 240.0], [28.49, 7.0, 240.0], [22.24, 8.0, 240.0], [36.15, 9.0, 240.0], [30.62, 10.0, 240.0], [26.53, 11.0, 240.0], [27.95, 12.0, 240.0], [31.49, 13.0, 240.0], [30.24, 14.0, 240.0], [24.8, 15.0, 240.0], [26.43, 16.0, 240.0], [29.35, 17.0, 240.0], [21.15, 18.0, 240.0], [29.18, 19.0, 240.0], [21.6, 20.0, 240.0], [25.39, 21.0, 240.0], [22.26, 22.0, 240.0], [24.85, 23.0, 240.0], [24.56, 24.0, 240.0], [16.35, 25.0, 240.0], [22.96, 26.0, 240.0], [25.82, 27.0, 240.0], [19.46, 28.0, 240.0], [23.6, 29.0, 240.0], [33.1, 30.0, 240.0], [27.13, 31.0, 240.0]]\n"
     ]
    }
   ],
   "source": [
    "class Chopstick(object):\n",
    "    def __init__(self, length):\n",
    "        self.length = length\n",
    "        # Start our trial list empty\n",
    "        self.trials = []\n",
    "        # Now, fill our list with relevant trials\n",
    "        for row in chopsticks:\n",
    "            if int(row[2]) == self.length:\n",
    "                self.trials.append(row)\n",
    "\n",
    "medium_chopstick = Chopstick(240) \n",
    "print(medium_chopstick.trials)"
   ]
  },
  {
   "cell_type": "markdown",
   "metadata": {},
   "source": [
    "## Try Except\n",
    "Typically when we write Python code, the interpreter will raise an exception (report an error) and then continue executing the rest of the code. We'll see the exception, but our program will keep running as if it never happened. This is undesireable, because our program probably relies on the previous statements to succeed.\n",
    "\n",
    "We want to handle exceptions by observing when they occur and reacting to them accordingly instead. This way, every piece of code that executes is deliberate, and we have complete control over what our program does. In Python, we use a try-except block to handle exceptions. Consider this piece of code:\n",
    "\n"
   ]
  },
  {
   "cell_type": "code",
   "execution_count": 12,
   "metadata": {},
   "outputs": [
    {
     "name": "stdout",
     "output_type": "stream",
     "text": [
      "Cannot convert string to integer\n"
     ]
    }
   ],
   "source": [
    "try:\n",
    "    impossible_value = int(\"Not an integer\")\n",
    "except ValueError:\n",
    "    print(\"Cannot convert string to integer\")"
   ]
  },
  {
   "cell_type": "markdown",
   "metadata": {},
   "source": [
    "When the Python interpreter sees this code, it attempts to execute the try section of the statement. If the interpreter raises any exceptions within the try section (if we hit some sort of error), our code will attempt to catch it, or handle it gracefully with different code. In our example, the except statement is that different code. It will catch the exception and print out our message because we anticipated that a ValueError could occur, and built the error handling in.\n",
    "\n"
   ]
  },
  {
   "cell_type": "code",
   "execution_count": 13,
   "metadata": {},
   "outputs": [
    {
     "name": "stdout",
     "output_type": "stream",
     "text": [
      "Could not read file\n"
     ]
    }
   ],
   "source": [
    "try:\n",
    "    f = open(\"data.txt\", \"r\")\n",
    "    s = f.readline()\n",
    "    i = float(s)\n",
    "except ValueError:\n",
    "    print(\"Cannot convert data to floating point value\")\n",
    "except IOError:\n",
    "    print(\"Could not read file\")"
   ]
  },
  {
   "cell_type": "markdown",
   "metadata": {},
   "source": [
    "With Python, we have the ability to catch any exception by writing an except: section without specifying a particular error. This is a sort of \"catch-all\" that works like an else: section. Using a catch-all for exceptions is usually bad practice, however. Trying to catch every exception without being specific is dangerous because then we can't execute exception-specific logic, and it means we may not understand our code as fully as we should.\n",
    "\n"
   ]
  },
  {
   "cell_type": "code",
   "execution_count": 14,
   "metadata": {},
   "outputs": [],
   "source": [
    "class Trial(object):\n",
    "    def __init__(self, datarow):\n",
    "        try:\n",
    "            self.efficiency = float(datarow[0])\n",
    "        except ValueError:\n",
    "            self.efficiency = -1\n",
    "        try:\n",
    "            self.individual = int(datarow[1])\n",
    "        except ValueError:\n",
    "            self.individual = -1\n",
    "        try:\n",
    "            self.chopstick_length = int(datarow[2])\n",
    "        except ValueError:\n",
    "            self.chopstick_length = -1\n",
    "  \n",
    "chopsticks.append(['Not a float', 'Individual', 'Length'])\n",
    "\n",
    "bad_trial = Trial(chopsticks[-1])"
   ]
  },
  {
   "cell_type": "code",
   "execution_count": 15,
   "metadata": {},
   "outputs": [
    {
     "name": "stdout",
     "output_type": "stream",
     "text": [
      "-1\n"
     ]
    }
   ],
   "source": [
    "print(bad_trial.efficiency)"
   ]
  },
  {
   "cell_type": "code",
   "execution_count": 16,
   "metadata": {},
   "outputs": [
    {
     "name": "stdout",
     "output_type": "stream",
     "text": [
      "-1\n"
     ]
    }
   ],
   "source": [
    "print(bad_trial.chopstick_length)"
   ]
  },
  {
   "cell_type": "code",
   "execution_count": 17,
   "metadata": {},
   "outputs": [
    {
     "name": "stdout",
     "output_type": "stream",
     "text": [
      "[[19.55, 1.0, 180.0], [27.24, 2.0, 180.0], [28.76, 3.0, 180.0], [31.19, 4.0, 180.0], [21.91, 5.0, 180.0], [27.62, 6.0, 180.0], [29.46, 7.0, 180.0], [26.35, 8.0, 180.0], [26.69, 9.0, 180.0], [30.22, 10.0, 180.0], [27.81, 11.0, 180.0], [23.46, 12.0, 180.0], [23.64, 13.0, 180.0], [27.85, 14.0, 180.0], [20.62, 15.0, 180.0], [25.35, 16.0, 180.0], [28.0, 17.0, 180.0], [23.49, 18.0, 180.0], [27.77, 19.0, 180.0], [18.48, 20.0, 180.0], [23.01, 21.0, 180.0], [22.66, 22.0, 180.0], [23.24, 23.0, 180.0], [22.82, 24.0, 180.0], [17.94, 25.0, 180.0], [26.67, 26.0, 180.0], [28.98, 27.0, 180.0], [21.48, 28.0, 180.0], [14.47, 29.0, 180.0], [28.29, 30.0, 180.0], [27.97, 31.0, 180.0], [23.53, 1.0, 210.0], [26.39, 2.0, 210.0], [30.9, 3.0, 210.0], [26.05, 4.0, 210.0], [23.27, 5.0, 210.0], [29.17, 6.0, 210.0], [30.93, 7.0, 210.0], [17.55, 8.0, 210.0], [32.55, 9.0, 210.0], [28.87, 10.0, 210.0], [26.53, 11.0, 210.0], [25.26, 12.0, 210.0], [25.65, 13.0, 210.0], [29.39, 14.0, 210.0], [23.26, 15.0, 210.0], [24.77, 16.0, 210.0], [25.42, 17.0, 210.0], [23.65, 18.0, 210.0], [32.22, 19.0, 210.0], [18.86, 20.0, 210.0], [21.75, 21.0, 210.0], [23.07, 22.0, 210.0], [22.3, 23.0, 210.0], [27.04, 24.0, 210.0], [22.24, 25.0, 210.0], [24.87, 26.0, 210.0], [30.85, 27.0, 210.0], [21.15, 28.0, 210.0], [16.47, 29.0, 210.0], [29.05, 30.0, 210.0], [26.99, 31.0, 210.0], [21.34, 1.0, 240.0], [29.94, 2.0, 240.0], [32.95, 3.0, 240.0], [29.4, 4.0, 240.0], [22.32, 5.0, 240.0], [28.36, 6.0, 240.0], [28.49, 7.0, 240.0], [22.24, 8.0, 240.0], [36.15, 9.0, 240.0], [30.62, 10.0, 240.0], [26.53, 11.0, 240.0], [27.95, 12.0, 240.0], [31.49, 13.0, 240.0], [30.24, 14.0, 240.0], [24.8, 15.0, 240.0], [26.43, 16.0, 240.0], [29.35, 17.0, 240.0], [21.15, 18.0, 240.0], [29.18, 19.0, 240.0], [21.6, 20.0, 240.0], [25.39, 21.0, 240.0], [22.26, 22.0, 240.0], [24.85, 23.0, 240.0], [24.56, 24.0, 240.0], [16.35, 25.0, 240.0], [22.96, 26.0, 240.0], [25.82, 27.0, 240.0], [19.46, 28.0, 240.0], [23.6, 29.0, 240.0], [33.1, 30.0, 240.0], [27.13, 31.0, 240.0], [24.4, 1.0, 270.0], [25.88, 2.0, 270.0], [27.97, 3.0, 270.0], [24.54, 4.0, 270.0], [22.66, 5.0, 270.0], [28.94, 6.0, 270.0], [30.72, 7.0, 270.0], [16.7, 8.0, 270.0], [30.27, 9.0, 270.0], [26.29, 10.0, 270.0], [22.33, 11.0, 270.0], [24.85, 12.0, 270.0], [24.33, 13.0, 270.0], [24.5, 14.0, 270.0], [22.67, 15.0, 270.0], [22.28, 16.0, 270.0], [23.8, 17.0, 270.0], [25.36, 18.0, 270.0], [29.5, 19.0, 270.0], [20.19, 20.0, 270.0], [20.14, 21.0, 270.0], [21.09, 22.0, 270.0], [24.78, 23.0, 270.0], [24.74, 24.0, 270.0], [22.73, 25.0, 270.0], [21.08, 26.0, 270.0], [25.7, 27.0, 270.0], [19.79, 28.0, 270.0], [16.82, 29.0, 270.0], [31.15, 30.0, 270.0], [27.84, 31.0, 270.0], [22.5, 1.0, 300.0], [23.1, 2.0, 300.0], [28.26, 3.0, 300.0], [25.55, 4.0, 300.0], [16.71, 5.0, 300.0], [27.88, 6.0, 300.0], [31.07, 7.0, 300.0], [23.44, 8.0, 300.0], [28.82, 9.0, 300.0], [27.77, 10.0, 300.0], [24.54, 11.0, 300.0], [24.55, 12.0, 300.0], [27.78, 13.0, 300.0], [26.14, 14.0, 300.0], [23.44, 15.0, 300.0], [26.44, 16.0, 300.0], [27.47, 17.0, 300.0], [24.94, 18.0, 300.0], [29.68, 19.0, 300.0], [24.33, 20.0, 300.0], [25.42, 21.0, 300.0], [24.64, 22.0, 300.0], [22.78, 23.0, 300.0], [26.5, 24.0, 300.0], [18.71, 25.0, 300.0], [22.86, 26.0, 300.0], [25.09, 27.0, 300.0], [19.72, 28.0, 300.0], [17.05, 29.0, 300.0], [30.91, 30.0, 300.0], [25.92, 31.0, 300.0], [21.32, 1.0, 330.0], [26.18, 2.0, 330.0], [25.93, 3.0, 330.0], [28.61, 4.0, 330.0], [20.54, 5.0, 330.0], [26.44, 6.0, 330.0], [29.36, 7.0, 330.0], [19.77, 8.0, 330.0], [31.69, 9.0, 330.0], [24.64, 10.0, 330.0], [22.09, 11.0, 330.0], [23.42, 12.0, 330.0], [28.63, 13.0, 330.0], [26.3, 14.0, 330.0], [22.89, 15.0, 330.0], [22.68, 16.0, 330.0], [30.92, 17.0, 330.0], [20.74, 18.0, 330.0], [27.24, 19.0, 330.0], [17.12, 20.0, 330.0], [23.63, 21.0, 330.0], [20.91, 22.0, 330.0], [23.49, 23.0, 330.0], [24.86, 24.0, 330.0], [16.28, 25.0, 330.0], [21.52, 26.0, 330.0], [27.22, 27.0, 330.0], [17.41, 28.0, 330.0], [16.42, 29.0, 330.0], [28.22, 30.0, 330.0], [27.52, 31.0, 330.0]]\n"
     ]
    }
   ],
   "source": [
    "chopsticks.pop()\n",
    "\n",
    "class Chopstick(object):\n",
    "    def __init__(self, length):\n",
    "        self.length = length\n",
    "        self.trials = []\n",
    "        for row in chopsticks:\n",
    "            if int(row[2]) == self.length:\n",
    "                tta = Trial(row)\n",
    "                if (tta.efficiency != -1) and (tta.individual != -1) and (tta.chopstick_length != -1):\n",
    "                    self.trials.append(tta)\n",
    "    def num_trials(self):\n",
    "        return len(self.trials)\n",
    "    def avg_efficiency(self):\n",
    "        efficiency_sum = 0\n",
    "        for trial in self.trials:\n",
    "            efficiency_sum += trial.efficiency\n",
    "        return efficiency_sum / self.num_trials()\n",
    "print(chopsticks)\n",
    "bad_chopstick = Chopstick(400)"
   ]
  },
  {
   "cell_type": "code",
   "execution_count": 18,
   "metadata": {},
   "outputs": [
    {
     "name": "stdout",
     "output_type": "stream",
     "text": [
      "[]\n"
     ]
    }
   ],
   "source": [
    "print(bad_chopstick.trials)"
   ]
  },
  {
   "cell_type": "markdown",
   "metadata": {},
   "source": [
    "When we try to find the average efficiency for a chopstick length that isn't in our data set, we end up dividing by zero in our avg_efficiency method. Fortunately, this throws a exception, and we can catch it.\n",
    "\n"
   ]
  },
  {
   "cell_type": "code",
   "execution_count": 19,
   "metadata": {},
   "outputs": [
    {
     "name": "stdout",
     "output_type": "stream",
     "text": [
      "-1\n"
     ]
    }
   ],
   "source": [
    "class Trial(object):\n",
    "    def __init__(self, datarow):\n",
    "        try:\n",
    "            self.efficiency = float(datarow[0])\n",
    "            self.individual = int(datarow[1])\n",
    "            self.chopstick_length = int(datarow[2])\n",
    "        except:\n",
    "            self.efficiency = -1\n",
    "            self.individual = -1\n",
    "            self.chopstick_length = -1\n",
    "\n",
    "class Chopstick(object):\n",
    "    def __init__(self, length):\n",
    "        self.length = length\n",
    "        self.trials = []\n",
    "        for row in chopsticks:\n",
    "            if int(row[2]) == self.length:\n",
    "                trial = Trial(row)\n",
    "                if trial.individual >= 0:\n",
    "                    self.trials.append(trial)\n",
    "    def num_trials(self):\n",
    "        return len(self.trials)\n",
    "    def avg_efficiency(self):\n",
    "        efficiency_sum = 0\n",
    "        for trial in self.trials:\n",
    "            efficiency_sum += trial.efficiency\n",
    "        try:\n",
    "            return efficiency_sum / self.num_trials()\n",
    "        except ZeroDivisionError:\n",
    "            return -1\n",
    "\n",
    "\n",
    "bad_average = Chopstick(100).avg_efficiency()\n",
    "print(bad_average)"
   ]
  },
  {
   "cell_type": "code",
   "execution_count": 32,
   "metadata": {},
   "outputs": [],
   "source": [
    "# Checking for the best chopstick length\n",
    "\n",
    "chopstick_lengths = [180, 195, 210, 225, 240, 255, 270, 285, 300, 315, 330]\n",
    "\n",
    "#Use a list comprehension to convert the list of chopstick lengths into a list of Chopstick instances.\n",
    "# Store the resulting list in chopstick_list.\n",
    "\n",
    "chopstick_list = [Chopstick(length) for length in chopstick_lengths]\n"
   ]
  },
  {
   "cell_type": "code",
   "execution_count": 35,
   "metadata": {},
   "outputs": [
    {
     "name": "stdout",
     "output_type": "stream",
     "text": [
      "<__main__.Chopstick object at 0x11184a860>\n"
     ]
    }
   ],
   "source": [
    "class Trial(object):\n",
    "    def __init__(self, datarow):\n",
    "        try:\n",
    "            self.efficiency = float(datarow[0])\n",
    "            self.individual = int(datarow[1])\n",
    "            self.chopstick_length = int(datarow[2])\n",
    "        except:\n",
    "            self.efficiency = -1\n",
    "            self.individual = -1\n",
    "            self.chopstick_length = -1\n",
    "\n",
    "class Chopstick(object):\n",
    "    def __init__(self, length):\n",
    "        self.length = length\n",
    "        self.trials = []\n",
    "        for row in chopsticks:\n",
    "            if int(row[2]) == self.length:\n",
    "                trial = Trial(row)\n",
    "                if trial.individual >= 0:\n",
    "                    self.trials.append(trial)\n",
    "                    \n",
    "                    \n",
    "    def __lt__(self,other):\n",
    "        return self.avg_efficiency() < other.avg_efficiency()\n",
    "    \n",
    "    def __gt__(self,other):\n",
    "        return self.avg_efficiency() > other.avg_efficiency()\n",
    "    \n",
    "    def __le__(self,other):\n",
    "        return self.avg_efficiency() <= other.avg_efficiency()\n",
    "    \n",
    "    def __ge__(self,other):\n",
    "        return self.avg_efficiency() >= other.avg_efficiency()\n",
    "    \n",
    "    \n",
    "    def __eq__(self,other):\n",
    "        return self.avg_efficiency() == other.avg_efficiency()\n",
    "    def __ne__(self,other):\n",
    "        return self.avg_efficiency() != other.avg_efficiency()\n",
    "    \n",
    "       \n",
    "    \n",
    "    \n",
    "    def num_trials(self):\n",
    "        return len(self.trials)\n",
    "    def avg_efficiency(self):\n",
    "        efficiency_sum = 0\n",
    "        for trial in self.trials:\n",
    "            efficiency_sum += trial.efficiency\n",
    "        try:\n",
    "            return efficiency_sum / self.num_trials()\n",
    "        except ZeroDivisionError:\n",
    "            return -1.0\n",
    "        \n",
    "chopstick_lengths = [180, 195, 210, 225, 240, 255, 270, 285, 300, 315, 330]\n",
    "\n",
    "chopstick_list = [Chopstick(length) for length in chopstick_lengths]\n",
    "\n",
    "most_efficient = max(chopstick_list)\n",
    "print(most_efficient)"
   ]
  },
  {
   "cell_type": "markdown",
   "metadata": {},
   "source": [
    "## Lambda Functions"
   ]
  }
 ],
 "metadata": {
  "kernelspec": {
   "display_name": "Python 3",
   "language": "python",
   "name": "python3"
  }
 },
 "nbformat": 4,
 "nbformat_minor": 2
}
