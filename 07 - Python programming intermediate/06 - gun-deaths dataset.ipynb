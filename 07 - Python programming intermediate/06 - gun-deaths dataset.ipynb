{
 "cells": [
  {
   "cell_type": "code",
   "execution_count": 7,
   "metadata": {},
   "outputs": [
    {
     "name": "stdout",
     "output_type": "stream",
     "text": [
      "[['1', '2012', '01', 'Suicide', '0', 'M', '34', 'Asian/Pacific Islander', '100', 'Home', 'BA+'], ['2', '2012', '01', 'Suicide', '0', 'F', '21', 'White', '100', 'Street', 'Some college'], ['3', '2012', '01', 'Suicide', '0', 'M', '60', 'White', '100', 'Other specified', 'BA+'], ['4', '2012', '02', 'Suicide', '0', 'M', '64', 'White', '100', 'Home', 'BA+'], ['5', '2012', '02', 'Suicide', '0', 'M', '31', 'White', '100', 'Other specified', 'HS/GED'], ['6', '2012', '02', 'Suicide', '0', 'M', '17', 'Native American/Native Alaskan', '100', 'Home', 'Less than HS'], ['7', '2012', '02', 'Undetermined', '0', 'M', '48', 'White', '100', 'Home', 'HS/GED'], ['8', '2012', '03', 'Suicide', '0', 'M', '41', 'Native American/Native Alaskan', '100', 'Home', 'HS/GED'], ['9', '2012', '02', 'Accidental', '0', 'M', '50', 'White', '100', 'Other specified', 'Some college'], ['10', '2012', '02', 'Suicide', '0', 'M', 'NA', 'Black', '998', 'Home', 'NA']]\n",
      "100798\n"
     ]
    }
   ],
   "source": [
    "import csv\n",
    "\n",
    "file = open(\"guns.csv\", \"r\")\n",
    "guns_wo_header = list(csv.reader(file))[1:]\n",
    "guns_first_10 = guns_wo_header[:10]\n",
    "\n",
    "print(guns_first_10)\n",
    "print(len(guns_wo_header))"
   ]
  },
  {
   "cell_type": "code",
   "execution_count": 8,
   "metadata": {},
   "outputs": [
    {
     "name": "stdout",
     "output_type": "stream",
     "text": [
      "['2012', '2012', '2012', '2012', '2012', '2012', '2012', '2012', '2012', '2012']\n",
      "100798\n"
     ]
    }
   ],
   "source": [
    "years = [gun[1] for gun in guns_wo_header]\n",
    "print(years[:10])\n",
    "print(len(years))"
   ]
  },
  {
   "cell_type": "code",
   "execution_count": 9,
   "metadata": {},
   "outputs": [
    {
     "name": "stdout",
     "output_type": "stream",
     "text": [
      "{'2012': 33563, '2013': 33636, '2014': 33599}\n"
     ]
    }
   ],
   "source": [
    "year_counts = {}\n",
    "\n",
    "for year in years:\n",
    "    if year in year_counts:\n",
    "        year_counts[year] += 1\n",
    "    else:\n",
    "        year_counts[year] = 1\n",
    "        \n",
    "print(year_counts)"
   ]
  },
  {
   "cell_type": "markdown",
   "metadata": {},
   "source": [
    "It looks like gun deaths didn't change much by year from 2012 to 2014. Let's see if gun deaths in the US change by month and year. In order to do this, we'll have to create a datetime.datetime object using the year and month columns. We'll then be about to count up gun deaths by date, like we did by year in the last screen."
   ]
  },
  {
   "cell_type": "code",
   "execution_count": 16,
   "metadata": {},
   "outputs": [
    {
     "name": "stdout",
     "output_type": "stream",
     "text": [
      "[datetime.datetime(2012, 1, 15, 0, 0), datetime.datetime(2012, 1, 15, 0, 0), datetime.datetime(2012, 1, 15, 0, 0), datetime.datetime(2012, 2, 15, 0, 0), datetime.datetime(2012, 2, 15, 0, 0), datetime.datetime(2012, 2, 15, 0, 0), datetime.datetime(2012, 2, 15, 0, 0), datetime.datetime(2012, 3, 15, 0, 0), datetime.datetime(2012, 2, 15, 0, 0), datetime.datetime(2012, 2, 15, 0, 0)]\n"
     ]
    }
   ],
   "source": [
    "import datetime\n",
    "\n",
    "dates = [datetime.datetime(year=int(row[1]),month=int(row[2]),day=15) for row in guns_wo_header]\n",
    "print(dates[:10])"
   ]
  },
  {
   "cell_type": "code",
   "execution_count": 17,
   "metadata": {},
   "outputs": [
    {
     "name": "stdout",
     "output_type": "stream",
     "text": [
      "{datetime.datetime(2012, 1, 15, 0, 0): 2758, datetime.datetime(2012, 2, 15, 0, 0): 2357, datetime.datetime(2012, 3, 15, 0, 0): 2743, datetime.datetime(2012, 4, 15, 0, 0): 2795, datetime.datetime(2012, 5, 15, 0, 0): 2999, datetime.datetime(2012, 6, 15, 0, 0): 2826, datetime.datetime(2012, 7, 15, 0, 0): 3026, datetime.datetime(2012, 8, 15, 0, 0): 2954, datetime.datetime(2012, 9, 15, 0, 0): 2852, datetime.datetime(2012, 10, 15, 0, 0): 2733, datetime.datetime(2012, 11, 15, 0, 0): 2729, datetime.datetime(2012, 12, 15, 0, 0): 2791, datetime.datetime(2013, 1, 15, 0, 0): 2864, datetime.datetime(2013, 2, 15, 0, 0): 2375, datetime.datetime(2013, 3, 15, 0, 0): 2862, datetime.datetime(2013, 4, 15, 0, 0): 2798, datetime.datetime(2013, 5, 15, 0, 0): 2806, datetime.datetime(2013, 6, 15, 0, 0): 2920, datetime.datetime(2013, 7, 15, 0, 0): 3079, datetime.datetime(2013, 8, 15, 0, 0): 2859, datetime.datetime(2013, 9, 15, 0, 0): 2742, datetime.datetime(2013, 10, 15, 0, 0): 2808, datetime.datetime(2013, 11, 15, 0, 0): 2758, datetime.datetime(2013, 12, 15, 0, 0): 2765, datetime.datetime(2014, 1, 15, 0, 0): 2651, datetime.datetime(2014, 2, 15, 0, 0): 2361, datetime.datetime(2014, 3, 15, 0, 0): 2684, datetime.datetime(2014, 4, 15, 0, 0): 2862, datetime.datetime(2014, 5, 15, 0, 0): 2864, datetime.datetime(2014, 6, 15, 0, 0): 2931, datetime.datetime(2014, 7, 15, 0, 0): 2884, datetime.datetime(2014, 8, 15, 0, 0): 2970, datetime.datetime(2014, 9, 15, 0, 0): 2914, datetime.datetime(2014, 10, 15, 0, 0): 2865, datetime.datetime(2014, 11, 15, 0, 0): 2756, datetime.datetime(2014, 12, 15, 0, 0): 2857}\n"
     ]
    }
   ],
   "source": [
    "dates_count = {}\n",
    "\n",
    "for date in dates:\n",
    "    if date in dates_count:\n",
    "        dates_count[date] += 1\n",
    "    else:\n",
    "        dates_count[date] = 1\n",
    "        \n",
    "print(dates_count)"
   ]
  },
  {
   "cell_type": "markdown",
   "metadata": {},
   "source": [
    "The sex and race columns contain potentially interesting information on how gun deaths in the US vary by gender and race. Exploring both of these columns can be done with a similar dictionary counting technique to what we did earlier."
   ]
  },
  {
   "cell_type": "code",
   "execution_count": 23,
   "metadata": {},
   "outputs": [
    {
     "name": "stdout",
     "output_type": "stream",
     "text": [
      "{'M': 86349, 'F': 14449}\n",
      "{'M': 0.8566539018631322, 'F': 0.1433460981368678}\n",
      "{'Asian/Pacific Islander': 1326, 'White': 66237, 'Native American/Native Alaskan': 917, 'Black': 23296, 'Hispanic': 9022}\n",
      "{'Asian/Pacific Islander': 0.01315502291712137, 'White': 0.6571261334550289, 'Native American/Native Alaskan': 0.009097402726244569, 'Black': 0.23111569674001467, 'Hispanic': 0.0895057441615905}\n"
     ]
    }
   ],
   "source": [
    "#sex\n",
    "sexes = [row[5] for row in guns_wo_header]\n",
    "\n",
    "sex_count = {}\n",
    "for sex in sexes:\n",
    "    if sex in sex_count:\n",
    "        sex_count[sex] += 1\n",
    "    else:\n",
    "        sex_count[sex] = 1\n",
    "        \n",
    "print(sex_count)\n",
    "\n",
    "#relative amounts\n",
    "sex_count_rel = {}\n",
    "for sex in sex_count:\n",
    "    sex_count_rel[sex] = sex_count[sex]/len(sexes)\n",
    "\n",
    "print(sex_count_rel)\n",
    "\n",
    "\n",
    "#race\n",
    "races = [row[7] for row in guns_wo_header]\n",
    "\n",
    "race_count = {}\n",
    "for race in races:\n",
    "    if race in race_count:\n",
    "        race_count[race] += 1\n",
    "    else:\n",
    "        race_count[race] = 1\n",
    "        \n",
    "print(race_count)\n",
    "\n",
    "#relative amounts\n",
    "race_count_rel = {}\n",
    "for race in race_count:\n",
    "    race_count_rel[race] = race_count[race]/len(races)\n",
    "\n",
    "print(race_count_rel)\n",
    "\n",
    "\n"
   ]
  },
  {
   "cell_type": "markdown",
   "metadata": {},
   "source": [
    "# Findings\n",
    "\n",
    "## Sex\n",
    "* 85.7% of deaths are male\n",
    "* 14.3% of deaths are female\n",
    "\n",
    "## Race\n",
    "* 1.3% of deaths are Asian / Pacific Islander\n",
    "* 65.7% of deaths are White\n",
    "* 0.1% of deaths are NA/NA\n",
    "* 23.1% of deaths are Black\n",
    "* 0.9% of deaths are Hispanic\n",
    "\n",
    "--> Majority is **male and white**\n",
    "\n",
    "\n",
    "# Interesting to know\n",
    "* how are deaths distributed among months (e.g. more in winter?)\n",
    "* how are deaths distributed among locations (home, street, ...)\n",
    "* whats the diatribution pf education level among deaths?"
   ]
  },
  {
   "cell_type": "markdown",
   "metadata": {},
   "source": [
    "## Add census data\n",
    "\n",
    "We explored gun deaths by race in the past screen. However, our analysis only gives us the total number of gun deaths by race in the US. Unless we know the proportion of each race in the US, we won't be able to meaningfully compare those numbers. What we really want to get is a rate of gun deaths per 100000 people of each race. In order to do this, we'll need to read in data about what percentage of the US population falls into each racial category. Luckily, we can import some census data to help us out.\n",
    "\n",
    "The data contains information on the total population of the US, as well as the total population of each racial group in the US. The data is stored in the census.csv file, and only consists of two rows:"
   ]
  },
  {
   "cell_type": "code",
   "execution_count": 24,
   "metadata": {},
   "outputs": [
    {
     "name": "stdout",
     "output_type": "stream",
     "text": [
      "[['Id', 'Year', 'Id', 'Sex', 'Id', 'Hispanic Origin', 'Id', 'Id2', 'Geography', 'Total', 'Race Alone - White', 'Race Alone - Hispanic', 'Race Alone - Black or African American', 'Race Alone - American Indian and Alaska Native', 'Race Alone - Asian', 'Race Alone - Native Hawaiian and Other Pacific Islander', 'Two or More Races'], ['cen42010', 'April 1, 2010 Census', 'totsex', 'Both Sexes', 'tothisp', 'Total', '0100000US', '', 'United States', '308745538', '197318956', '44618105', '40250635', '3739506', '15159516', '674625', '6984195']]\n"
     ]
    }
   ],
   "source": [
    "census = list(csv.reader(open(\"census.csv\",\"r\")))\n",
    "print(census)"
   ]
  },
  {
   "cell_type": "code",
   "execution_count": 39,
   "metadata": {},
   "outputs": [
    {
     "name": "stdout",
     "output_type": "stream",
     "text": [
      "{'Asian/Pacific Islander': '15159516674625', 'Black': '40250635', 'Native American/Native Alaskan': '3739506', 'Hispanic': '44618105', 'White': '197318956'}\n",
      "{'Asian/Pacific Islander': 0.051285408374063694, 'Black': 0.13036831320943656, 'Native American/Native Alaskan': 0.01211193536341892, 'Hispanic': 0.14451416946469361, 'White': 0.6390989721768869}\n"
     ]
    }
   ],
   "source": [
    "\n",
    "mapping = {\n",
    "    \"Asian/Pacific Islander\" : (census[1][14] + census[1][15]), \n",
    "    \"Black\": census[1][12], \n",
    "    \"Native American/Native Alaskan\" : census[1][13] , \n",
    "    \"Hispanic\": census[1][11],\n",
    "    \"White\" : census[1][10]  \n",
    "}\n",
    "\n",
    "print(mapping)\n",
    "    \n",
    "\n",
    "mapping_rel = {\n",
    "    \"Asian/Pacific Islander\" : ((int(census[1][14]) + int(census[1][15]))/int(census[1][9])), \n",
    "    \"Black\": int(census[1][12])/int(census[1][9]), \n",
    "    \"Native American/Native Alaskan\" : int(census[1][13])/int(census[1][9]), \n",
    "    \"Hispanic\": int(census[1][11])/int(census[1][9]),\n",
    "    \"White\" : int(census[1][10])/int(census[1][9])  \n",
    "}\n",
    "print(mapping_rel)"
   ]
  },
  {
   "cell_type": "code",
   "execution_count": 44,
   "metadata": {},
   "outputs": [
    {
     "name": "stdout",
     "output_type": "stream",
     "text": [
      "{'Asian/Pacific Islander': 8.746980714890115e-06, 'White': 33.56849303419181, 'Native American/Native Alaskan': 24.521955573811088, 'Black': 57.8773477735196, 'Hispanic': 20.220491210910907}\n"
     ]
    }
   ],
   "source": [
    "# Display Deaths by 100,000 of each race\n",
    "\n",
    "race_per_hundredk = {}\n",
    "\n",
    "for race in race_count:\n",
    "    race_per_hundredk[race] = (int(race_count[race]) / int(mapping[race]) * 100000) \n",
    "    \n",
    "print(race_per_hundredk)"
   ]
  },
  {
   "cell_type": "markdown",
   "metadata": {},
   "source": [
    "We can filter our results, and restrict them to the Homicide intent. This will tell us what the gun-related murder rate per 100000 people in each racial category is. In order to do this, we'll need to redo our work in generating race_counts, but only count rows where the intent was Homicide.\n",
    "\n",
    "We can do this by first extracting the intent column, then using the enumerate() function to loop through each index and value in the race column. If the value in the same position in intents is Homicide, we'll count the value in the race column.\n",
    "\n",
    "Finally, we'll use the mapping dictionary to convert from raw counts to rates."
   ]
  },
  {
   "cell_type": "code",
   "execution_count": 50,
   "metadata": {},
   "outputs": [
    {
     "name": "stdout",
     "output_type": "stream",
     "text": [
      "['Suicide', 'Suicide', 'Suicide', 'Suicide', 'Suicide', 'Suicide', 'Undetermined', 'Suicide', 'Accidental', 'Suicide', 'Suicide', 'Suicide', 'Suicide', 'Suicide', 'Homicide']\n",
      "['Asian/Pacific Islander', 'White', 'White', 'White', 'White', 'Native American/Native Alaskan', 'White', 'Native American/Native Alaskan', 'White', 'Black', 'White', 'Native American/Native Alaskan', 'White', 'Native American/Native Alaskan', 'White']\n"
     ]
    }
   ],
   "source": [
    "#extract intents\n",
    "intents = [row[3] for row in guns_wo_header]\n",
    "\n",
    "print(intents[:15])\n",
    "\n",
    "print(races[:15])"
   ]
  },
  {
   "cell_type": "code",
   "execution_count": 58,
   "metadata": {},
   "outputs": [
    {
     "name": "stdout",
     "output_type": "stream",
     "text": [
      "{'White': 9147, 'Asian/Pacific Islander': 559, 'Black': 19510, 'Native American/Native Alaskan': 326, 'Hispanic': 5634}\n"
     ]
    }
   ],
   "source": [
    "homicide_race_counts = {}\n",
    "\n",
    "for i,race in enumerate(races):\n",
    "    if intents[i] == \"Homicide\":\n",
    "        if race in homicide_race_counts:\n",
    "            homicide_race_counts[race] += 1\n",
    "        else:\n",
    "            homicide_race_counts[race] = 1\n",
    "            \n",
    "print(homicide_race_counts)"
   ]
  },
  {
   "cell_type": "code",
   "execution_count": 59,
   "metadata": {},
   "outputs": [
    {
     "name": "stdout",
     "output_type": "stream",
     "text": [
      "{'White': 4.6356417981453335, 'Asian/Pacific Islander': 3.687452654316421e-06, 'Black': 48.471284987180944, 'Native American/Native Alaskan': 8.717729026240365, 'Hispanic': 12.627161104219914}\n"
     ]
    }
   ],
   "source": [
    "# Display **Homicide** Deaths by 100,000 of each race\n",
    "\n",
    "homicide_race_per_hundredk = {}\n",
    "\n",
    "for race in homicide_race_counts:\n",
    "    homicide_race_per_hundredk[race] = (int(homicide_race_counts[race]) / int(mapping[race]) * 100000) \n",
    "    \n",
    "print(homicide_race_per_hundredk)"
   ]
  },
  {
   "cell_type": "markdown",
   "metadata": {},
   "source": [
    "# Findings\n",
    "* **Black** are leading with 48.5 per 100,000 capita in Homicide Detahs, followed by **Hispanics with 12.6%** and **Native Americans with 8.7%**\n",
    "\n",
    "# More to explore:\n",
    "* Figure out the link, if any, between month and homicide rate.\n",
    "* Explore the homicide rate by gender.\n",
    "* Explore the rates of other intents, like Accidental, by gender and race.\n",
    "* Find out if gun death rates correlate to location and education."
   ]
  },
  {
   "cell_type": "code",
   "execution_count": null,
   "metadata": {
    "collapsed": true
   },
   "outputs": [],
   "source": []
  }
 ],
 "metadata": {
  "kernelspec": {
   "display_name": "Python 3",
   "language": "python",
   "name": "python3"
  },
  "language_info": {
   "codemirror_mode": {
    "name": "ipython",
    "version": 3
   },
   "file_extension": ".py",
   "mimetype": "text/x-python",
   "name": "python",
   "nbconvert_exporter": "python",
   "pygments_lexer": "ipython3",
   "version": "3.6.1"
  }
 },
 "nbformat": 4,
 "nbformat_minor": 2
}
