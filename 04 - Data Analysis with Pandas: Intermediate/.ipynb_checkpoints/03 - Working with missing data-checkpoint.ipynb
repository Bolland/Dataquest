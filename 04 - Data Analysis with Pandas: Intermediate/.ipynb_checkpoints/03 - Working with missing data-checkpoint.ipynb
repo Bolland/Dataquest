{
 "cells": [
  {
   "cell_type": "markdown",
   "metadata": {},
   "source": [
    "# Working with missing data\n",
    "\n"
   ]
  },
  {
   "cell_type": "markdown",
   "metadata": {},
   "source": [
    "## Data set\n",
    "\n",
    "We'll clean and analyze data on passenger survival from the Titanic. Each row contains information for a specific Titanic passenger.\n",
    "\n",
    "Lets take a closer look at a few of the key columns:\n",
    "\n",
    "* pclass -- The passenger's cabin class from 1 to 3 where 1 was the highest class\n",
    "* survived -- 1 if the passenger survived, and 0 if they did not.\n",
    "* sex -- The passenger's gender\n",
    "* age -- The passenger's age\n",
    "* fare -- The amount the passenger paid for their ticket\n",
    "* embarked -- Either C, Q, or S, to indicate which port the passenger boarded the ship from.\n",
    "\n",
    "Many of the columns, such as age and sex, have missing values.\n",
    "\n",
    "**Because missing values** can cause errors in numerical functions, we'll need to deal with them before we can analyze the data. For instance, finding the mean of a column with a missing value will fail because it's impossible to average a missing value. Addressing missing values will let us perform calculations on the entire data set.\n",
    "\n"
   ]
  },
  {
   "cell_type": "code",
   "execution_count": 2,
   "metadata": {},
   "outputs": [
    {
     "name": "stdout",
     "output_type": "stream",
     "text": [
      "      pclass  survived                                               name  \\\n",
      "0        1.0       1.0                      Allen, Miss. Elisabeth Walton   \n",
      "1        1.0       1.0                     Allison, Master. Hudson Trevor   \n",
      "2        1.0       0.0                       Allison, Miss. Helen Loraine   \n",
      "3        1.0       0.0               Allison, Mr. Hudson Joshua Creighton   \n",
      "4        1.0       0.0    Allison, Mrs. Hudson J C (Bessie Waldo Daniels)   \n",
      "5        1.0       1.0                                Anderson, Mr. Harry   \n",
      "6        1.0       1.0                  Andrews, Miss. Kornelia Theodosia   \n",
      "7        1.0       0.0                             Andrews, Mr. Thomas Jr   \n",
      "8        1.0       1.0      Appleton, Mrs. Edward Dale (Charlotte Lamson)   \n",
      "9        1.0       0.0                            Artagaveytia, Mr. Ramon   \n",
      "10       1.0       0.0                             Astor, Col. John Jacob   \n",
      "11       1.0       1.0  Astor, Mrs. John Jacob (Madeleine Talmadge Force)   \n",
      "12       1.0       1.0                      Aubart, Mme. Leontine Pauline   \n",
      "13       1.0       1.0                       Barber, Miss. Ellen \"Nellie\"   \n",
      "14       1.0       1.0               Barkworth, Mr. Algernon Henry Wilson   \n",
      "15       1.0       0.0                                Baumann, Mr. John D   \n",
      "16       1.0       0.0                           Baxter, Mr. Quigg Edmond   \n",
      "17       1.0       1.0    Baxter, Mrs. James (Helene DeLaudeniere Chaput)   \n",
      "18       1.0       1.0                              Bazzani, Miss. Albina   \n",
      "19       1.0       0.0                               Beattie, Mr. Thomson   \n",
      "20       1.0       1.0                      Beckwith, Mr. Richard Leonard   \n",
      "21       1.0       1.0   Beckwith, Mrs. Richard Leonard (Sallie Monypeny)   \n",
      "22       1.0       1.0                              Behr, Mr. Karl Howell   \n",
      "23       1.0       1.0                              Bidois, Miss. Rosalie   \n",
      "24       1.0       1.0                                  Bird, Miss. Ellen   \n",
      "25       1.0       0.0                                Birnbaum, Mr. Jakob   \n",
      "26       1.0       1.0                            Bishop, Mr. Dickinson H   \n",
      "27       1.0       1.0            Bishop, Mrs. Dickinson H (Helen Walton)   \n",
      "28       1.0       1.0                             Bissette, Miss. Amelia   \n",
      "29       1.0       1.0          Bjornstrom-Steffansson, Mr. Mauritz Hakan   \n",
      "...      ...       ...                                                ...   \n",
      "1280     3.0       0.0                                    Vovk, Mr. Janko   \n",
      "1281     3.0       0.0                               Waelens, Mr. Achille   \n",
      "1282     3.0       0.0                                Ware, Mr. Frederick   \n",
      "1283     3.0       0.0                        Warren, Mr. Charles William   \n",
      "1284     3.0       0.0                                  Webber, Mr. James   \n",
      "1285     3.0       0.0                                Wenzel, Mr. Linhart   \n",
      "1286     3.0       1.0    Whabee, Mrs. George Joseph (Shawneene Abi-Saab)   \n",
      "1287     3.0       0.0                   Widegren, Mr. Carl/Charles Peter   \n",
      "1288     3.0       0.0                          Wiklund, Mr. Jakob Alfred   \n",
      "1289     3.0       0.0                            Wiklund, Mr. Karl Johan   \n",
      "1290     3.0       1.0                   Wilkes, Mrs. James (Ellen Needs)   \n",
      "1291     3.0       0.0                   Willer, Mr. Aaron (\"Abi Weller\")   \n",
      "1292     3.0       0.0                                 Willey, Mr. Edward   \n",
      "1293     3.0       0.0                  Williams, Mr. Howard Hugh \"Harry\"   \n",
      "1294     3.0       0.0                               Williams, Mr. Leslie   \n",
      "1295     3.0       0.0                                Windelov, Mr. Einar   \n",
      "1296     3.0       0.0                                   Wirz, Mr. Albert   \n",
      "1297     3.0       0.0                             Wiseman, Mr. Phillippe   \n",
      "1298     3.0       0.0                          Wittevrongel, Mr. Camille   \n",
      "1299     3.0       0.0                                Yasbeck, Mr. Antoni   \n",
      "1300     3.0       1.0            Yasbeck, Mrs. Antoni (Selini Alexander)   \n",
      "1301     3.0       0.0                               Youseff, Mr. Gerious   \n",
      "1302     3.0       0.0                                  Yousif, Mr. Wazli   \n",
      "1303     3.0       0.0                              Yousseff, Mr. Gerious   \n",
      "1304     3.0       0.0                               Zabour, Miss. Hileni   \n",
      "1305     3.0       0.0                              Zabour, Miss. Thamine   \n",
      "1306     3.0       0.0                          Zakarian, Mr. Mapriededer   \n",
      "1307     3.0       0.0                                Zakarian, Mr. Ortin   \n",
      "1308     3.0       0.0                                 Zimmerman, Mr. Leo   \n",
      "1309     NaN       NaN                                                NaN   \n",
      "\n",
      "         sex      age  sibsp  parch            ticket      fare    cabin  \\\n",
      "0     female  29.0000    0.0    0.0             24160  211.3375       B5   \n",
      "1       male   0.9167    1.0    2.0            113781  151.5500  C22 C26   \n",
      "2     female   2.0000    1.0    2.0            113781  151.5500  C22 C26   \n",
      "3       male  30.0000    1.0    2.0            113781  151.5500  C22 C26   \n",
      "4     female  25.0000    1.0    2.0            113781  151.5500  C22 C26   \n",
      "5       male  48.0000    0.0    0.0             19952   26.5500      E12   \n",
      "6     female  63.0000    1.0    0.0             13502   77.9583       D7   \n",
      "7       male  39.0000    0.0    0.0            112050    0.0000      A36   \n",
      "8     female  53.0000    2.0    0.0             11769   51.4792     C101   \n",
      "9       male  71.0000    0.0    0.0          PC 17609   49.5042      NaN   \n",
      "10      male  47.0000    1.0    0.0          PC 17757  227.5250  C62 C64   \n",
      "11    female  18.0000    1.0    0.0          PC 17757  227.5250  C62 C64   \n",
      "12    female  24.0000    0.0    0.0          PC 17477   69.3000      B35   \n",
      "13    female  26.0000    0.0    0.0             19877   78.8500      NaN   \n",
      "14      male  80.0000    0.0    0.0             27042   30.0000      A23   \n",
      "15      male      NaN    0.0    0.0          PC 17318   25.9250      NaN   \n",
      "16      male  24.0000    0.0    1.0          PC 17558  247.5208  B58 B60   \n",
      "17    female  50.0000    0.0    1.0          PC 17558  247.5208  B58 B60   \n",
      "18    female  32.0000    0.0    0.0             11813   76.2917      D15   \n",
      "19      male  36.0000    0.0    0.0             13050   75.2417       C6   \n",
      "20      male  37.0000    1.0    1.0             11751   52.5542      D35   \n",
      "21    female  47.0000    1.0    1.0             11751   52.5542      D35   \n",
      "22      male  26.0000    0.0    0.0            111369   30.0000     C148   \n",
      "23    female  42.0000    0.0    0.0          PC 17757  227.5250      NaN   \n",
      "24    female  29.0000    0.0    0.0          PC 17483  221.7792      C97   \n",
      "25      male  25.0000    0.0    0.0             13905   26.0000      NaN   \n",
      "26      male  25.0000    1.0    0.0             11967   91.0792      B49   \n",
      "27    female  19.0000    1.0    0.0             11967   91.0792      B49   \n",
      "28    female  35.0000    0.0    0.0          PC 17760  135.6333      C99   \n",
      "29      male  28.0000    0.0    0.0            110564   26.5500      C52   \n",
      "...      ...      ...    ...    ...               ...       ...      ...   \n",
      "1280    male  22.0000    0.0    0.0            349252    7.8958      NaN   \n",
      "1281    male  22.0000    0.0    0.0            345767    9.0000      NaN   \n",
      "1282    male      NaN    0.0    0.0            359309    8.0500      NaN   \n",
      "1283    male      NaN    0.0    0.0        C.A. 49867    7.5500      NaN   \n",
      "1284    male      NaN    0.0    0.0  SOTON/OQ 3101316    8.0500      NaN   \n",
      "1285    male  32.5000    0.0    0.0            345775    9.5000      NaN   \n",
      "1286  female  38.0000    0.0    0.0              2688    7.2292      NaN   \n",
      "1287    male  51.0000    0.0    0.0            347064    7.7500      NaN   \n",
      "1288    male  18.0000    1.0    0.0           3101267    6.4958      NaN   \n",
      "1289    male  21.0000    1.0    0.0           3101266    6.4958      NaN   \n",
      "1290  female  47.0000    1.0    0.0            363272    7.0000      NaN   \n",
      "1291    male      NaN    0.0    0.0              3410    8.7125      NaN   \n",
      "1292    male      NaN    0.0    0.0     S.O./P.P. 751    7.5500      NaN   \n",
      "1293    male      NaN    0.0    0.0          A/5 2466    8.0500      NaN   \n",
      "1294    male  28.5000    0.0    0.0             54636   16.1000      NaN   \n",
      "1295    male  21.0000    0.0    0.0  SOTON/OQ 3101317    7.2500      NaN   \n",
      "1296    male  27.0000    0.0    0.0            315154    8.6625      NaN   \n",
      "1297    male      NaN    0.0    0.0        A/4. 34244    7.2500      NaN   \n",
      "1298    male  36.0000    0.0    0.0            345771    9.5000      NaN   \n",
      "1299    male  27.0000    1.0    0.0              2659   14.4542      NaN   \n",
      "1300  female  15.0000    1.0    0.0              2659   14.4542      NaN   \n",
      "1301    male  45.5000    0.0    0.0              2628    7.2250      NaN   \n",
      "1302    male      NaN    0.0    0.0              2647    7.2250      NaN   \n",
      "1303    male      NaN    0.0    0.0              2627   14.4583      NaN   \n",
      "1304  female  14.5000    1.0    0.0              2665   14.4542      NaN   \n",
      "1305  female      NaN    1.0    0.0              2665   14.4542      NaN   \n",
      "1306    male  26.5000    0.0    0.0              2656    7.2250      NaN   \n",
      "1307    male  27.0000    0.0    0.0              2670    7.2250      NaN   \n",
      "1308    male  29.0000    0.0    0.0            315082    7.8750      NaN   \n",
      "1309     NaN      NaN    NaN    NaN               NaN       NaN      NaN   \n",
      "\n",
      "     embarked boat   body                           home.dest  \n",
      "0           S    2    NaN                        St Louis, MO  \n",
      "1           S   11    NaN     Montreal, PQ / Chesterville, ON  \n",
      "2           S  NaN    NaN     Montreal, PQ / Chesterville, ON  \n",
      "3           S  NaN  135.0     Montreal, PQ / Chesterville, ON  \n",
      "4           S  NaN    NaN     Montreal, PQ / Chesterville, ON  \n",
      "5           S    3    NaN                        New York, NY  \n",
      "6           S   10    NaN                          Hudson, NY  \n",
      "7           S  NaN    NaN                         Belfast, NI  \n",
      "8           S    D    NaN                 Bayside, Queens, NY  \n",
      "9           C  NaN   22.0                 Montevideo, Uruguay  \n",
      "10          C  NaN  124.0                        New York, NY  \n",
      "11          C    4    NaN                        New York, NY  \n",
      "12          C    9    NaN                       Paris, France  \n",
      "13          S    6    NaN                                 NaN  \n",
      "14          S    B    NaN                       Hessle, Yorks  \n",
      "15          S  NaN    NaN                        New York, NY  \n",
      "16          C  NaN    NaN                        Montreal, PQ  \n",
      "17          C    6    NaN                        Montreal, PQ  \n",
      "18          C    8    NaN                                 NaN  \n",
      "19          C    A    NaN                        Winnipeg, MN  \n",
      "20          S    5    NaN                        New York, NY  \n",
      "21          S    5    NaN                        New York, NY  \n",
      "22          C    5    NaN                        New York, NY  \n",
      "23          C    4    NaN                                 NaN  \n",
      "24          S    8    NaN                                 NaN  \n",
      "25          C  NaN  148.0                   San Francisco, CA  \n",
      "26          C    7    NaN                        Dowagiac, MI  \n",
      "27          C    7    NaN                        Dowagiac, MI  \n",
      "28          S    8    NaN                                 NaN  \n",
      "29          S    D    NaN  Stockholm, Sweden / Washington, DC  \n",
      "...       ...  ...    ...                                 ...  \n",
      "1280        S  NaN    NaN                                 NaN  \n",
      "1281        S  NaN    NaN      Antwerp, Belgium / Stanton, OH  \n",
      "1282        S  NaN    NaN                                 NaN  \n",
      "1283        S  NaN    NaN                                 NaN  \n",
      "1284        S  NaN    NaN                                 NaN  \n",
      "1285        S  NaN  298.0                                 NaN  \n",
      "1286        C    C    NaN                                 NaN  \n",
      "1287        S  NaN    NaN                                 NaN  \n",
      "1288        S  NaN  314.0                                 NaN  \n",
      "1289        S  NaN    NaN                                 NaN  \n",
      "1290        S  NaN    NaN                                 NaN  \n",
      "1291        S  NaN    NaN                                 NaN  \n",
      "1292        S  NaN    NaN                                 NaN  \n",
      "1293        S  NaN    NaN                                 NaN  \n",
      "1294        S  NaN   14.0                                 NaN  \n",
      "1295        S  NaN    NaN                                 NaN  \n",
      "1296        S  NaN  131.0                                 NaN  \n",
      "1297        S  NaN    NaN                                 NaN  \n",
      "1298        S  NaN    NaN                                 NaN  \n",
      "1299        C    C    NaN                                 NaN  \n",
      "1300        C  NaN    NaN                                 NaN  \n",
      "1301        C  NaN  312.0                                 NaN  \n",
      "1302        C  NaN    NaN                                 NaN  \n",
      "1303        C  NaN    NaN                                 NaN  \n",
      "1304        C  NaN  328.0                                 NaN  \n",
      "1305        C  NaN    NaN                                 NaN  \n",
      "1306        C  NaN  304.0                                 NaN  \n",
      "1307        C  NaN    NaN                                 NaN  \n",
      "1308        S  NaN    NaN                                 NaN  \n",
      "1309      NaN  NaN    NaN                                 NaN  \n",
      "\n",
      "[1310 rows x 14 columns]\n"
     ]
    }
   ],
   "source": [
    "# Import data into a panda dataframe\n",
    "import pandas as pd\n",
    "import numpy as np\n",
    "titanic_survival = pd.read_csv(\"titanic_survival.csv\")\n",
    "\n",
    "print(titanic_survival)\n",
    "\n"
   ]
  },
  {
   "cell_type": "markdown",
   "metadata": {},
   "source": [
    "## Missing data\n",
    "Missing data can take a few different forms:\n",
    "\n",
    "* In Python, the `None` keyword and type indicates no value.\n",
    "* The Pandas library uses `NaN`, which stands for \"not a number\", to indicate a missing value.\n",
    "\n",
    "In general terms, both `NaN` and `None` can be called null values.\n",
    "\n",
    "If we want to see which values are NaN, we can use the `pandas.isnull()` function which takes a pandas series and returns a series of True and False values, the same way that NumPy did when we compared arrays."
   ]
  },
  {
   "cell_type": "code",
   "execution_count": 15,
   "metadata": {},
   "outputs": [
    {
     "name": "stdout",
     "output_type": "stream",
     "text": [
      "1309    NaN\n",
      "Name: sex, dtype: object\n"
     ]
    }
   ],
   "source": [
    "titanic_sex = titanic_survival[\"sex\"]\n",
    "#print(titanic_sex)\n",
    "\n",
    "titanic_sex_missing = pd.isnull(titanic_sex)\n",
    "#print(titanic_sex_missing)\n",
    "\n",
    "sex_null_true = titanic_sex[titanic_sex_missing]\n",
    "print(sex_null_true)"
   ]
  },
  {
   "cell_type": "code",
   "execution_count": 16,
   "metadata": {},
   "outputs": [
    {
     "name": "stdout",
     "output_type": "stream",
     "text": [
      "10    47.0\n",
      "11    18.0\n",
      "12    24.0\n",
      "13    26.0\n",
      "14    80.0\n",
      "15     NaN\n",
      "16    24.0\n",
      "17    50.0\n",
      "18    32.0\n",
      "19    36.0\n",
      "20    37.0\n",
      "Name: age, dtype: float64\n",
      "264\n"
     ]
    }
   ],
   "source": [
    "age = titanic_survival[\"age\"]\n",
    "print(age.loc[10:20])\n",
    "\n",
    "#extract all rows with age = NaN\n",
    "age_null_true = age[pd.isnull(age)]\n",
    "\n",
    "#count resulting Dataframe\n",
    "age_null_count = age_null_true.shape[0]\n",
    "print(age_null_count)"
   ]
  },
  {
   "cell_type": "markdown",
   "metadata": {},
   "source": [
    "## Calculating Mean\n",
    "\n",
    "The result of calculating the mean of this age Series this is that mean_age would be `nan`. This is because **any calculations we do with a null value also result in a null value**. This makes sense when you think about it -- how can you add a null value to a known value?\n",
    "\n",
    "Hence, we have to filter out the missing values before we calculate the mean."
   ]
  },
  {
   "cell_type": "code",
   "execution_count": 31,
   "metadata": {},
   "outputs": [
    {
     "name": "stdout",
     "output_type": "stream",
     "text": [
      "0       False\n",
      "1       False\n",
      "2       False\n",
      "3       False\n",
      "4       False\n",
      "5       False\n",
      "6       False\n",
      "7       False\n",
      "8       False\n",
      "9       False\n",
      "10      False\n",
      "11      False\n",
      "12      False\n",
      "13      False\n",
      "14      False\n",
      "15       True\n",
      "16      False\n",
      "17      False\n",
      "18      False\n",
      "19      False\n",
      "20      False\n",
      "21      False\n",
      "22      False\n",
      "23      False\n",
      "24      False\n",
      "25      False\n",
      "26      False\n",
      "27      False\n",
      "28      False\n",
      "29      False\n",
      "        ...  \n",
      "1280    False\n",
      "1281    False\n",
      "1282     True\n",
      "1283     True\n",
      "1284     True\n",
      "1285    False\n",
      "1286    False\n",
      "1287    False\n",
      "1288    False\n",
      "1289    False\n",
      "1290    False\n",
      "1291     True\n",
      "1292     True\n",
      "1293     True\n",
      "1294    False\n",
      "1295    False\n",
      "1296    False\n",
      "1297     True\n",
      "1298    False\n",
      "1299    False\n",
      "1300    False\n",
      "1301    False\n",
      "1302     True\n",
      "1303     True\n",
      "1304    False\n",
      "1305     True\n",
      "1306    False\n",
      "1307    False\n",
      "1308    False\n",
      "1309     True\n",
      "Name: age, Length: 1310, dtype: bool\n",
      "29.8811345124\n"
     ]
    }
   ],
   "source": [
    "age_is_null = pd.isnull(titanic_survival[\"age\"])\n",
    "print(age_is_null)\n",
    "\n",
    "age_not_null = titanic_survival[\"age\"][pd.notnull(age)]\n",
    "\n",
    "#Alternative: \n",
    "age_not_null = titanic_survival[\"age\"][age_is_null == False]\n",
    "\n",
    "correct_mean_age = age_not_null.mean()\n",
    "print(correct_mean_age)"
   ]
  },
  {
   "cell_type": "markdown",
   "metadata": {},
   "source": [
    "Luckily, missing data is so common that many pandas methods automatically filter for it. For example, if we use use the `Series.mean()` method to calculate the mean of a column, missing values will not be included in the calculation."
   ]
  },
  {
   "cell_type": "code",
   "execution_count": 33,
   "metadata": {},
   "outputs": [
    {
     "name": "stdout",
     "output_type": "stream",
     "text": [
      "29.8811345124\n"
     ]
    }
   ],
   "source": [
    "# Same result as the code above: \n",
    "correct_mean_age = titanic_survival[\"age\"].mean()\n",
    "print(correct_mean_age)"
   ]
  },
  {
   "cell_type": "code",
   "execution_count": 46,
   "metadata": {},
   "outputs": [
    {
     "name": "stdout",
     "output_type": "stream",
     "text": [
      "{1: 87.508991640866881, 2: 21.179196389891697, 3: 13.302888700564973}\n"
     ]
    }
   ],
   "source": [
    "passenger_classes = [1, 2, 3]\n",
    "fares_by_class = {}\n",
    "\n",
    "for pc in passenger_classes:\n",
    "    fares_by_class[pc] = titanic_survival[\"fare\"][titanic_survival[\"pclass\"] == pc].mean()\n",
    "\n",
    "print(fares_by_class)"
   ]
  },
  {
   "cell_type": "markdown",
   "metadata": {},
   "source": [
    "# Pivot tables\n",
    "\n",
    "Pivot tables provide an easy way to subset by one column and then apply a calculation like a sum or a mean. The concept of Pivot tables was popularized with the introduction of the 'PivotTable' feature in Microsoft Excel in the mid 1990's.\n",
    "\n",
    "Pivot tables first group and then apply a calculation. In the previous example, we actually made a pivot table manually by grouping by the column \"pclass\" and then calculating the mean of the \"fare\" column for each class.\n",
    "\n",
    "Luckily, we can use the `Dataframe.pivot_table()` method instead, which simplifies the kind of work we did on the last screen. To produce the same data, we could use one line."
   ]
  },
  {
   "cell_type": "code",
   "execution_count": 53,
   "metadata": {},
   "outputs": [
    {
     "name": "stdout",
     "output_type": "stream",
     "text": [
      "             fare\n",
      "pclass           \n",
      "1.0     87.508992\n",
      "2.0     21.179196\n",
      "3.0     13.302889\n"
     ]
    }
   ],
   "source": [
    "passenger_class_fares = titanic_survival.pivot_table(index=\"pclass\", values=\"fare\", aggfunc=np.mean )\n",
    "print(passenger_class_fares)"
   ]
  },
  {
   "cell_type": "code",
   "execution_count": 55,
   "metadata": {},
   "outputs": [
    {
     "name": "stdout",
     "output_type": "stream",
     "text": [
      "              age\n",
      "pclass           \n",
      "1.0     39.159918\n",
      "2.0     29.506705\n",
      "3.0     24.816367\n"
     ]
    }
   ],
   "source": [
    "# calculate the mean age for each passenger class \n",
    "passenger_age = titanic_survival.pivot_table(index=\"pclass\", values=\"age\", aggfunc=np.mean)\n",
    "print(passenger_age)\n"
   ]
  },
  {
   "cell_type": "markdown",
   "metadata": {},
   "source": [
    "We can use the `DataFrame.pivot_table()` method to **perform even more advanced tasks**. If we pass a list of column names to the values parameter instead of a single value, we can perform calculations **on multiple columns at once**.\n",
    "\n",
    "We can also specify a custom calculation to be made. For instance, if we pass `np.sum()` to the aggfunc parameter it will total the values in each column."
   ]
  },
  {
   "cell_type": "code",
   "execution_count": 78,
   "metadata": {},
   "outputs": [
    {
     "name": "stdout",
     "output_type": "stream",
     "text": [
      "                fare  survived\n",
      "embarked                      \n",
      "C         16830.7922     150.0\n",
      "Q          1526.3085      44.0\n",
      "S         25033.3862     304.0\n"
     ]
    }
   ],
   "source": [
    "# pivot table that calculates the total fares collected (\"fare\") and total number of survivors (\"survived\") for each embarkation port(\"embarked\").\n",
    "port_stats = titanic_survival.pivot_table(index=\"embarked\", values=[\"fare\", \"survived\"], aggfunc=np.sum)\n",
    "print(port_stats)"
   ]
  },
  {
   "cell_type": "code",
   "execution_count": 83,
   "metadata": {},
   "outputs": [
    {
     "name": "stdout",
     "output_type": "stream",
     "text": [
      "                 survived\n",
      "embarked pclass          \n",
      "C        1.0         97.0\n",
      "         2.0         16.0\n",
      "         3.0         37.0\n",
      "Q        1.0          2.0\n",
      "         2.0          2.0\n",
      "         3.0         40.0\n",
      "S        1.0         99.0\n",
      "         2.0        101.0\n",
      "         3.0        104.0\n"
     ]
    }
   ],
   "source": [
    "port_stats2 = titanic_survival.pivot_table(index=[\"embarked\", \"pclass\"], values=[\"survived\",\"sex\"], aggfunc=np.sum)\n",
    "print(port_stats2)"
   ]
  },
  {
   "cell_type": "markdown",
   "metadata": {},
   "source": [
    "## Remove missing values in a matrix\n",
    "\n",
    "We can use the `DataFrame.dropna()` method on pandas DataFrames to do this. The method will drop any rows that contain missing values.\n",
    "\n",
    "The `dropna()` method takes an axis parameter, which indicates whether you would like to drop rows or columns. \n",
    "* Specifying `axis=0` or `axis='index'` will drop any rows that have null values, while \n",
    "* specifying `axis=1` or `axis='columns'` will drop any columns that have null values. \n",
    "\n",
    "We will use 0 and 1 since they're more commonly used, but you can use either."
   ]
  },
  {
   "cell_type": "code",
   "execution_count": 91,
   "metadata": {},
   "outputs": [
    {
     "name": "stdout",
     "output_type": "stream",
     "text": [
      "      pclass  survived                                               name  \\\n",
      "0        1.0       1.0                      Allen, Miss. Elisabeth Walton   \n",
      "1        1.0       1.0                     Allison, Master. Hudson Trevor   \n",
      "2        1.0       0.0                       Allison, Miss. Helen Loraine   \n",
      "3        1.0       0.0               Allison, Mr. Hudson Joshua Creighton   \n",
      "4        1.0       0.0    Allison, Mrs. Hudson J C (Bessie Waldo Daniels)   \n",
      "5        1.0       1.0                                Anderson, Mr. Harry   \n",
      "6        1.0       1.0                  Andrews, Miss. Kornelia Theodosia   \n",
      "7        1.0       0.0                             Andrews, Mr. Thomas Jr   \n",
      "8        1.0       1.0      Appleton, Mrs. Edward Dale (Charlotte Lamson)   \n",
      "9        1.0       0.0                            Artagaveytia, Mr. Ramon   \n",
      "10       1.0       0.0                             Astor, Col. John Jacob   \n",
      "11       1.0       1.0  Astor, Mrs. John Jacob (Madeleine Talmadge Force)   \n",
      "12       1.0       1.0                      Aubart, Mme. Leontine Pauline   \n",
      "13       1.0       1.0                       Barber, Miss. Ellen \"Nellie\"   \n",
      "14       1.0       1.0               Barkworth, Mr. Algernon Henry Wilson   \n",
      "16       1.0       0.0                           Baxter, Mr. Quigg Edmond   \n",
      "17       1.0       1.0    Baxter, Mrs. James (Helene DeLaudeniere Chaput)   \n",
      "18       1.0       1.0                              Bazzani, Miss. Albina   \n",
      "19       1.0       0.0                               Beattie, Mr. Thomson   \n",
      "20       1.0       1.0                      Beckwith, Mr. Richard Leonard   \n",
      "21       1.0       1.0   Beckwith, Mrs. Richard Leonard (Sallie Monypeny)   \n",
      "22       1.0       1.0                              Behr, Mr. Karl Howell   \n",
      "23       1.0       1.0                              Bidois, Miss. Rosalie   \n",
      "24       1.0       1.0                                  Bird, Miss. Ellen   \n",
      "25       1.0       0.0                                Birnbaum, Mr. Jakob   \n",
      "26       1.0       1.0                            Bishop, Mr. Dickinson H   \n",
      "27       1.0       1.0            Bishop, Mrs. Dickinson H (Helen Walton)   \n",
      "28       1.0       1.0                             Bissette, Miss. Amelia   \n",
      "29       1.0       1.0          Bjornstrom-Steffansson, Mr. Mauritz Hakan   \n",
      "30       1.0       0.0                       Blackwell, Mr. Stephen Weart   \n",
      "...      ...       ...                                                ...   \n",
      "1269     3.0       0.0                   Vande Velde, Mr. Johannes Joseph   \n",
      "1270     3.0       0.0                     Vande Walle, Mr. Nestor Cyriel   \n",
      "1271     3.0       0.0                        Vanden Steen, Mr. Leo Peter   \n",
      "1272     3.0       0.0                        Vander Cruyssen, Mr. Victor   \n",
      "1273     3.0       0.0                 Vander Planke, Miss. Augusta Maria   \n",
      "1274     3.0       0.0                          Vander Planke, Mr. Julius   \n",
      "1275     3.0       0.0                    Vander Planke, Mr. Leo Edmondus   \n",
      "1276     3.0       0.0  Vander Planke, Mrs. Julius (Emelia Maria Vande...   \n",
      "1277     3.0       1.0                               Vartanian, Mr. David   \n",
      "1278     3.0       0.0                             Vendel, Mr. Olof Edvin   \n",
      "1279     3.0       0.0               Vestrom, Miss. Hulda Amanda Adolfina   \n",
      "1280     3.0       0.0                                    Vovk, Mr. Janko   \n",
      "1281     3.0       0.0                               Waelens, Mr. Achille   \n",
      "1285     3.0       0.0                                Wenzel, Mr. Linhart   \n",
      "1286     3.0       1.0    Whabee, Mrs. George Joseph (Shawneene Abi-Saab)   \n",
      "1287     3.0       0.0                   Widegren, Mr. Carl/Charles Peter   \n",
      "1288     3.0       0.0                          Wiklund, Mr. Jakob Alfred   \n",
      "1289     3.0       0.0                            Wiklund, Mr. Karl Johan   \n",
      "1290     3.0       1.0                   Wilkes, Mrs. James (Ellen Needs)   \n",
      "1294     3.0       0.0                               Williams, Mr. Leslie   \n",
      "1295     3.0       0.0                                Windelov, Mr. Einar   \n",
      "1296     3.0       0.0                                   Wirz, Mr. Albert   \n",
      "1298     3.0       0.0                          Wittevrongel, Mr. Camille   \n",
      "1299     3.0       0.0                                Yasbeck, Mr. Antoni   \n",
      "1300     3.0       1.0            Yasbeck, Mrs. Antoni (Selini Alexander)   \n",
      "1301     3.0       0.0                               Youseff, Mr. Gerious   \n",
      "1304     3.0       0.0                               Zabour, Miss. Hileni   \n",
      "1306     3.0       0.0                          Zakarian, Mr. Mapriededer   \n",
      "1307     3.0       0.0                                Zakarian, Mr. Ortin   \n",
      "1308     3.0       0.0                                 Zimmerman, Mr. Leo   \n",
      "\n",
      "         sex      age  sibsp  parch            ticket      fare    cabin  \\\n",
      "0     female  29.0000    0.0    0.0             24160  211.3375       B5   \n",
      "1       male   0.9167    1.0    2.0            113781  151.5500  C22 C26   \n",
      "2     female   2.0000    1.0    2.0            113781  151.5500  C22 C26   \n",
      "3       male  30.0000    1.0    2.0            113781  151.5500  C22 C26   \n",
      "4     female  25.0000    1.0    2.0            113781  151.5500  C22 C26   \n",
      "5       male  48.0000    0.0    0.0             19952   26.5500      E12   \n",
      "6     female  63.0000    1.0    0.0             13502   77.9583       D7   \n",
      "7       male  39.0000    0.0    0.0            112050    0.0000      A36   \n",
      "8     female  53.0000    2.0    0.0             11769   51.4792     C101   \n",
      "9       male  71.0000    0.0    0.0          PC 17609   49.5042      NaN   \n",
      "10      male  47.0000    1.0    0.0          PC 17757  227.5250  C62 C64   \n",
      "11    female  18.0000    1.0    0.0          PC 17757  227.5250  C62 C64   \n",
      "12    female  24.0000    0.0    0.0          PC 17477   69.3000      B35   \n",
      "13    female  26.0000    0.0    0.0             19877   78.8500      NaN   \n",
      "14      male  80.0000    0.0    0.0             27042   30.0000      A23   \n",
      "16      male  24.0000    0.0    1.0          PC 17558  247.5208  B58 B60   \n",
      "17    female  50.0000    0.0    1.0          PC 17558  247.5208  B58 B60   \n",
      "18    female  32.0000    0.0    0.0             11813   76.2917      D15   \n",
      "19      male  36.0000    0.0    0.0             13050   75.2417       C6   \n",
      "20      male  37.0000    1.0    1.0             11751   52.5542      D35   \n",
      "21    female  47.0000    1.0    1.0             11751   52.5542      D35   \n",
      "22      male  26.0000    0.0    0.0            111369   30.0000     C148   \n",
      "23    female  42.0000    0.0    0.0          PC 17757  227.5250      NaN   \n",
      "24    female  29.0000    0.0    0.0          PC 17483  221.7792      C97   \n",
      "25      male  25.0000    0.0    0.0             13905   26.0000      NaN   \n",
      "26      male  25.0000    1.0    0.0             11967   91.0792      B49   \n",
      "27    female  19.0000    1.0    0.0             11967   91.0792      B49   \n",
      "28    female  35.0000    0.0    0.0          PC 17760  135.6333      C99   \n",
      "29      male  28.0000    0.0    0.0            110564   26.5500      C52   \n",
      "30      male  45.0000    0.0    0.0            113784   35.5000        T   \n",
      "...      ...      ...    ...    ...               ...       ...      ...   \n",
      "1269    male  33.0000    0.0    0.0            345780    9.5000      NaN   \n",
      "1270    male  28.0000    0.0    0.0            345770    9.5000      NaN   \n",
      "1271    male  28.0000    0.0    0.0            345783    9.5000      NaN   \n",
      "1272    male  47.0000    0.0    0.0            345765    9.0000      NaN   \n",
      "1273  female  18.0000    2.0    0.0            345764   18.0000      NaN   \n",
      "1274    male  31.0000    3.0    0.0            345763   18.0000      NaN   \n",
      "1275    male  16.0000    2.0    0.0            345764   18.0000      NaN   \n",
      "1276  female  31.0000    1.0    0.0            345763   18.0000      NaN   \n",
      "1277    male  22.0000    0.0    0.0              2658    7.2250      NaN   \n",
      "1278    male  20.0000    0.0    0.0            350416    7.8542      NaN   \n",
      "1279  female  14.0000    0.0    0.0            350406    7.8542      NaN   \n",
      "1280    male  22.0000    0.0    0.0            349252    7.8958      NaN   \n",
      "1281    male  22.0000    0.0    0.0            345767    9.0000      NaN   \n",
      "1285    male  32.5000    0.0    0.0            345775    9.5000      NaN   \n",
      "1286  female  38.0000    0.0    0.0              2688    7.2292      NaN   \n",
      "1287    male  51.0000    0.0    0.0            347064    7.7500      NaN   \n",
      "1288    male  18.0000    1.0    0.0           3101267    6.4958      NaN   \n",
      "1289    male  21.0000    1.0    0.0           3101266    6.4958      NaN   \n",
      "1290  female  47.0000    1.0    0.0            363272    7.0000      NaN   \n",
      "1294    male  28.5000    0.0    0.0             54636   16.1000      NaN   \n",
      "1295    male  21.0000    0.0    0.0  SOTON/OQ 3101317    7.2500      NaN   \n",
      "1296    male  27.0000    0.0    0.0            315154    8.6625      NaN   \n",
      "1298    male  36.0000    0.0    0.0            345771    9.5000      NaN   \n",
      "1299    male  27.0000    1.0    0.0              2659   14.4542      NaN   \n",
      "1300  female  15.0000    1.0    0.0              2659   14.4542      NaN   \n",
      "1301    male  45.5000    0.0    0.0              2628    7.2250      NaN   \n",
      "1304  female  14.5000    1.0    0.0              2665   14.4542      NaN   \n",
      "1306    male  26.5000    0.0    0.0              2656    7.2250      NaN   \n",
      "1307    male  27.0000    0.0    0.0              2670    7.2250      NaN   \n",
      "1308    male  29.0000    0.0    0.0            315082    7.8750      NaN   \n",
      "\n",
      "     embarked   boat   body                           home.dest  \n",
      "0           S      2    NaN                        St Louis, MO  \n",
      "1           S     11    NaN     Montreal, PQ / Chesterville, ON  \n",
      "2           S    NaN    NaN     Montreal, PQ / Chesterville, ON  \n",
      "3           S    NaN  135.0     Montreal, PQ / Chesterville, ON  \n",
      "4           S    NaN    NaN     Montreal, PQ / Chesterville, ON  \n",
      "5           S      3    NaN                        New York, NY  \n",
      "6           S     10    NaN                          Hudson, NY  \n",
      "7           S    NaN    NaN                         Belfast, NI  \n",
      "8           S      D    NaN                 Bayside, Queens, NY  \n",
      "9           C    NaN   22.0                 Montevideo, Uruguay  \n",
      "10          C    NaN  124.0                        New York, NY  \n",
      "11          C      4    NaN                        New York, NY  \n",
      "12          C      9    NaN                       Paris, France  \n",
      "13          S      6    NaN                                 NaN  \n",
      "14          S      B    NaN                       Hessle, Yorks  \n",
      "16          C    NaN    NaN                        Montreal, PQ  \n",
      "17          C      6    NaN                        Montreal, PQ  \n",
      "18          C      8    NaN                                 NaN  \n",
      "19          C      A    NaN                        Winnipeg, MN  \n",
      "20          S      5    NaN                        New York, NY  \n",
      "21          S      5    NaN                        New York, NY  \n",
      "22          C      5    NaN                        New York, NY  \n",
      "23          C      4    NaN                                 NaN  \n",
      "24          S      8    NaN                                 NaN  \n",
      "25          C    NaN  148.0                   San Francisco, CA  \n",
      "26          C      7    NaN                        Dowagiac, MI  \n",
      "27          C      7    NaN                        Dowagiac, MI  \n",
      "28          S      8    NaN                                 NaN  \n",
      "29          S      D    NaN  Stockholm, Sweden / Washington, DC  \n",
      "30          S    NaN    NaN                         Trenton, NJ  \n",
      "...       ...    ...    ...                                 ...  \n",
      "1269        S    NaN    NaN                                 NaN  \n",
      "1270        S    NaN    NaN                                 NaN  \n",
      "1271        S    NaN    NaN                                 NaN  \n",
      "1272        S    NaN    NaN                                 NaN  \n",
      "1273        S    NaN    NaN                                 NaN  \n",
      "1274        S    NaN    NaN                                 NaN  \n",
      "1275        S    NaN    NaN                                 NaN  \n",
      "1276        S    NaN    NaN                                 NaN  \n",
      "1277        C  13 15    NaN                                 NaN  \n",
      "1278        S    NaN    NaN                                 NaN  \n",
      "1279        S    NaN    NaN                                 NaN  \n",
      "1280        S    NaN    NaN                                 NaN  \n",
      "1281        S    NaN    NaN      Antwerp, Belgium / Stanton, OH  \n",
      "1285        S    NaN  298.0                                 NaN  \n",
      "1286        C      C    NaN                                 NaN  \n",
      "1287        S    NaN    NaN                                 NaN  \n",
      "1288        S    NaN  314.0                                 NaN  \n",
      "1289        S    NaN    NaN                                 NaN  \n",
      "1290        S    NaN    NaN                                 NaN  \n",
      "1294        S    NaN   14.0                                 NaN  \n",
      "1295        S    NaN    NaN                                 NaN  \n",
      "1296        S    NaN  131.0                                 NaN  \n",
      "1298        S    NaN    NaN                                 NaN  \n",
      "1299        C      C    NaN                                 NaN  \n",
      "1300        C    NaN    NaN                                 NaN  \n",
      "1301        C    NaN  312.0                                 NaN  \n",
      "1304        C    NaN  328.0                                 NaN  \n",
      "1306        C    NaN  304.0                                 NaN  \n",
      "1307        C    NaN    NaN                                 NaN  \n",
      "1308        S    NaN    NaN                                 NaN  \n",
      "\n",
      "[1046 rows x 14 columns]\n"
     ]
    }
   ],
   "source": [
    "# drop all rows in titanic_survival that have null values.\n",
    "drop_na_rows = titanic_survival.dropna(axis=0)\n",
    "#print(drop_na_rows)\n",
    "\n",
    "# Drop all columns in titanic_survival that have missing values and assign the result to drop_na_columns.\n",
    "drop_na_columns = titanic_survival.dropna(axis=1)\n",
    "#print(drop_na_columns)\n",
    "\n",
    "# Drop all rows in titanic_survival where the columns \"age\" or \"sex\" have missing values\n",
    "new_titanic_survival = titanic_survival.dropna(axis=0, subset=[\"age\",\"sex\"])\n",
    "print(new_titanic_survival)"
   ]
  },
  {
   "cell_type": "markdown",
   "metadata": {},
   "source": [
    "\n",
    "### Select n first rows of a sorted dataframe\n",
    "If we wanted to select the first five rows of an already sorted dataframe, we can **use DataFrame.iloc[] method to select by position**. The easy way to remember which is which is to remember that iloc[] stands for integer location, because you use integers and not labels to select the data.\n",
    "\n",
    "DataFrame.loc[] would select by ID / Label"
   ]
  },
  {
   "cell_type": "code",
   "execution_count": 27,
   "metadata": {},
   "outputs": [
    {
     "name": "stdout",
     "output_type": "stream",
     "text": [
      "pclass                                          1\n",
      "survived                                        1\n",
      "name         Barkworth, Mr. Algernon Henry Wilson\n",
      "sex                                          male\n",
      "age                                            80\n",
      "sibsp                                           0\n",
      "parch                                           0\n",
      "ticket                                      27042\n",
      "fare                                           30\n",
      "cabin                                         A23\n",
      "embarked                                        S\n",
      "boat                                            B\n",
      "body                                          NaN\n",
      "home.dest                           Hessle, Yorks\n",
      "Name: 14, dtype: object\n",
      "pclass                                                       1\n",
      "survived                                                     1\n",
      "name         Crosby, Mrs. Edward Gifford (Catherine Elizabe...\n",
      "sex                                                     female\n",
      "age                                                         64\n",
      "sibsp                                                        1\n",
      "parch                                                        1\n",
      "ticket                                                  112901\n",
      "fare                                                     26.55\n",
      "cabin                                                      B26\n",
      "embarked                                                     S\n",
      "boat                                                         7\n",
      "body                                                       NaN\n",
      "home.dest                                        Milwaukee, WI\n",
      "Name: 83, dtype: object\n"
     ]
    }
   ],
   "source": [
    "new_titanic_survival = titanic_survival.sort_values(\"age\", axis=0, ascending=False, inplace=False)\n",
    "\n",
    "example_loc = new_titanic_survival.loc[14]\n",
    "example_iloc = new_titanic_survival.iloc[14]\n",
    "\n",
    "print(example_loc)\n",
    "print(example_iloc)\n"
   ]
  },
  {
   "cell_type": "code",
   "execution_count": 28,
   "metadata": {},
   "outputs": [],
   "source": [
    "#Assign the first ten rows from new_titanic_survival to first_ten_rows.\n",
    "first_ten_rows = new_titanic_survival.iloc[0:10]\n",
    "\n",
    "#Assign the fifth row from new_titanic_survival to row_position_fifth.\n",
    "row_position_fifth = new_titanic_survival.iloc[4]\n",
    "\n",
    "#Assign the row with index label 25 from new_titanic_survivalto row_index_25.\n",
    "row_index_25 = new_titanic_survival.loc[25]\n",
    "\n"
   ]
  },
  {
   "cell_type": "markdown",
   "metadata": {},
   "source": [
    "We can also** index columns using both the loc[] and iloc[] methods**. \n",
    "- With .loc[], we specify the column label strings as we have in the earlier exercises in this missions. \n",
    "- With iloc[], we simply use the integer number of the column, starting from the left-most column which is 0. \n",
    "\n",
    "Similar to indexing with NumPy arrays, you separate the row and columns with a comma, and can use a colon to specify a range or as a wildcard."
   ]
  },
  {
   "cell_type": "code",
   "execution_count": 32,
   "metadata": {
    "collapsed": true
   },
   "outputs": [],
   "source": [
    "first_row_first_column = new_titanic_survival.iloc[0,0] #index\n",
    "all_rows_first_three_columns = new_titanic_survival.iloc[:,0:3] #index\n",
    "\n",
    "row_index_83_age = new_titanic_survival.loc[83,\"age\"] #labels\n",
    "row_index_766_pclass = new_titanic_survival.loc[766,\"pclass\"] #labels\n",
    "\n",
    "row_index_1100_age = new_titanic_survival.loc[1100,\"age\"] #labels\n",
    "row_index_25_survived = new_titanic_survival.loc[25,\"survived\"] #labels\n",
    "five_rows_three_cols = new_titanic_survival.iloc[0:5,0:3] #index"
   ]
  },
  {
   "cell_type": "markdown",
   "metadata": {},
   "source": [
    "Sometimes it's useful to **reindex, starting from 0**. We can use the **`DataFrame.reset_index()`** method to do this. By default, the method retains the old index by adding an extra column to the dataframe with the old index values"
   ]
  },
  {
   "cell_type": "code",
   "execution_count": 33,
   "metadata": {},
   "outputs": [
    {
     "name": "stdout",
     "output_type": "stream",
     "text": [
      "   pclass  survived                                               name  \\\n",
      "0     1.0       1.0               Barkworth, Mr. Algernon Henry Wilson   \n",
      "1     1.0       1.0  Cavendish, Mrs. Tyrell William (Julia Florence...   \n",
      "2     3.0       0.0                                Svensson, Mr. Johan   \n",
      "3     1.0       0.0                          Goldschmidt, Mr. George B   \n",
      "4     1.0       0.0                            Artagaveytia, Mr. Ramon   \n",
      "5     3.0       0.0                               Connors, Mr. Patrick   \n",
      "\n",
      "      sex   age  sibsp  parch    ticket     fare cabin embarked boat   body  \\\n",
      "0    male  80.0    0.0    0.0     27042  30.0000   A23        S    B    NaN   \n",
      "1  female  76.0    1.0    0.0     19877  78.8500   C46        S    6    NaN   \n",
      "2    male  74.0    0.0    0.0    347060   7.7750   NaN        S  NaN    NaN   \n",
      "3    male  71.0    0.0    0.0  PC 17754  34.6542    A5        C  NaN    NaN   \n",
      "4    male  71.0    0.0    0.0  PC 17609  49.5042   NaN        C  NaN   22.0   \n",
      "5    male  70.5    0.0    0.0    370369   7.7500   NaN        Q  NaN  171.0   \n",
      "\n",
      "                 home.dest  \n",
      "0            Hessle, Yorks  \n",
      "1  Little Onn Hall, Staffs  \n",
      "2                      NaN  \n",
      "3             New York, NY  \n",
      "4      Montevideo, Uruguay  \n",
      "5                      NaN  \n"
     ]
    }
   ],
   "source": [
    "titanic_reindexed = new_titanic_survival.reset_index(drop = True) # overwriting existing index\n",
    "print(titanic_reindexed.loc[0:5])"
   ]
  },
  {
   "cell_type": "markdown",
   "metadata": {},
   "source": [
    "## Dataframe.apply\n",
    "\n",
    "To perform a complex calculation across pandas objects, we'll need to learn about the DataFrame.apply() method. By default, DataFrame.apply() will **iterate through each column in a DataFrame, and perform on each function**. When we create our function, we give it one parameter, apply() method passes each column to the parameter as a pandas series.\n",
    "\n",
    "The result from the function will be **combined with all of the other results**, and placed **into a new series**. The function results will have the same position as the column or row we generated them from. Let's look at a simple example:"
   ]
  },
  {
   "cell_type": "code",
   "execution_count": 34,
   "metadata": {},
   "outputs": [
    {
     "name": "stdout",
     "output_type": "stream",
     "text": [
      "pclass                                                       1\n",
      "survived                                                     1\n",
      "name         Duff Gordon, Lady. (Lucille Christiana Sutherl...\n",
      "sex                                                     female\n",
      "age                                                         48\n",
      "sibsp                                                        1\n",
      "parch                                                        0\n",
      "ticket                                                   11755\n",
      "fare                                                      39.6\n",
      "cabin                                                      A16\n",
      "embarked                                                     C\n",
      "boat                                                         1\n",
      "body                                                       NaN\n",
      "home.dest                                       London / Paris\n",
      "dtype: object\n"
     ]
    }
   ],
   "source": [
    "# This function returns the hundredth item from a series\n",
    "def hundredth_elem(column):\n",
    "    return column.iloc[99]\n",
    "\n",
    "print(titanic_survival.apply(hundredth_elem))"
   ]
  },
  {
   "cell_type": "code",
   "execution_count": 47,
   "metadata": {},
   "outputs": [
    {
     "name": "stdout",
     "output_type": "stream",
     "text": [
      "pclass          1\n",
      "survived        1\n",
      "name            1\n",
      "sex             1\n",
      "age           264\n",
      "sibsp           1\n",
      "parch           1\n",
      "ticket          1\n",
      "fare            2\n",
      "cabin        1015\n",
      "embarked        3\n",
      "boat          824\n",
      "body         1189\n",
      "home.dest     565\n",
      "dtype: int64\n"
     ]
    }
   ],
   "source": [
    "def count_null_values(column):\n",
    "    #return(pd.isnull(column)[pd.isnull(column) == True]).shape[0]\n",
    "    \n",
    "    #better:\n",
    "    return len(column[pd.isnull(column)])\n",
    "    \n",
    "column_null_count= titanic_survival.apply(count_null_values)\n",
    "print(column_null_count)"
   ]
  },
  {
   "cell_type": "markdown",
   "metadata": {},
   "source": [
    "By passing in the `axis=1` argument, we can use the DataFrame.apply() method to **iterate over rows instead of columns**.\n"
   ]
  },
  {
   "cell_type": "code",
   "execution_count": 58,
   "metadata": {},
   "outputs": [
    {
     "name": "stdout",
     "output_type": "stream",
     "text": [
      "0    False\n",
      "1     True\n",
      "2     True\n",
      "3    False\n",
      "4    False\n",
      "dtype: bool\n"
     ]
    }
   ],
   "source": [
    "def is_minor(row):\n",
    "    if row[\"age\"] < 18:\n",
    "        return True\n",
    "    else:\n",
    "        return False\n",
    "\n",
    "minors = titanic_survival.apply(is_minor, axis=1)\n",
    "print(minors.head())"
   ]
  },
  {
   "cell_type": "code",
   "execution_count": 57,
   "metadata": {},
   "outputs": [
    {
     "name": "stdout",
     "output_type": "stream",
     "text": [
      "0    adult\n",
      "1    minor\n",
      "2    minor\n",
      "3    adult\n",
      "4    adult\n",
      "dtype: object\n"
     ]
    }
   ],
   "source": [
    "# Label if passengers are minors or not\n",
    "\n",
    "def minor_label(row):\n",
    "    age_obj = row[\"age\"]\n",
    "    #print(type(age))\n",
    "    if pd.isnull(age_obj):\n",
    "        return \"unknown\"\n",
    "    elif age_obj >= 18:\n",
    "        return \"adult\"\n",
    "    else:\n",
    "        return \"minor\"\n",
    "\n",
    "age_labels = titanic_survival.apply(minor_label, axis=1)\n",
    "print(age_labels.head())\n",
    "\n",
    "\n",
    "\n"
   ]
  },
  {
   "cell_type": "code",
   "execution_count": null,
   "metadata": {
    "collapsed": true
   },
   "outputs": [],
   "source": []
  },
  {
   "cell_type": "code",
   "execution_count": null,
   "metadata": {
    "collapsed": true
   },
   "outputs": [],
   "source": []
  }
 ],
 "metadata": {
  "kernelspec": {
   "display_name": "Python 3",
   "language": "python",
   "name": "python3"
  }
 },
 "nbformat": 4,
 "nbformat_minor": 2
}
