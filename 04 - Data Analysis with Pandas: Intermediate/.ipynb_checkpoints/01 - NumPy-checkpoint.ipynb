{
 "cells": [
  {
   "cell_type": "markdown",
   "metadata": {},
   "source": [
    "# NumPy\n",
    "In the first 2 courses, we used nested lists in Python to represent datasets. Python lists offer a few advantages when representing data:\n",
    "\n",
    "lists can contain mixed types\n",
    "lists can shrink and grow dynamically\n",
    "Using Python lists to represent and work with data also has a few key disadvantages:\n",
    "\n",
    "to support their flexibility, lists tend to consume lots of memory\n",
    "they struggle to work with medium and larger sized datasets\n",
    "\n",
    "NumPy is a library that combines the **flexibility and ease-of-use of Python with the speed of C**. In this mission, we'll start by getting familiar with the core NumPy data structure and then build up to using NumPy to work with the dataset world_alcohol.csv, which contains data on how much alcohol is consumed per capita in each country.\n",
    "\n",
    "## Arrays\n",
    "The core data structure in NumPy is the ndarray object, which stands for N-dimensional array. An array is a collection of values, similar to a list. N-dimensional refers to the number of indices needed to select individual values from the object.\n",
    "\n",
    "* 1-dimensional: Vectore\n",
    "* 2-dimensional: Matrix\n",
    "\n",
    "To use NumPy, we first need to import it into our environment. NumPy is commonly imported using the alias np:\n",
    "\n"
   ]
  },
  {
   "cell_type": "code",
   "execution_count": 2,
   "metadata": {
    "collapsed": true
   },
   "outputs": [],
   "source": [
    "import numpy as np"
   ]
  },
  {
   "cell_type": "markdown",
   "metadata": {},
   "source": [
    "We can directly construct arrays from lists using the numpy.array() function. To construct a vector, we need to pass in a single list (with no nesting):"
   ]
  },
  {
   "cell_type": "code",
   "execution_count": 4,
   "metadata": {},
   "outputs": [
    {
     "name": "stdout",
     "output_type": "stream",
     "text": [
      "[ 5 10 15 20]\n",
      "[[ 5 10 15]\n",
      " [20 25 30]\n",
      " [35 40 45]]\n"
     ]
    }
   ],
   "source": [
    "vector = np.array([5, 10, 15, 20])\n",
    "matrix = np.array([[5, 10, 15], [20, 25, 30], [35, 40, 45]])\n",
    "\n",
    "print(vector)\n",
    "print(matrix)"
   ]
  },
  {
   "cell_type": "markdown",
   "metadata": {},
   "source": [
    "## ndarray.shape\n",
    "It's often useful to know how many elements an array contains. We can use the ndarray.shape property to figure out how many elements are in the array."
   ]
  },
  {
   "cell_type": "code",
   "execution_count": 5,
   "metadata": {},
   "outputs": [
    {
     "name": "stdout",
     "output_type": "stream",
     "text": [
      "(3,)\n",
      "(3, 3)\n"
     ]
    }
   ],
   "source": [
    "vector = np.array([10, 20, 30])\n",
    "matrix = np.array([[5, 10, 15], [20, 25, 30], [35, 40, 45]])\n",
    "\n",
    "vector_shape = vector.shape\n",
    "matrix_shape = matrix.shape\n",
    "\n",
    "print(vector_shape)\n",
    "print(matrix_shape)"
   ]
  },
  {
   "cell_type": "markdown",
   "metadata": {},
   "source": [
    "# Using numpy\n",
    "We can read in datasets using the numpy.genfromtxt() function. Our dataset, world_alcohol.csv is a comma separated value dataset. We can specify the delimiter using the delimiter parameter:"
   ]
  },
  {
   "cell_type": "code",
   "execution_count": 9,
   "metadata": {
    "collapsed": true
   },
   "outputs": [],
   "source": [
    "nfl = np.genfromtxt(\"world_alcohol.csv\", delimiter=\",\")"
   ]
  },
  {
   "cell_type": "markdown",
   "metadata": {},
   "source": [
    "The above code would read in a file named world_alcohol.csv file into a NumPy array. NumPy arrays are represented using the `numpy.ndarray` class. We'll refer to ndarray objects as NumPy arrays in our material."
   ]
  },
  {
   "cell_type": "markdown",
   "metadata": {},
   "source": [
    "## Data types in Numpy\n",
    "\n",
    "Each value in a NumPy array **has to have the same data type**. NumPy data types are similar to Python data types, but have slight differences. You can find a full list of NumPy data types [here](https://docs.scipy.org/doc/numpy-1.10.1/user/basics.types.html). Here are some of the common ones:\n",
    "\n",
    "NumPy will automatically figure out an appropriate data type when reading in data or converting lists to arrays. You can check the data type of a NumPy array using the dtype property."
   ]
  },
  {
   "cell_type": "code",
   "execution_count": 7,
   "metadata": {},
   "outputs": [
    {
     "data": {
      "text/plain": [
       "dtype('int64')"
      ]
     },
     "execution_count": 7,
     "metadata": {},
     "output_type": "execute_result"
    }
   ],
   "source": [
    "numbers = np.array([1, 2, 3, 4])\n",
    "numbers.dtype"
   ]
  },
  {
   "cell_type": "markdown",
   "metadata": {
    "collapsed": true
   },
   "source": [
    "The data type of world_alcohol is float. Because all of the values in a NumPy array have to have the same data type, NumPy attempted to convert all of the columns to floats when they were read in. The numpy.genfromtxt() function will attempt to guess the correct data type of the array it creates.\n",
    "\n",
    "In this case, the WHO Region, Country, and Beverage Types columns are actually strings, and couldn't be converted to floats. When NumPy can't convert a value to a numeric data type like float or integer, it uses a special nan value that stands for \"not a number\". NumPy assigns an na value, which stands for \"not available\", when the value doesn't exist. nan and na values are types of missing data. We'll dive more into how to deal with missing data in later missions.\n",
    "\n",
    "The whole first row of world_alcohol.csv is a header row that contains the names of each column. This is not actually part of the data, and consists entirely of strings. Since the strings couldn't be converted to floats properly, NumPy uses nan values to represent them.\n",
    "\n",
    "To specify the data type for the entire NumPy array, we use the keyword argument **dtype** and set it to \"U75\". This specifies that we want to read in each value as a 75 byte unicode data type.\n"
   ]
  },
  {
   "cell_type": "code",
   "execution_count": 3,
   "metadata": {},
   "outputs": [
    {
     "name": "stdout",
     "output_type": "stream",
     "text": [
      "[['1986' 'Western Pacific' 'Viet Nam' 'Wine' '0']\n",
      " ['1986' 'Americas' 'Uruguay' 'Other' '0.5']\n",
      " ['1985' 'Africa' \"Cte d'Ivoire\" 'Wine' '1.62']\n",
      " ..., \n",
      " ['1986' 'Europe' 'Switzerland' 'Spirits' '2.54']\n",
      " ['1987' 'Western Pacific' 'Papua New Guinea' 'Other' '0']\n",
      " ['1986' 'Africa' 'Swaziland' 'Other' '5.15']]\n"
     ]
    }
   ],
   "source": [
    "world_alcohol = np.genfromtxt(\"world_alcohol.csv\", dtype=\"U75\", skip_header=1, delimiter=\",\")\n",
    "print(world_alcohol)\n"
   ]
  },
  {
   "cell_type": "markdown",
   "metadata": {},
   "source": [
    "## Indexing arrays"
   ]
  },
  {
   "cell_type": "code",
   "execution_count": 11,
   "metadata": {},
   "outputs": [
    {
     "name": "stdout",
     "output_type": "stream",
     "text": [
      "Cte d'Ivoire\n"
     ]
    }
   ],
   "source": [
    "#Matrix indices are matrix[row_index][column_index], e.g.:\n",
    "\n",
    "third_country = world_alcohol[2][2]\n",
    "print(third_country)"
   ]
  },
  {
   "cell_type": "markdown",
   "metadata": {},
   "source": [
    "## Slicing arrays\n",
    "\n",
    "We can use value slices to select subsets of arrays just like we can with lists:\n",
    "\n",
    "Like lists, vector slicing is from the first index up to but not including the second index. Matrix slicing is a bit more complex, and has four forms:\n",
    "\n",
    "* When we want to select **one entire dimension**, and a **single element from the other**.\n",
    "* When we want to select **one entire dimension**, and a **slice of the other**.\n",
    "* When you want to select **a slice of one dimension**, and a single element from the other.\n",
    "* When we want to slice **both dimensions**."
   ]
  },
  {
   "cell_type": "code",
   "execution_count": 28,
   "metadata": {},
   "outputs": [
    {
     "name": "stdout",
     "output_type": "stream",
     "text": [
      "vector[1:]\n",
      "[15 20]\n",
      "matrix[:,2]\n",
      "[6 7 9]\n",
      "matrix[1,2:]\n",
      "[ 7 10]\n"
     ]
    }
   ],
   "source": [
    "vector = np.array([5,15,20])\n",
    "print(\"vector[1:]\")\n",
    "print(vector[1:])\n",
    "\n",
    "\n",
    "matrix = np.array([[1,3,6,9],[2,4,7,10],[3,6,9,11]])\n",
    "\n",
    "## Slicing whole dimensions\n",
    "print(\"matrix[:,2]\")\n",
    "print(matrix[:,2])\n",
    "\n",
    "## Slicing whole dimension and a slice of the other \n",
    "print(\"matrix[1,2:]\")\n",
    "print(matrix[1,2:]) # second row, third and fourth column."
   ]
  },
  {
   "cell_type": "markdown",
   "metadata": {},
   "source": [
    "**Reminder:**\n",
    "The colon by itself `:` specifies that the entirety of a single dimension should be selected. Think of the colon as selecting from the first element in a dimension up to and including the last element.\n",
    "\n",
    "### Example:\n",
    "* Assign the whole third column from world_alcohol to the variable countries.\n",
    "* Assign the whole fifth column from world_alcohol to the variable alcohol_consumption.\n"
   ]
  },
  {
   "cell_type": "code",
   "execution_count": 23,
   "metadata": {},
   "outputs": [
    {
     "name": "stdout",
     "output_type": "stream",
     "text": [
      "['Viet Nam' 'Uruguay' \"Cte d'Ivoire\" ..., 'Switzerland' 'Papua New Guinea'\n",
      " 'Swaziland']\n",
      "<class 'numpy.ndarray'>\n",
      "['0' '0.5' '1.62' ..., '2.54' '0' '5.15']\n"
     ]
    }
   ],
   "source": [
    "countries = world_alcohol[:,2]\n",
    "alcohol_consumption = world_alcohol[:,4]\n",
    "\n",
    "print(countries)\n",
    "print(type(countries))\n",
    "print(alcohol_consumption)"
   ]
  },
  {
   "cell_type": "markdown",
   "metadata": {},
   "source": [
    "### Slicing one whole dimension and another single one\n",
    "\n",
    "* Assign all the rows and the first 2 columns of world_alcohol to first_two_columns.\n",
    "* Assign the first 10 rows and the first column of world_alcohol to first_ten_years.\n",
    "* Assign the first 10 rows and all of the columns of world_alcohol to first_ten_rows."
   ]
  },
  {
   "cell_type": "code",
   "execution_count": 29,
   "metadata": {
    "collapsed": true
   },
   "outputs": [],
   "source": [
    "first_two_columns = world_alcohol[:,:2]\n",
    "first_ten_years = world_alcohol[:10,0]\n",
    "first_ten_rows = world_alcohol[:10,:]"
   ]
  },
  {
   "cell_type": "markdown",
   "metadata": {},
   "source": [
    "### Slice along both dimensions simultaneously.\n",
    "\n",
    "* Assign the first 20 rows of the columns at index 1 and 2 of world_alcohol to first_twenty_regions.\n"
   ]
  },
  {
   "cell_type": "code",
   "execution_count": 30,
   "metadata": {
    "collapsed": true
   },
   "outputs": [],
   "source": [
    "first_twenty_regions = world_alcohol[:20,1:3]"
   ]
  },
  {
   "cell_type": "markdown",
   "metadata": {
    "collapsed": true
   },
   "source": [
    "## Array Comparisons\n",
    "\n",
    "```\n",
    "vector = numpy.array([5, 10, 15, 20])\n",
    "vector == 10\n",
    "```\n",
    "\n",
    "\n",
    "will generate the _vector_ [False, True, False, False]"
   ]
  },
  {
   "cell_type": "code",
   "execution_count": 6,
   "metadata": {},
   "outputs": [
    {
     "data": {
      "text/plain": [
       "array([False,  True, False, False], dtype=bool)"
      ]
     },
     "execution_count": 6,
     "metadata": {},
     "output_type": "execute_result"
    }
   ],
   "source": [
    "vector = np.array([5, 10, 15, 20])\n",
    "vector == 10"
   ]
  },
  {
   "cell_type": "code",
   "execution_count": 17,
   "metadata": {},
   "outputs": [
    {
     "name": "stdout",
     "output_type": "stream",
     "text": [
      "[False False False ..., False False False]\n"
     ]
    }
   ],
   "source": [
    "# Extract the third column in world_alcohol, and compare it to the string Canada. Assign the result to countries_canada.\n",
    "countries_canada = ('Canada' == world_alcohol[:,2])\n",
    "print(countries_canada)"
   ]
  },
  {
   "cell_type": "code",
   "execution_count": 15,
   "metadata": {},
   "outputs": [
    {
     "name": "stdout",
     "output_type": "stream",
     "text": [
      "[False False False ..., False False False]\n"
     ]
    }
   ],
   "source": [
    "# Extract the first column in world_alcohol, and compare it to the string 1984. Assign the result to years_1984.\n",
    "years_1984 = ('1984' == world_alcohol[:,0])\n",
    "print(years_1984)"
   ]
  },
  {
   "cell_type": "markdown",
   "metadata": {},
   "source": [
    "## Selecting Elements\n"
   ]
  },
  {
   "cell_type": "markdown",
   "metadata": {
    "collapsed": true
   },
   "source": [
    "Comparisons give us the power to **select elements in arrays using Boolean vectors**."
   ]
  },
  {
   "cell_type": "code",
   "execution_count": 5,
   "metadata": {},
   "outputs": [
    {
     "name": "stdout",
     "output_type": "stream",
     "text": [
      "[10]\n"
     ]
    }
   ],
   "source": [
    "vector = np.array([5, 10, 15, 20])\n",
    "equal_to_ten = (vector == 10)\n",
    "\n",
    "print(vector[equal_to_ten])"
   ]
  },
  {
   "cell_type": "markdown",
   "metadata": {},
   "source": [
    "**The code above:**\n",
    "\n",
    "* Creates vector.\n",
    "* Compares vector to the value 10, which generates a Boolean vector [False, True, False, False]. It assigns the result to equal_to_ten.\n",
    "* Uses equal_to_ten to only select elements in vector where equal_to_ten is True. This results in the vector [10].\n",
    "\n",
    "We can use the same principle to **select rows in matrices**:\n",
    "\n"
   ]
  },
  {
   "cell_type": "code",
   "execution_count": 7,
   "metadata": {},
   "outputs": [
    {
     "name": "stdout",
     "output_type": "stream",
     "text": [
      "[False  True False]\n"
     ]
    }
   ],
   "source": [
    "matrix = np.array ([\n",
    "    [5,10,15],\n",
    "    [20,25,30],\n",
    "    [35,40,45]\n",
    "    ]\n",
    "    )\n",
    "second_column_25 = (matrix[:,1] == 25)\n",
    "print(second_column_25)"
   ]
  },
  {
   "cell_type": "code",
   "execution_count": 8,
   "metadata": {},
   "outputs": [
    {
     "name": "stdout",
     "output_type": "stream",
     "text": [
      "[[20 25 30]]\n"
     ]
    }
   ],
   "source": [
    "print(matrix[second_column_25,:])"
   ]
  },
  {
   "cell_type": "code",
   "execution_count": 27,
   "metadata": {},
   "outputs": [
    {
     "name": "stdout",
     "output_type": "stream",
     "text": [
      "[False False  True]\n",
      "[[15]\n",
      " [30]\n",
      " [45]]\n"
     ]
    }
   ],
   "source": [
    "## exercise:\n",
    "# select column in matrix where last row is 45\n",
    "\n",
    "last_row_45 = (matrix[-1,:] == 45)\n",
    "print(last_row_45)\n",
    "\n",
    "print(matrix[:,last_row_45])\n"
   ]
  },
  {
   "cell_type": "code",
   "execution_count": 39,
   "metadata": {},
   "outputs": [
    {
     "name": "stdout",
     "output_type": "stream",
     "text": [
      "[False False False ..., False False False]\n",
      "[['1984' 'Africa' 'Algeria' 'Spirits' '0.01']\n",
      " ['1987' 'Africa' 'Algeria' 'Beer' '0.17']\n",
      " ['1987' 'Africa' 'Algeria' 'Spirits' '0.01']\n",
      " ['1986' 'Africa' 'Algeria' 'Wine' '0.1']\n",
      " ['1984' 'Africa' 'Algeria' 'Other' '0']\n",
      " ['1989' 'Africa' 'Algeria' 'Beer' '0.16']\n",
      " ['1989' 'Africa' 'Algeria' 'Spirits' '0.01']\n",
      " ['1989' 'Africa' 'Algeria' 'Wine' '0.23']\n",
      " ['1986' 'Africa' 'Algeria' 'Spirits' '0.01']\n",
      " ['1984' 'Africa' 'Algeria' 'Wine' '0.12']\n",
      " ['1985' 'Africa' 'Algeria' 'Beer' '0.19']\n",
      " ['1985' 'Africa' 'Algeria' 'Other' '0']\n",
      " ['1986' 'Africa' 'Algeria' 'Beer' '0.18']\n",
      " ['1985' 'Africa' 'Algeria' 'Wine' '0.11']\n",
      " ['1986' 'Africa' 'Algeria' 'Other' '0']\n",
      " ['1989' 'Africa' 'Algeria' 'Other' '0']\n",
      " ['1987' 'Africa' 'Algeria' 'Other' '0']\n",
      " ['1984' 'Africa' 'Algeria' 'Beer' '0.2']\n",
      " ['1985' 'Africa' 'Algeria' 'Spirits' '0.01']\n",
      " ['1987' 'Africa' 'Algeria' 'Wine' '0.1']]\n"
     ]
    }
   ],
   "source": [
    "#select all rows of world_alcohol where the country is \"Algeria\"\n",
    "\n",
    "country_is_algeria = (world_alcohol[:,2] == \"Algeria\")\n",
    "print(country_is_algeria)\n",
    "\n",
    "consumption_algeria = world_alcohol[country_is_algeria,:]\n",
    "print(consumption_algeria)"
   ]
  },
  {
   "cell_type": "markdown",
   "metadata": {},
   "source": [
    "## Comparisons With Multiple Conditions\n",
    "\n",
    "On the last screen, we made comparisons based on a single condition. We can also perform comparisons with multiple conditions by specifying each one separately, then joining them with an ampersand (&). When constructing a comparison with multiple conditions, it's critical to **put each one in parentheses**."
   ]
  },
  {
   "cell_type": "code",
   "execution_count": 49,
   "metadata": {},
   "outputs": [
    {
     "name": "stdout",
     "output_type": "stream",
     "text": [
      "[False  True  True  True]\n"
     ]
    }
   ],
   "source": [
    "# AND\n",
    "vector = np.array([5, 10, 15, 20])\n",
    "comparison_10_20 = (vector >= 10) & (vector <= 20)\n",
    "print(comparison_10_20)"
   ]
  },
  {
   "cell_type": "code",
   "execution_count": 50,
   "metadata": {},
   "outputs": [
    {
     "name": "stdout",
     "output_type": "stream",
     "text": [
      "[ True  True False False]\n"
     ]
    }
   ],
   "source": [
    "# OR \n",
    "equal_to_ten_or_five = (vector == 10) | (vector == 5)\n",
    "print(equal_to_ten_or_five)"
   ]
  },
  {
   "cell_type": "code",
   "execution_count": 52,
   "metadata": {},
   "outputs": [
    {
     "name": "stdout",
     "output_type": "stream",
     "text": [
      "[['1986' 'Africa' 'Algeria' 'Wine' '0.1']\n",
      " ['1986' 'Africa' 'Algeria' 'Spirits' '0.01']\n",
      " ['1986' 'Africa' 'Algeria' 'Beer' '0.18']\n",
      " ['1986' 'Africa' 'Algeria' 'Other' '0']]\n"
     ]
    }
   ],
   "source": [
    "# Print rows with Algeria and 1986\n",
    "\n",
    "algeria_and_1986 = (world_alcohol[:,0] == \"1986\") & (world_alcohol[:,2] == \"Algeria\")\n",
    "rows_algeria_and_1986 = world_alcohol[algeria_and_1986,:]\n",
    "print(rows_algeria_and_1986)"
   ]
  },
  {
   "cell_type": "code",
   "execution_count": 57,
   "metadata": {},
   "outputs": [
    {
     "name": "stdout",
     "output_type": "stream",
     "text": [
      "['Viet Nam', 'Uruguay', \"Cte d'Ivoire\", 'Colombia', 'Saint Kitts and Nevis', 'Guatemala', 'Mauritius', 'Angola', 'Antigua and Barbuda', 'Nigeria', 'Botswana', \"Lao People's Democratic Republic\", 'Afghanistan', 'Guinea-Bissau', 'Costa Rica', 'Seychelles', 'Norway', 'Kenya', 'Myanmar', 'Romania', 'Turkey', 'Comoros', 'Tunisia', 'United Kingdom of Great Britain and Northern Ireland', 'Bahrain', 'Italy', 'Sierra Leone', 'Micronesia (Federated States of)', 'Mauritania', 'Russian Federation', 'Egypt', 'Sweden', 'Qatar', 'Burkina Faso', 'Austria', 'Czech Republic', 'Ukraine', 'China', 'Lithuania', 'Zimbabwe', 'Trinidad and Tobago', 'Mexico', 'Nicaragua', 'Malta', 'Switzerland', 'Finland', 'Saudi Arabia', 'Kuwait', 'El Salvador', 'Suriname', 'Croatia', 'Somalia', 'Syrian Arab Republic', 'Iran (Islamic Republic of)', 'Papua New Guinea', 'Libya', 'Bolivia (Plurinational State of)', 'Iraq', 'Namibia', 'Uganda', 'Togo', 'Madagascar', 'Mali', 'Pakistan', 'Cameroon', 'Jamaica', 'Malawi', 'Netherlands', 'Ireland', 'Sri Lanka', 'Democratic Republic of the Congo', 'Bahamas', 'Lebanon', 'Bulgaria', 'Eritrea', 'Niger', 'Luxembourg', 'Indonesia', 'Equatorial Guinea', \"Democratic People's Republic of Korea\", 'Chile', 'Central African Republic', 'Spain', 'Gambia', 'Ghana', 'Brazil', 'Portugal', 'Burundi', 'Belgium', 'Paraguay', 'Hungary', 'Greece', 'India', 'Kyrgyzstan', 'France', 'Zambia', 'Israel', 'Swaziland', 'Canada', 'Cambodia', 'Cabo Verde', 'United Arab Emirates', 'Peru', 'Solomon Islands', 'United Republic of Tanzania', 'Chad', 'Cuba', 'Guyana', 'Mongolia', 'Australia', 'Sao Tome and Principe', 'Slovenia', 'Benin', 'Algeria', 'Venezuela (Bolivarian Republic of)', 'Ecuador', 'Iceland', 'Liberia', 'Yemen', 'Sudan', 'Belarus', 'Cyprus', 'United States of America', 'Vanuatu', 'Bangladesh', 'Philippines', 'Slovakia', 'Poland', 'Senegal', 'Honduras', 'Bhutan', 'Fiji', 'Belize', 'Lesotho', 'Singapore', 'Guinea', 'Brunei Darussalam', 'Congo', 'Thailand', 'Djibouti', 'Gabon', 'Dominican Republic', 'Morocco', 'New Zealand', 'Denmark', 'Samoa', 'Argentina', 'Oman', 'Kiribati', 'Albania', 'Nepal', 'Malaysia', 'Latvia', 'Haiti', 'South Africa', 'Republic of Korea', 'Japan', 'Mozambique', 'Ethiopia', 'Panama', 'Germany', 'Saint Lucia', 'Rwanda', 'Jordan']\n",
      "['Western Pacific', 'Americas', 'Africa', 'Eastern Mediterranean', 'Europe', 'South-East Asia']\n"
     ]
    }
   ],
   "source": [
    "#Get countries\n",
    "unique_countries = []\n",
    "unique_continents = []\n",
    "\n",
    "\n",
    "for row in world_alcohol:\n",
    "    if row[2] not in unique_countries:\n",
    "        unique_countries.append(row[2])\n",
    "\n",
    "    if row[1] not in unique_continents:\n",
    "        unique_continents.append(row[1])\n",
    "\n",
    "print(unique_countries)\n",
    "print(unique_continents)\n"
   ]
  },
  {
   "cell_type": "markdown",
   "metadata": {},
   "source": [
    "## Replacing values\n",
    "\n",
    "We can also use comparisons to replace values in an array, based on certain conditions. Here's an example of how we would do this for a vector:"
   ]
  },
  {
   "cell_type": "code",
   "execution_count": 4,
   "metadata": {},
   "outputs": [
    {
     "name": "stdout",
     "output_type": "stream",
     "text": [
      "[50 50 15 20]\n"
     ]
    }
   ],
   "source": [
    "vector = np.array([5, 10, 15, 20])\n",
    "equal_to_ten_or_five = (vector == 10) | (vector == 5)\n",
    "vector[equal_to_ten_or_five] = 50\n",
    "print(vector)\n"
   ]
  },
  {
   "cell_type": "markdown",
   "metadata": {},
   "source": [
    "We can perform the same replacement on a matrix. To do this, we'll need to use indexing to select a column or row first:"
   ]
  },
  {
   "cell_type": "code",
   "execution_count": 5,
   "metadata": {},
   "outputs": [
    {
     "name": "stdout",
     "output_type": "stream",
     "text": [
      "[False  True False]\n",
      "[[   5   10   15]\n",
      " [  20 1000   30]\n",
      " [  35   40   45]]\n"
     ]
    }
   ],
   "source": [
    "matrix = np.array([\n",
    "    [5,10,15],[20,25,30],[35,40,45]\n",
    "])\n",
    "second_column_25 = matrix[:,1] == 25\n",
    "print(second_column_25)\n",
    "matrix[second_column_25,1] = 1000\n",
    "\n",
    "print(matrix)"
   ]
  },
  {
   "cell_type": "markdown",
   "metadata": {},
   "source": [
    "### Replacing Empty Strings\n",
    "\n",
    "Because world_alcohol currently has a **unicode datatype**, all of the values in the last column are strings. To add these values together or perform any other mathematical operations on them, we'll have to convert the data in the column to floats.\n",
    "\n",
    "If we try to convert empty data (`\"\"`) in the column to floats without removing these values first, we'll get a `ValueError``\n",
    "\n",
    "--> Replace empty values \"\" with 0 (in order to convert to float)"
   ]
  },
  {
   "cell_type": "code",
   "execution_count": 6,
   "metadata": {},
   "outputs": [
    {
     "name": "stdout",
     "output_type": "stream",
     "text": [
      "[['1985' 'Africa' 'Comoros' 'Other' '0']\n",
      " ['1986' 'Europe' 'Italy' 'Other' '0']\n",
      " ['1985' 'Europe' 'Lithuania' 'Other' '0']\n",
      " ..., \n",
      " ['1984' 'Europe' 'Czech Republic' 'Other' '0']\n",
      " ['1987' 'Americas' 'Canada' 'Other' '0']\n",
      " ['1986' 'Europe' 'Poland' 'Other' '0']]\n"
     ]
    }
   ],
   "source": [
    "empty_value = world_alcohol[:,4] == ''\n",
    "world_alcohol[empty_value,4] = 0\n",
    "\n",
    "print(world_alcohol[empty_value,:])"
   ]
  },
  {
   "cell_type": "markdown",
   "metadata": {},
   "source": [
    "We can now convert the last column to float values with the **astype()** method"
   ]
  },
  {
   "cell_type": "code",
   "execution_count": 7,
   "metadata": {},
   "outputs": [
    {
     "name": "stdout",
     "output_type": "stream",
     "text": [
      "[ 0.    0.5   1.62 ...,  2.54  0.    5.15]\n",
      "['0.0' '0.5' '1.62' ..., '2.54' '0.0' '5.15']\n"
     ]
    }
   ],
   "source": [
    "alcohol_consumption = world_alcohol[:,4]\n",
    "alcohol_consumption = alcohol_consumption.astype(float)\n",
    "\n",
    "#change original matrix\n",
    "world_alcohol[:,4] = world_alcohol[:,4].astype(float)\n",
    "\n",
    "print(alcohol_consumption)\n",
    "print(world_alcohol[:,4])"
   ]
  },
  {
   "cell_type": "markdown",
   "metadata": {},
   "source": [
    "## Computing with NumPy\n",
    "\n",
    "Now that alcohol_consumption consists of numeric values, we can perform computations on it. NumPy has a few **built-in methods** that operate on arrays. You can view all of them in the documentation. For now, here are a few important ones:\n",
    "\n",
    "* sum() -- Computes the sum of all the elements in a vector, or the sum along a dimension in a matrix\n",
    "* mean() -- Computes the average of all the elements in a vector, or the average along a dimension in a matrix\n",
    "* max() -- Identifies the maximum value among all the elements in a vector, or the maximum along a dimension in a matrix\n",
    "\n",
    "https://docs.scipy.org/doc/numpy-1.10.1/index.html"
   ]
  },
  {
   "cell_type": "code",
   "execution_count": 8,
   "metadata": {},
   "outputs": [
    {
     "name": "stdout",
     "output_type": "stream",
     "text": [
      "3908.96\n"
     ]
    }
   ],
   "source": [
    "print(alcohol_consumption.sum())"
   ]
  },
  {
   "cell_type": "code",
   "execution_count": 12,
   "metadata": {},
   "outputs": [
    {
     "name": "stdout",
     "output_type": "stream",
     "text": [
      "1.20017193737\n"
     ]
    }
   ],
   "source": [
    "print(alcohol_consumption.mean())"
   ]
  },
  {
   "cell_type": "code",
   "execution_count": 14,
   "metadata": {},
   "outputs": [
    {
     "name": "stdout",
     "output_type": "stream",
     "text": [
      "45\n"
     ]
    }
   ],
   "source": [
    "matrix = np.array([\n",
    "    [1,2,3],\n",
    "    [4,5,6],\n",
    "    [7,8,9]\n",
    "])\n",
    "print(matrix.sum())"
   ]
  },
  {
   "cell_type": "code",
   "execution_count": 22,
   "metadata": {},
   "outputs": [
    {
     "name": "stdout",
     "output_type": "stream",
     "text": [
      "[['1986' 'Americas' 'Canada' 'Other' '0.0']\n",
      " ['1986' 'Americas' 'Canada' 'Spirits' '3.11']\n",
      " ['1986' 'Americas' 'Canada' 'Beer' '4.87']\n",
      " ['1986' 'Americas' 'Canada' 'Wine' '1.33']]\n",
      "[ 0.    3.11  4.87  1.33]\n",
      "9.31\n"
     ]
    }
   ],
   "source": [
    "# Extract Canada's alcohol consumption in 1986, convert empty values to 0, convert all to float and sum it up\n",
    "\n",
    "\n",
    "canada_1986 = world_alcohol[((world_alcohol[:,2] == \"Canada\") & (world_alcohol[:,0] == \"1986\" )),:]\n",
    "print(canada_1986)\n",
    "\n",
    "\n",
    "canada_1986[(canada_1986[:,4] == ''),4] = 0\n",
    "\n",
    "canada_alcohol = canada_1986[:,4].astype(float)\n",
    "print(canada_alcohol)\n",
    "\n",
    "total_canadian_drinking = canada_alcohol.sum()\n",
    "print(total_canadian_drinking)"
   ]
  },
  {
   "cell_type": "markdown",
   "metadata": {},
   "source": [
    "Now that we know how to calculate the average consumption of all types of alcohol for a single country and year, we \n",
    "can scale up the process and make the same calculation for all countries in a given year. Here's a rough process:\n",
    "\n",
    "* Create an empty dictionary called totals.\n",
    "* Select only the rows in world_alcohol that match a given year. Assign the result to year.\n",
    "* Loop through a list of countries. For each country:\n",
    "  * Select only the rows from year that match the given country.\n",
    "  * Assign the result to country_consumption.\n",
    "  * Extract the fifth column from country_consumption.\n",
    "  * Replace any empty string values in the column with the string 0.\n",
    "  * Convert the column to the float data type.\n",
    "  * Find the sum of the column.\n",
    "  * Add the sum to the totals dictionary, with the country name as the key.\n",
    "* After the code executes, you'll have a dictionary containing all of the country names as keys, with the associated alcohol consumption totals as the values."
   ]
  },
  {
   "cell_type": "code",
   "execution_count": 33,
   "metadata": {},
   "outputs": [
    {
     "name": "stdout",
     "output_type": "stream",
     "text": [
      "[['1989' 'Americas' 'Canada' 'Wine' '1.27']\n",
      " ['1989' 'Americas' 'Canada' 'Spirits' '2.91']\n",
      " ['1989' 'Americas' 'Canada' 'Beer' '4.82']\n",
      " ['1989' 'Americas' 'Canada' 'Other' '0.0']]\n",
      "9.0\n",
      "[['1989' 'Europe' 'Germany' 'Other' '0.0']\n",
      " ['1989' 'Europe' 'Germany' 'Spirits' '2.43']\n",
      " ['1989' 'Europe' 'Germany' 'Beer' '8.47']\n",
      " ['1989' 'Europe' 'Germany' 'Wine' '3.74']]\n",
      "14.64\n"
     ]
    }
   ],
   "source": [
    "countries = [\"Canada\", \"Germany\"]\n",
    "totals = {}\n",
    "year = world_alcohol[(world_alcohol[:,0] == \"1989\"),:]\n",
    "\n",
    "for country in countries:\n",
    "    country_consumption = year[(year[:,2] == country),:]\n",
    "    print(country_consumption)\n",
    "    country_consumption[(country_consumption[:,4] == ''),4] = 0\n",
    "    print(country_consumption[:,4].astype(float).sum())\n",
    "    totals[country] = country_consumption[:,4].astype(float).sum()\n",
    "    "
   ]
  },
  {
   "cell_type": "code",
   "execution_count": 34,
   "metadata": {},
   "outputs": [
    {
     "name": "stdout",
     "output_type": "stream",
     "text": [
      "{'Canada': 9.0, 'Germany': 14.640000000000001}\n"
     ]
    }
   ],
   "source": [
    "print(totals)"
   ]
  },
  {
   "cell_type": "code",
   "execution_count": 37,
   "metadata": {},
   "outputs": [
    {
     "name": "stdout",
     "output_type": "stream",
     "text": [
      "Canada\n",
      "9.0\n",
      "Germany\n",
      "14.64\n"
     ]
    }
   ],
   "source": [
    "for row in totals:\n",
    "    print(row) #key\n",
    "    print(totals[row]) #value\n"
   ]
  },
  {
   "cell_type": "code",
   "execution_count": 40,
   "metadata": {},
   "outputs": [
    {
     "name": "stdout",
     "output_type": "stream",
     "text": [
      "Germany 14.64\n"
     ]
    }
   ],
   "source": [
    "#find max consumption in totals\n",
    "\n",
    "highest_value = 0\n",
    "highest_key = None\n",
    "\n",
    "for country in totals:\n",
    "    if totals[country] > highest_value:\n",
    "        highest_value = totals[country]\n",
    "        highest_key = country\n",
    "\n",
    "print(highest_key + ' ' + str(highest_value))"
   ]
  },
  {
   "cell_type": "code",
   "execution_count": null,
   "metadata": {
    "collapsed": true
   },
   "outputs": [],
   "source": []
  }
 ],
 "metadata": {
  "kernelspec": {
   "display_name": "Python 3",
   "language": "python",
   "name": "python3"
  },
  "language_info": {
   "codemirror_mode": {
    "name": "ipython",
    "version": 3
   },
   "file_extension": ".py",
   "mimetype": "text/x-python",
   "name": "python",
   "nbconvert_exporter": "python",
   "pygments_lexer": "ipython3",
   "version": "3.6.1"
  }
 },
 "nbformat": 4,
 "nbformat_minor": 2
}
