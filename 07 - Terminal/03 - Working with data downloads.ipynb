{
 "cells": [
  {
   "cell_type": "markdown",
   "metadata": {},
   "source": [
    "# Working with data downloads\n",
    "\n",
    "Almost all of the data you work with as a data scientist will come from a **remote source**, such as another website on the Internet. File downloads sometimes come in analysis-ready formats like CSV. At other times, the data will be in an archive format like TAR or ZIP. These formats compress files to reduce overall size, which makes them faster to download. Archive formats can also bundle multiple data files into a single archive file.\n",
    "\n",
    "## Data set\n",
    "\n",
    "The [data set](https://catalog.data.gov/dataset/civil-rights-data-collection-2013-14) we'll work with is called the **Civil Rights Data Collection**. It contains information on **educational achievement and opportunities in the U.S.**, broken down **by race and school**. For example, it records the racial composition of the students enrolled in advanced classes at each school. Each row represents a school, while each column records an indicator of academic achievement.\n",
    "\n",
    "### Unzipping\n",
    "Before we can load and analyze the data, we'll need to **extract the files that contain it from the archive file**, crdc201314csv.zip. We can call the unzip command on an archive file to extract the files within it."
   ]
  },
  {
   "cell_type": "code",
   "execution_count": 2,
   "metadata": {},
   "outputs": [],
   "source": [
    "# unzip crdc201314csv.zip"
   ]
  },
  {
   "cell_type": "markdown",
   "metadata": {},
   "source": [
    "This command will **extract all of the files from the archive** into the current directory. Once we've extracted the files inside an archive file, it's good practice to delete the original archive to save space."
   ]
  },
  {
   "cell_type": "markdown",
   "metadata": {},
   "source": [
    "Activate virtualenv with running \n",
    "\n",
    "```source /dataquest/system/env/python3/bin/activate```\n"
   ]
  },
  {
   "cell_type": "code",
   "execution_count": 18,
   "metadata": {},
   "outputs": [
    {
     "name": "stdout",
     "output_type": "stream",
     "text": [
      "program successfully executed\n"
     ]
    },
    {
     "name": "stderr",
     "output_type": "stream",
     "text": [
      "/Library/Frameworks/Python.framework/Versions/3.6/lib/python3.6/site-packages/IPython/core/interactiveshell.py:2683: DtypeWarning: Columns (3,4,9,26,27,28,33,34,533,1926) have mixed types. Specify dtype option on import or set low_memory=False.\n",
      "  interactivity=interactivity, compiler=compiler, result=result)\n"
     ]
    },
    {
     "name": "stdout",
     "output_type": "stream",
     "text": [
      "NO     94874\n",
      "YES      633\n",
      "Name: JJ, dtype: int64\n",
      "NO     91743\n",
      "YES     3749\n",
      "-5        15\n",
      "Name: SCH_STATUS_MAGNET, dtype: int64\n",
      "     TOT_ENR_F  TOT_ENR_M\n",
      "JJ                       \n",
      "NO    24317962   25677023\n",
      "YES       5791      34890\n"
     ]
    }
   ],
   "source": [
    "import pandas as pd\n",
    "\n",
    "\n",
    "\n",
    "if __name__ == \"__main__\":\n",
    "   print(\"program successfully executed\")\n",
    "   \n",
    "   contents = pd.read_csv(\"crdc201314csv/CRDC2013_14_SCH_content.csv\")\n",
    "   #print(contents.head(15))\n",
    "    \n",
    "   data = pd.read_csv(\"crdc201314csv/CRDC2013_14_SCH.csv\", encoding=\"Latin-1\")\n",
    "   \n",
    "   print(data['JJ'].value_counts())\n",
    "   print(data['SCH_STATUS_MAGNET'].value_counts())\n",
    "\n",
    "   print(pd.pivot_table(data, values=[\"TOT_ENR_M\", \"TOT_ENR_F\"], index=\"JJ\", aggfunc=\"sum\"))\n"
   ]
  },
  {
   "cell_type": "code",
   "execution_count": null,
   "metadata": {
    "collapsed": true
   },
   "outputs": [],
   "source": []
  }
 ],
 "metadata": {
  "kernelspec": {
   "display_name": "Python 3",
   "language": "python",
   "name": "python3"
  },
  "language_info": {
   "codemirror_mode": {
    "name": "ipython",
    "version": 3
   },
   "file_extension": ".py",
   "mimetype": "text/x-python",
   "name": "python",
   "nbconvert_exporter": "python",
   "pygments_lexer": "ipython3",
   "version": "3.6.1"
  }
 },
 "nbformat": 4,
 "nbformat_minor": 2
}
