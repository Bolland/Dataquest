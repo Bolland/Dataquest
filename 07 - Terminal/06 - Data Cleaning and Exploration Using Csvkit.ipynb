{
 "cells": [
  {
   "cell_type": "markdown",
   "metadata": {},
   "source": [
    "# The CSVKIT library\n",
    "The Csvkit library supercharges your workflow by adding 13 new command line tools specifically for working with CSV files. We'll focus on these 5 tools from Csvkit:\n",
    "\n",
    "* **csvstack**: for stacking rows from multiple CSV files.\n",
    "* **csvlook**: renders CSV in pretty table format.\n",
    "* **csvcut**: for selecting specific columns from a CSV file.\n",
    "* **csvstat**: for calculating descriptive statistics for some or all columns.\n",
    "* **csvgrep**: for filtering tabular data using specific criteria."
   ]
  },
  {
   "cell_type": "markdown",
   "metadata": {
    "collapsed": true
   },
   "source": [
    "## CSVSTACK\n",
    "\n",
    "if you want to be able to trace the file where each row originated from in the merged file, you can use the -g flag to specify a grouping value for each filename. When stacking the rows from a file, csvstack will add the corresponding value in a new column. Lastly, you can use the -n flag to specify the name of this new column. The following code will create a new column named origin, containing the values 1, 2, or 3 depending on which file that row originated from:\n",
    "\n",
    "```bash\n",
    "csvstack -n origin -g 1,2,3 file1.csv file2.csv file3.csv > final.csv\n",
    "```\n",
    "\n"
   ]
  },
  {
   "cell_type": "markdown",
   "metadata": {},
   "source": [
    "## CSVLOOK\n",
    "\n",
    "The csvlook tool parses CSV formatted data from it's stdin and outputs a pretty formatted table representation of that data to it's stdout:\n",
    "\n",
    "```bash\n",
    "head -10 final.csv | csvlook\n",
    "```\n",
    "\n"
   ]
  },
  {
   "cell_type": "markdown",
   "metadata": {},
   "source": [
    "## CSVCUT\n",
    "\n",
    "http://csvkit.readthedocs.io/en/0.9.1/scripts/csvcut.html\n",
    "Using the csvcut command with just the -n flag parses and displays all the columns in a CSV file along with an unique integer identifier for each column:\n",
    "\n",
    "```bash\n",
    "csvcut -n Combined_hud.csv\n",
    "```\n",
    "\n",
    "will output:\n",
    "```bash\n",
    "1: year\n",
    "2: AGE1\n",
    "3: BURDEN\n",
    "4: FMR\n",
    "5: FMTBEDRMS\n",
    "6: FMTBUILT\n",
    "7: TOTSAL\n",
    "```\n",
    "\n",
    "```bash\n",
    "csvcut -c 2 Combined_hud.csv | head -n 10     \n",
    "```\n",
    "\n",
    "displays the first 10 rows of the AGE column\n"
   ]
  },
  {
   "cell_type": "markdown",
   "metadata": {},
   "source": [
    "## CSVSTAT\n",
    "\n",
    "http://csvkit.readthedocs.io/en/0.9.1/scripts/csvstat.html#description\n",
    "Now that we know how to select specific columns, we can select a column and pipe it to the csvstat tool to calculate summary statistics for that column:\n",
    "\n",
    "```bash\n",
    "csvcut -c 4 Combined_hud.csv | csvstat\n",
    "```\n",
    "\n",
    "This calculates a full suite of summary statistics, including:\n",
    "\n",
    "* max,\n",
    "* min,\n",
    "* sum,\n",
    "* mean,\n",
    "* median,\n",
    "* standard deviation.\n",
    "\n",
    "Depending on the size of the data, the full summary statistics for a column can take a long time and you often just want a specific summary statistic. You can use -- flags to choose specific summary statistics, which will greatly improve the speed:\n",
    "\n",
    "```bash\n",
    "# Just the max value.\n",
    "csvcut -c 2 Combined_hud.csv | csvstat --max\n",
    "# Just the max value.\n",
    "csvcut -c 2 Combined_hud.csv | csvstat --max\n",
    "```\n",
    "\n",
    "If you want to calculate summary statistics over all the columns in a CSV file, you can pass the file to csvstat directly:\n",
    "\n",
    "```bash\n",
    "csvstat Combined_hud.csv\n",
    "```\n",
    "\n",
    "**Example**\n",
    "Using csvstat to calculate the full summary statistics for just the AGE1 column.\n",
    "\n",
    "```bash\n",
    "csvcut -c 2 Combined_hud.csv | csvstat                                \n",
    "  1. AGE1                                                                       \n",
    "        <class 'int'>                                                           \n",
    "        Nulls: False                                                            \n",
    "        Min: -9                                                                 \n",
    "        Max: 93                                                                 \n",
    "        Sum: 7168169                                                            \n",
    "        Mean: 46.511215505103266                                                \n",
    "        Median: 48                                                              \n",
    "        Standard Deviation: 23.04901451351246                                   \n",
    "        Unique values: 80                                                       \n",
    "        5 most frequent values:                                                 \n",
    "                -9:     11553                                                   \n",
    "                50:     3208                                                    \n",
    "                45:     3056                                                    \n",
    "                40:     3040                                                    \n",
    "                48:     3006                                                    \n",
    "                                                                                \n",
    "Row count: 154117                          \n",
    "```\n"
   ]
  },
  {
   "cell_type": "markdown",
   "metadata": {},
   "source": [
    "## CSVGREP\n",
    "You'll notice that -9 is the most common value in the AGE1 column, which is problematic since age values have to be greater than 0. We can use csvgrep to select all the rows that match a specific pattern to dive a bit deeper. By default, csvgrep will search all of the rows in the dataset but we can **restrict the search to specific columns using the -c flag** (just like with csvcut). We then use the **-m flag to specify the pattern**:\n",
    "\n",
    "```bash\n",
    "csvgrep -c 2 -m -9 Combined_hud.csv\n",
    "```\n",
    "\n",
    "**Example: **\n",
    "Displaying the first 10 rows where age is -9 in a nice format\n",
    "\n",
    "\n",
    "```bash\n",
    "csvgrep -c 2 -m -9 Combined_hud.csv | head -n 10 | csvlook            \n",
    "|-------+------+--------+------+-----------+-------------+---------|            \n",
    "|  year | AGE1 | BURDEN | FMR  | FMTBEDRMS | FMTBUILT    | TOTSAL  |            \n",
    "|-------+------+--------+------+-----------+-------------+---------|            \n",
    "|  2005 | -9   | -9.000 | 702  | '2 2BR'   | '1980-1989' | -9      |            \n",
    "|  2005 | -9   | -9.000 | 531  | '1 1BR'   | '1980-1989' | -9      |            \n",
    "|  2005 | -9   | -9.000 | 1034 | '3 3BR'   | '2000-2009' | -9      |            \n",
    "|  2005 | -9   | -9.000 | 631  | '1 1BR'   | '1980-1989' | -9      |            \n",
    "|  2005 | -9   | -9.000 | 712  | '4 4BR+'  | '1990-1999' | -9      |            \n",
    "|  2005 | -9   | -9.000 | 1006 | '3 3BR'   | '2000-2009' | -9      |            \n",
    "|  2005 | -9   | -9.000 | 631  | '1 1BR'   | '1980-1989' | -9      |            \n",
    "|  2005 | -9   | -9.000 | 712  | '3 3BR'   | '2000-2009' | -9      |            \n",
    "|  2005 | -9   | -9.000 | 1087 | '3 3BR'   | '2000-2009' | -9      |            \n",
    "|-------+------+--------+------+-----------+-------------+---------|       \n",
    "```\n",
    "\n",
    "### Filter with csvgrep\n",
    "\n",
    "Csvkit wasn't developed with a sharp focus on editing existing files, and the easiest way to filter rows is to create a separate file with just the rows we're interested in. To accomplish this, we can redirect the output of csvgrep to a file. \n",
    "Use the `-i`flag to invert the search. \n",
    "\n",
    "\n",
    "```bash\n",
    "csvgrep -c 2 -m -9 -i Combined_hud.csv > positive_ages_only.csv       \n",
    "```\n"
   ]
  },
  {
   "cell_type": "markdown",
   "metadata": {},
   "source": [
    "## Conclusion\n",
    "\n",
    "You learned how to use the csvkit library to explore and clean CSV files. You should use csvkit whenever you need to quickly transform or explore data from the command line, but remember that it has a few limitations:\n",
    "\n",
    "* Csvkit is not optimized for speed and struggles to run some commands over larger files.\n",
    "* Csvkit has very limited capabilities for actually editing problematic values in a dataset, since the community behind the library aspired to keep the library small and lightweight."
   ]
  },
  {
   "cell_type": "code",
   "execution_count": null,
   "metadata": {
    "collapsed": true
   },
   "outputs": [],
   "source": []
  }
 ],
 "metadata": {
  "kernelspec": {
   "display_name": "Python 3",
   "language": "python",
   "name": "python3"
  },
  "language_info": {
   "codemirror_mode": {
    "name": "ipython",
    "version": 3
   },
   "file_extension": ".py",
   "mimetype": "text/x-python",
   "name": "python",
   "nbconvert_exporter": "python",
   "pygments_lexer": "ipython3",
   "version": "3.6.1"
  }
 },
 "nbformat": 4,
 "nbformat_minor": 2
}
