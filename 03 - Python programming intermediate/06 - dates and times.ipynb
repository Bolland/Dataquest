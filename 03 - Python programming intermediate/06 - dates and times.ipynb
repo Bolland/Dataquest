{
 "cells": [
  {
   "cell_type": "markdown",
   "metadata": {},
   "source": [
    "# Time module\n",
    "The time module deals primarily with Unix timestamps.\n",
    "\n",
    "A Unix timestamp is a floating point value with no explicit mention of day, month, or year. This value represents the number of seconds that have passed since the \"epoch\", or the first second of the year 1970. So, a timestamp of 0.0 would represent the epoch, and a timestamp of 60.0 would represent one minute after the epoch. We can represent any date after 1970 this way.\n",
    "\n",
    "To retrieve the current Unix timestamp, we use the time.time() function.\n"
   ]
  },
  {
   "cell_type": "code",
   "execution_count": 7,
   "metadata": {},
   "outputs": [
    {
     "name": "stdout",
     "output_type": "stream",
     "text": [
      "1500214826.950572\n"
     ]
    }
   ],
   "source": [
    "import time\n",
    "print(time.time())"
   ]
  },
  {
   "cell_type": "markdown",
   "metadata": {},
   "source": [
    "We can convert a timestamp to a more human-readable form using the time.gmtime() function. This function takes a timestamp as an argument, and returns an instance of the struct_time class. struct_time instances have attributes that represent the current time in other ways.\n",
    "\n",
    "Here are some of the attributes:\n",
    "\n",
    "* **tm_year**: The year of the timestamp\n",
    "* **tm_mon**: The month of the timestamp (1-12)\n",
    "* **tm_mday**: The day in the month of the timestamp (1-31)\n",
    "* **tm_hour**: The hour of the timestamp (0-23)\n",
    "* **tm_min**: The minute of the timestamp (0-59)"
   ]
  },
  {
   "cell_type": "code",
   "execution_count": 9,
   "metadata": {},
   "outputs": [
    {
     "name": "stdout",
     "output_type": "stream",
     "text": [
      "14\n"
     ]
    }
   ],
   "source": [
    "import time\n",
    "current_time = time.time()\n",
    "current_struct_time = time.gmtime(current_time)\n",
    "current_hour = current_struct_time.tm_hour\n",
    "\n",
    "print(current_hour)"
   ]
  },
  {
   "cell_type": "markdown",
   "metadata": {},
   "source": [
    "## Datetime\n",
    "The datetime module offers better support for working extensively with dates.\n",
    "\n",
    "The datetime module contains a class that's also named datetime that represents points in time. These datetime instances appear similar to struct_time instances.\n",
    "\n",
    "We can return the current time as a datetime instance using the datetime.now() function.\n",
    "\n"
   ]
  },
  {
   "cell_type": "code",
   "execution_count": 15,
   "metadata": {},
   "outputs": [
    {
     "name": "stdout",
     "output_type": "stream",
     "text": [
      "2017-12-31 12:59:59\n"
     ]
    }
   ],
   "source": [
    "import datetime\n",
    "nye_2017 = datetime.datetime(year=2017, month=12, day=31, hour=12, minute=59, second=59)\n",
    "print(nye_2017)"
   ]
  },
  {
   "cell_type": "code",
   "execution_count": 16,
   "metadata": {},
   "outputs": [
    {
     "name": "stdout",
     "output_type": "stream",
     "text": [
      "2017-07-16 16:29:11.321329\n"
     ]
    }
   ],
   "source": [
    "now = datetime.datetime.now()\n",
    "print(now)"
   ]
  },
  {
   "cell_type": "markdown",
   "metadata": {},
   "source": [
    "Once we have a datetime instance that represents a specific point in time, we can use the following attributes to return more specific properties:\n",
    "* year: returns the year value as an integer.\n",
    "* month: returns the month value an integer.\n",
    "* day: returns the day value as an integer.\n",
    "* hour: returns the hour value as an integer.\n",
    "* minute: returns the minute value as an integer.\n",
    "* second: returns the second value as an integer.\n",
    "* microsecond: returns the microsecond value as an integer."
   ]
  },
  {
   "cell_type": "code",
   "execution_count": 20,
   "metadata": {},
   "outputs": [
    {
     "name": "stdout",
     "output_type": "stream",
     "text": [
      "2017\n",
      "11\n",
      "321329\n"
     ]
    }
   ],
   "source": [
    "print(now.year)\n",
    "print(now.second)\n",
    "print(now.microsecond)"
   ]
  },
  {
   "cell_type": "markdown",
   "metadata": {},
   "source": [
    "## Timedelta\n",
    "The datetime module provides the **timedelta class**, which we can create an instance of that **represents a span of time**, then add or subtract it from instances of the datetime class.\n",
    "\n",
    "When we create instances of the timedelta class, we can specify the following parameters:\n",
    "\n",
    "* weeks\n",
    "* days\n",
    "* hours\n",
    "* minutes\n",
    "* seconds\n",
    "* milliseconds\n",
    "* microseconds"
   ]
  },
  {
   "cell_type": "code",
   "execution_count": 23,
   "metadata": {},
   "outputs": [
    {
     "name": "stdout",
     "output_type": "stream",
     "text": [
      "2017-08-27 16:53:50.124101\n"
     ]
    }
   ],
   "source": [
    "today = datetime.datetime.now()\n",
    "diff = datetime.timedelta(weeks = 6, days = 0, minutes = 20)\n",
    "\n",
    "future_date = today + diff\n",
    "print(future_date)"
   ]
  },
  {
   "cell_type": "code",
   "execution_count": 33,
   "metadata": {},
   "outputs": [
    {
     "name": "stdout",
     "output_type": "stream",
     "text": [
      "46 days, 7:22:56.494147\n",
      "<class 'datetime.timedelta'>\n"
     ]
    }
   ],
   "source": [
    "today = datetime.datetime.now()\n",
    "sabbatical = datetime.datetime(year = 2017, month = 9, day = 1)\n",
    "\n",
    "# Substraction creates automatically datetime.timedelta\n",
    "time_to_go = sabbatical - today\n",
    "print(time_to_go)\n",
    "print(type(time_to_go))"
   ]
  },
  {
   "cell_type": "markdown",
   "metadata": {},
   "source": [
    "## Formatting\n",
    "\n",
    "Instead of displaying the full timestamp down to the microsecond, we can use the **`datetime.strftime()` method** to specify how we'd like the string output to be formatted.\n",
    "\n",
    "The `datetime.datetime.strftime()` method takes a format string as its input. A format string contains special indicators, usually preceded by percent characters (\"%\"), that indicate where certain values should go. For example, suppose we stored a timestamp from March 3, 2010 in the object march3. If we want to format it nicely into the string \"Mar 03, 2010\", we can write the following code:"
   ]
  },
  {
   "cell_type": "code",
   "execution_count": 34,
   "metadata": {},
   "outputs": [
    {
     "name": "stdout",
     "output_type": "stream",
     "text": [
      "Mar 03, 2010\n"
     ]
    }
   ],
   "source": [
    "march3 = datetime.datetime(year = 2010, month = 3, day = 3)\n",
    "pretty_march3 = march3.strftime(\"%b %d, %Y\")\n",
    "print(pretty_march3)"
   ]
  },
  {
   "cell_type": "code",
   "execution_count": 36,
   "metadata": {},
   "outputs": [
    {
     "name": "stdout",
     "output_type": "stream",
     "text": [
      "12:00AM on Thursday December 31, 2015\n"
     ]
    }
   ],
   "source": [
    "import datetime\n",
    "mystery_date = datetime.datetime(2015, 12, 31, 0, 0)\n",
    "\n",
    "mystery_date_formatted_string = mystery_date.strftime(\"%I:%M%p on %A %B %d, %Y\")\n",
    "print(mystery_date_formatted_string)"
   ]
  },
  {
   "cell_type": "markdown",
   "metadata": {},
   "source": [
    "## Parsing Data (String to date)\n",
    "\n",
    "### datetime.strptime()\n",
    "Just as we can convert a datetime object into a formatted string, we can also do the reverse. The `datetime.datetime.strptime()` function allows us to convert a string to a datetime instance. It requires two argeuments:\n",
    "1. The date string (e.g. \"Mar 03, 2010\")\n",
    "2. The format string (e.g. \"%b %d, %Y\")\n"
   ]
  },
  {
   "cell_type": "code",
   "execution_count": 39,
   "metadata": {},
   "outputs": [
    {
     "name": "stdout",
     "output_type": "stream",
     "text": [
      "2017-12-12 00:00:00\n"
     ]
    }
   ],
   "source": [
    "dezember12 = datetime.datetime.strptime(\"Dec 12, 2017\", \"%b %d, %Y\")\n",
    "print(dezember12)"
   ]
  },
  {
   "cell_type": "code",
   "execution_count": 45,
   "metadata": {},
   "outputs": [
    {
     "name": "stdout",
     "output_type": "stream",
     "text": [
      "2017-03-01 00:00:00\n",
      "2017-03-08 00:00:00\n"
     ]
    }
   ],
   "source": [
    "# playing around\n",
    "\n",
    "march1 = datetime.datetime.strptime(\"Mar 1, 2017\", \"%b %d, %Y\")\n",
    "print(march1)\n",
    "\n",
    "one_week_later = march1 + datetime.timedelta(weeks = 1)\n",
    "print(one_week_later)"
   ]
  },
  {
   "cell_type": "code",
   "execution_count": 47,
   "metadata": {},
   "outputs": [
    {
     "name": "stdout",
     "output_type": "stream",
     "text": [
      "2017, 08 Mar\n"
     ]
    }
   ],
   "source": [
    "one_week_later_reformatted = one_week_later.strftime(\"%Y, %d %b\")\n",
    "print(one_week_later_reformatted)"
   ]
  },
  {
   "cell_type": "code",
   "execution_count": 48,
   "metadata": {},
   "outputs": [
    {
     "name": "stdout",
     "output_type": "stream",
     "text": [
      "12:00AM on Thursday January 02, 2003\n",
      "2003-01-02 00:00:00\n"
     ]
    }
   ],
   "source": [
    "mystery_date_formatted_string = \"12:00AM on Thursday January 02, 2003\"\n",
    "print(mystery_date_formatted_string)\n",
    "\n",
    "mystery_date = datetime.datetime.strptime(mystery_date_formatted_string, \"%I:%M%p on %A %B %d, %Y\")\n",
    "print(mystery_date)"
   ]
  },
  {
   "cell_type": "markdown",
   "metadata": {},
   "source": [
    "### datetime.fromtimestamp()"
   ]
  },
  {
   "cell_type": "code",
   "execution_count": 50,
   "metadata": {},
   "outputs": [
    {
     "name": "stdout",
     "output_type": "stream",
     "text": [
      "2015-06-02 04:48:34\n"
     ]
    }
   ],
   "source": [
    "datetime_object = datetime.datetime.fromtimestamp(1433213314.0)\n",
    "print(datetime_object)"
   ]
  },
  {
   "cell_type": "code",
   "execution_count": 60,
   "metadata": {},
   "outputs": [],
   "source": [
    "import csv\n",
    "\n",
    "file = open(\"askreddit_2015.csv\", \"r\")\n",
    "posts = list(csv.reader(file))[1:]\n",
    "\n",
    "#print(posts)\n",
    "for post in posts:\n",
    "    post[2] = datetime.datetime.fromtimestamp(float(post[2]))\n",
    "\n"
   ]
  },
  {
   "cell_type": "markdown",
   "metadata": {},
   "source": [
    "### Playing around"
   ]
  },
  {
   "cell_type": "code",
   "execution_count": 63,
   "metadata": {},
   "outputs": [
    {
     "name": "stdout",
     "output_type": "stream",
     "text": [
      "59\n"
     ]
    }
   ],
   "source": [
    "## Count instances of months using datetime.month attribute\n",
    "march_count = 0\n",
    "\n",
    "for post in posts:\n",
    "    if post[2].month == 3:\n",
    "        march_count += 1\n",
    "print(march_count)"
   ]
  },
  {
   "cell_type": "code",
   "execution_count": null,
   "metadata": {
    "collapsed": true
   },
   "outputs": [],
   "source": []
  }
 ],
 "metadata": {
  "kernelspec": {
   "display_name": "Python 3",
   "language": "python",
   "name": "python3"
  },
  "language_info": {
   "codemirror_mode": {
    "name": "ipython",
    "version": 3
   },
   "file_extension": ".py",
   "mimetype": "text/x-python",
   "name": "python",
   "nbconvert_exporter": "python",
   "pygments_lexer": "ipython3",
   "version": "3.6.1"
  }
 },
 "nbformat": 4,
 "nbformat_minor": 2
}
