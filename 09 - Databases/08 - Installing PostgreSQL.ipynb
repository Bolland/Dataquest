{
 "cells": [
  {
   "cell_type": "markdown",
   "metadata": {},
   "source": [
    "# Installation\n",
    "\n",
    "During the setup process, you'll be asked to specify a default username and password. Select a username and password combination you'll remember since you're only installing PostgreSQL locally and don't need a highly secure combination.\n",
    "\n",
    "Also during installation, you may be asked to specify a port number. Even though PostgreSQL will be running on the same machine, other applications communciate with it through the port as if it were on a remote machine. Port number 5432 is the default for PostgreSQL.\n",
    "\n",
    "Here are the installation instructions for each operating system:\n",
    "\n",
    "## Mac:\n",
    "\n",
    "Download Postgres.app here, move to the Applications folder, and double click to launch. This applications runs in the background and you'll need it to be running to connect to it from Python. By default, PostgreSQL will run on port 5432.\n",
    "Add the following line to the end of ~/.bash_profile:\n",
    "\n",
    "```bash\n",
    "export PATH=$PATH:/Applications/Postgres.app/Contents/Versions/latest/bin\n",
    "Reset your terminal by executing source ~./bash_profile\n",
    "```\n",
    "\n",
    "## Linux / Ubuntu\n",
    "\n",
    "\n",
    "```bash\n",
    "apt-get install postgresql-10\n",
    "```\n",
    "\n",
    "## Test installation\n",
    "To test your installation, open your command line application, type psql, and you should be in the PostgreSQL shell.\n",
    "\n",
    "To login with the username, simply type `psql -U (your username)`. For example, if you're trying to access the database under user \"myuser\", you would use the following psql login command: `psql -U myuser`. After you execute the command, enter the password, when prompted, to successfully connect to the desired database.\n",
    "\n"
   ]
  },
  {
   "cell_type": "code",
   "execution_count": null,
   "metadata": {},
   "outputs": [],
   "source": []
  }
 ],
 "metadata": {
  "kernelspec": {
   "display_name": "Python 3",
   "language": "python",
   "name": "python3"
  },
  "language_info": {
   "codemirror_mode": {
    "name": "ipython",
    "version": 3
   },
   "file_extension": ".py",
   "mimetype": "text/x-python",
   "name": "python",
   "nbconvert_exporter": "python",
   "pygments_lexer": "ipython3",
   "version": "3.6.5"
  }
 },
 "nbformat": 4,
 "nbformat_minor": 2
}
