{
 "cells": [
  {
   "cell_type": "markdown",
   "metadata": {},
   "source": [
    "# Command line tool\n",
    "\n",
    "In this mission, we'll learn how to work with the PostgreSQL command line tool, called psql.\n",
    "https://www.postgresql.org/docs/9.4/static/app-psql.html\n",
    "\n",
    "psql is similar to the sqlite3 command line tool in that it allows you to connect to and manage databases. psql connects to a running PostgreSQL server process, then enables you to:\n",
    "* Run queries.\n",
    "* Manage users and permissions.\n",
    "* Manage databases.\n",
    "* See PostgreSQL system information.\n",
    "\n",
    "By default, psql will connect to a PostgreSQL server running on the current computer, using port 5432. If you don't specify a user and database to connect to, it will use the defaults.\n",
    "\n",
    "## Commands\n",
    "* Start interface with `psql`\n",
    "* exit using the `\\q` command.\n",
    "\n",
    "### Creating a db\n",
    "\n",
    "`psql`\n",
    "\n",
    "```SQL\n",
    "CREATE DATABASE bank_accoutns;\n",
    "```\n",
    "\n",
    "`\\q`\n"
   ]
  },
  {
   "cell_type": "code",
   "execution_count": null,
   "metadata": {},
   "outputs": [],
   "source": []
  }
 ],
 "metadata": {
  "kernelspec": {
   "display_name": "Python 3",
   "language": "python",
   "name": "python3"
  },
  "language_info": {
   "codemirror_mode": {
    "name": "ipython",
    "version": 3
   },
   "file_extension": ".py",
   "mimetype": "text/x-python",
   "name": "python",
   "nbconvert_exporter": "python",
   "pygments_lexer": "ipython3",
   "version": "3.6.5"
  }
 },
 "nbformat": 4,
 "nbformat_minor": 2
}
