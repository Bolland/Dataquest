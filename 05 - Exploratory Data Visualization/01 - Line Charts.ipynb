{
 "cells": [
  {
   "cell_type": "markdown",
   "metadata": {},
   "source": [
    "# Line Charts\n",
    "\n",
    "It's very difficult to explore a dataset to uncover patterns when it's represented as a table, especially when that dataset contains many values. We need a different representation of data that can help us identify patterns more easily.\n",
    "\n",
    "## Data set\n",
    "\n",
    "The United States Bureau of Labor Statistics (BLS) surveys and calculates the **monthly unemployment rate**. The unemployment rate is the percentage of individuals in the labor force without a job.\n",
    "\n",
    "The BLS releases monthly unemployment data available for download as an Excel file, with the .xlsx file extension. While the pandas library can read in XLSX files, it relies on an external library for actually parsing the format.\n",
    "\n",
    "When we read the dataset into a DataFrame, pandas will set the data type of the DATE column as a text column. Because of how pandas reads in strings internally, this column is given a data type of object. We need to convert this column to the datetime type using the pandas.to_datetime() function, which returns a Series object with the datetime data type that we can assign back to the DataFrame:"
   ]
  },
  {
   "cell_type": "code",
   "execution_count": 3,
   "metadata": {},
   "outputs": [
    {
     "name": "stdout",
     "output_type": "stream",
     "text": [
      "         DATE  VALUE\n",
      "0  1948-01-01    3.4\n",
      "1  1948-02-01    3.8\n",
      "2  1948-03-01    4.0\n",
      "3  1948-04-01    3.9\n",
      "4  1948-05-01    3.5\n",
      "        DATE  VALUE\n",
      "0 1948-01-01    3.4\n",
      "1 1948-02-01    3.8\n",
      "2 1948-03-01    4.0\n",
      "3 1948-04-01    3.9\n",
      "4 1948-05-01    3.5\n"
     ]
    }
   ],
   "source": [
    "import pandas as pd\n",
    "\n",
    "unrate = pd.read_csv('unrate.csv')\n",
    "print(unrate.head(5))\n",
    "\n",
    "unrate['DATE'] = pd.to_datetime(unrate['DATE'])\n",
    "print(unrate.head(5))\n"
   ]
  },
  {
   "cell_type": "markdown",
   "metadata": {},
   "source": [
    "The dataset contains 2 columns:\n",
    "\n",
    "* DATE: date, always the first of the month. Here are some examples:\n",
    " * 1948-01-01: January 1, 1948.\n",
    " * 1948-02-01: February 1, 1948.\n",
    " * 1948-03-01: March 1, 1948.\n",
    " * 1948-12-01: December 1, 1948.\n",
    "* VALUE: the corresponding unemployment rate, in percent."
   ]
  },
  {
   "cell_type": "markdown",
   "metadata": {},
   "source": [
    "# Matplotlib library\n",
    "\n",
    "To create the line chart, we'll use the **matplotlib library**, which allows us to:\n",
    "* quickly create common plots using high-level functions\n",
    "* extensively tweak plots\n",
    "* create new kinds of plots from the ground up\n",
    "\n",
    "When working with commonly used plots in matplotlib, the **general workflow** is:\n",
    "* create a plot using data\n",
    "* customize the appearance of the plot\n",
    "* display the plot\n",
    "* edit and repeat until satisfied\n",
    "\n",
    "By **default**, Matplotlib displayed a coordinate grid with:\n",
    "* the x-axis and y-axis values ranging from -0.06 to 0.06\n",
    "* no grid lines\n",
    "* no data"
   ]
  },
  {
   "cell_type": "code",
   "execution_count": 4,
   "metadata": {},
   "outputs": [
    {
     "data": {
      "image/png": "[encoded data removed]",
      "text/plain": [
       "<matplotlib.figure.Figure at 0x1087509e8>"
      ]
     },
     "metadata": {},
     "output_type": "display_data"
    }
   ],
   "source": [
    "\n",
    "import matplotlib.pyplot as plt\n",
    "#%matplotlib inline\n",
    "\n",
    "\n",
    "plt.plot()\n",
    "plt.show()"
   ]
  },
  {
   "cell_type": "markdown",
   "metadata": {},
   "source": [
    "## Plot unemplyoment rate\n",
    "\n",
    "To create a line chart of the unemployment data from 1948, we need:\n",
    "\n",
    "* the x-axis to range from 01-01-1948 to 12-01-1948 (which corresponds to the first and last months in 1948)\n",
    "* the y-axis to range from 3.4 to 4.0 (which correspond to the minimum and maximum unemployment values)\n",
    "\n",
    "`plt.plot(x_values, y_values)`\n",
    "\n",
    "Matplotlib will accept any iterable object, like NumPy arrays and pandas.Series instances.\n",
    "\n"
   ]
  },
  {
   "cell_type": "code",
   "execution_count": 5,
   "metadata": {},
   "outputs": [
    {
     "name": "stdout",
     "output_type": "stream",
     "text": [
      "<class 'pandas._libs.tslib.Timestamp'>\n"
     ]
    },
    {
     "data": {
      "text/plain": [
       "[<matplotlib.lines.Line2D at 0x10a077ba8>]"
      ]
     },
     "execution_count": 5,
     "metadata": {},
     "output_type": "execute_result"
    }
   ],
   "source": [
    "print(type(unrate['DATE'][0]))\n",
    "\n",
    "plt.plot(unrate['DATE'][:12],unrate['VALUE'][:12])"
   ]
  },
  {
   "cell_type": "code",
   "execution_count": 6,
   "metadata": {},
   "outputs": [
    {
     "data": {
      "image/png": "[encoded data removed]",
      "text/plain": [
       "<matplotlib.figure.Figure at 0x10a0562b0>"
      ]
     },
     "metadata": {},
     "output_type": "display_data"
    }
   ],
   "source": [
    "\n",
    "plt.plot(unrate['DATE'][:12],unrate['VALUE'][:12])\n",
    "plt.xticks(rotation=90)\n",
    "\n",
    "plt.xlabel('Month')\n",
    "plt.ylabel('Unemployment Rate')\n",
    "plt.title('Monthly Unemployment Trends, 1948')\n",
    "\n",
    "plt.show()"
   ]
  },
  {
   "cell_type": "code",
   "execution_count": null,
   "metadata": {
    "collapsed": true
   },
   "outputs": [],
   "source": []
  }
 ],
 "metadata": {
  "kernelspec": {
   "display_name": "Python 3",
   "language": "python",
   "name": "python3"
  },
  "language_info": {
   "codemirror_mode": {
    "name": "ipython",
    "version": 3
   },
   "file_extension": ".py",
   "mimetype": "text/x-python",
   "name": "python",
   "nbconvert_exporter": "python",
   "pygments_lexer": "ipython3",
   "version": "3.6.1"
  }
 },
 "nbformat": 4,
 "nbformat_minor": 2
}
