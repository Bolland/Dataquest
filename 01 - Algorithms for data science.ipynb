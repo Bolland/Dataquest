{
 "cells": [
  {
   "cell_type": "markdown",
   "metadata": {},
   "source": [
    "As algorithms become more complex, it's important to make sure the code remains modular.\n",
    "\n",
    "**Modular** code consists of smaller chunks that we can reuse for other things. The most common way to make code modular is to use functions.\n",
    "\n",
    "**Abstraction** is the idea that someone can use our code to perform an operation without having to worry about how we wrote or implemented it.\n",
    "\n",
    "The sum() function exhibits both modularity and abstraction. We don't know exactly how the function is implemented, and we don't need to; we only need to know what it does. That makes it abstract. It also saves us the work of having to manually compute sums in many parts of our code. That makes it modular.\n",
    "\n",
    "Now let's try writing a modular search function that can find the age of any player in our data set without having to repeat code.\n",
    "\n"
   ]
  },
  {
   "cell_type": "code",
   "execution_count": null,
   "metadata": {},
   "outputs": [],
   "source": [
    "import pandas as pd\n",
    "\n",
    "nba = pd.read_csv('nba_2013.csv')\n",
    "#print(nba)\n",
    "\n",
    "# When the algorithm finds Kobe in the data set, store his position in Kobe_position\n",
    "kobe_position = \"\"\n",
    "\n",
    "# Find Kobe in the data set\n",
    "for player in nba:\n",
    "    print(player)\n",
    "    if player[0] == \"Kobe Bryant\":\n",
    "        kobe_position = player['pos']\n",
    "        \n",
    "print(\"kobe_position: \"+kobe_position)"
   ]
  },
  {
   "cell_type": "code",
   "execution_count": null,
   "metadata": {},
   "outputs": [],
   "source": []
  },
  {
   "cell_type": "code",
   "execution_count": null,
   "metadata": {},
   "outputs": [],
   "source": []
  },
  {
   "cell_type": "code",
   "execution_count": null,
   "metadata": {},
   "outputs": [],
   "source": []
  },
  {
   "cell_type": "code",
   "execution_count": null,
   "metadata": {},
   "outputs": [],
   "source": []
  },
  {
   "cell_type": "code",
   "execution_count": null,
   "metadata": {},
   "outputs": [],
   "source": []
  },
  {
   "cell_type": "code",
   "execution_count": null,
   "metadata": {},
   "outputs": [],
   "source": []
  },
  {
   "cell_type": "code",
   "execution_count": null,
   "metadata": {},
   "outputs": [],
   "source": []
  },
  {
   "cell_type": "markdown",
   "metadata": {},
   "source": [
    "As algorithms become more complex, it's important to make sure the code remains modular.\n",
    "\n",
    "**Modular** code consists of smaller chunks that we can reuse for other things. The most common way to make code modular is to use functions.\n",
    "\n",
    "**Abstraction** is the idea that someone can use our code to perform an operation without having to worry about how we wrote or implemented it."
   ]
  },
  {
   "cell_type": "code",
   "execution_count": 11,
   "metadata": {},
   "outputs": [
    {
     "name": "stdout",
     "output_type": "stream",
     "text": [
      "player\n",
      "pos\n",
      "age\n",
      "bref_team_id\n",
      "g\n",
      "gs\n",
      "mp\n",
      "fg\n",
      "fga\n",
      "fg.\n",
      "x3p\n",
      "x3pa\n",
      "x3p.\n",
      "x2p\n",
      "x2pa\n",
      "x2p.\n",
      "efg.\n",
      "ft\n",
      "fta\n",
      "ft.\n",
      "orb\n",
      "drb\n",
      "trb\n",
      "ast\n",
      "stl\n",
      "blk\n",
      "tov\n",
      "pf\n",
      "pts\n",
      "season\n",
      "season_end\n",
      "player\n",
      "pos\n",
      "age\n",
      "bref_team_id\n",
      "g\n",
      "gs\n",
      "mp\n",
      "fg\n",
      "fga\n",
      "fg.\n",
      "x3p\n",
      "x3pa\n",
      "x3p.\n",
      "x2p\n",
      "x2pa\n",
      "x2p.\n",
      "efg.\n",
      "ft\n",
      "fta\n",
      "ft.\n",
      "orb\n",
      "drb\n",
      "trb\n",
      "ast\n",
      "stl\n",
      "blk\n",
      "tov\n",
      "pf\n",
      "pts\n",
      "season\n",
      "season_end\n",
      "player\n",
      "pos\n",
      "age\n",
      "bref_team_id\n",
      "g\n",
      "gs\n",
      "mp\n",
      "fg\n",
      "fga\n",
      "fg.\n",
      "x3p\n",
      "x3pa\n",
      "x3p.\n",
      "x2p\n",
      "x2pa\n",
      "x2p.\n",
      "efg.\n",
      "ft\n",
      "fta\n",
      "ft.\n",
      "orb\n",
      "drb\n",
      "trb\n",
      "ast\n",
      "stl\n",
      "blk\n",
      "tov\n",
      "pf\n",
      "pts\n",
      "season\n",
      "season_end\n",
      "-1\n",
      "-1\n",
      "-1\n"
     ]
    }
   ],
   "source": [
    "# modular search function\n",
    "\n",
    "#print(nba)\n",
    "\n",
    "# player_age returns the age of a player in our NBA data set\n",
    "def player_age(name):\n",
    "    for player in nba.iloc[:1]:\n",
    "        print(player)\n",
    "\n",
    "        if (player[0] == name):\n",
    "            return player[2]\n",
    "    return -1\n",
    "\n",
    "allen_age = player_age('Ray Allen')\n",
    "durant_age = player_age('Kevin Durant')\n",
    "shaq_age = player_age(\"Shaquille O'Neal\")\n",
    "\n",
    "print(allen_age)\n",
    "print(durant_age)\n",
    "print(shaq_age)"
   ]
  },
  {
   "cell_type": "code",
   "execution_count": null,
   "metadata": {},
   "outputs": [],
   "source": []
  },
  {
   "cell_type": "code",
   "execution_count": null,
   "metadata": {},
   "outputs": [],
   "source": []
  },
  {
   "cell_type": "code",
   "execution_count": null,
   "metadata": {},
   "outputs": [],
   "source": []
  },
  {
   "cell_type": "code",
   "execution_count": null,
   "metadata": {},
   "outputs": [],
   "source": []
  },
  {
   "cell_type": "code",
   "execution_count": null,
   "metadata": {},
   "outputs": [],
   "source": []
  },
  {
   "cell_type": "code",
   "execution_count": null,
   "metadata": {},
   "outputs": [],
   "source": []
  },
  {
   "cell_type": "code",
   "execution_count": null,
   "metadata": {},
   "outputs": [],
   "source": []
  },
  {
   "cell_type": "code",
   "execution_count": null,
   "metadata": {},
   "outputs": [],
   "source": []
  },
  {
   "cell_type": "code",
   "execution_count": null,
   "metadata": {},
   "outputs": [],
   "source": []
  },
  {
   "cell_type": "code",
   "execution_count": null,
   "metadata": {},
   "outputs": [],
   "source": []
  },
  {
   "cell_type": "code",
   "execution_count": null,
   "metadata": {},
   "outputs": [],
   "source": []
  },
  {
   "cell_type": "code",
   "execution_count": null,
   "metadata": {},
   "outputs": [],
   "source": []
  },
  {
   "cell_type": "code",
   "execution_count": null,
   "metadata": {},
   "outputs": [],
   "source": []
  },
  {
   "cell_type": "code",
   "execution_count": null,
   "metadata": {},
   "outputs": [],
   "source": []
  },
  {
   "cell_type": "code",
   "execution_count": null,
   "metadata": {},
   "outputs": [],
   "source": []
  },
  {
   "cell_type": "code",
   "execution_count": null,
   "metadata": {},
   "outputs": [],
   "source": []
  },
  {
   "cell_type": "code",
   "execution_count": null,
   "metadata": {},
   "outputs": [],
   "source": []
  },
  {
   "cell_type": "code",
   "execution_count": null,
   "metadata": {},
   "outputs": [],
   "source": []
  }
 ],
 "metadata": {
  "kernelspec": {
   "display_name": "Python 3",
   "language": "python",
   "name": "python3"
  },
  "language_info": {
   "codemirror_mode": {
    "name": "ipython",
    "version": 3
   },
   "file_extension": ".py",
   "mimetype": "text/x-python",
   "name": "python",
   "nbconvert_exporter": "python",
   "pygments_lexer": "ipython3",
   "version": "3.7.0"
  }
 },
 "nbformat": 4,
 "nbformat_minor": 2
}
